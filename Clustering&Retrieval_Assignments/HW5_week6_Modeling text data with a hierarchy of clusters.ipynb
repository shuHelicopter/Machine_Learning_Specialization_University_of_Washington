{
 "cells": [
  {
   "cell_type": "markdown",
   "metadata": {},
   "source": [
    "# HW5_week6_Modeling text data with a hierarchy of clusters"
   ]
  },
  {
   "cell_type": "code",
   "execution_count": 11,
   "metadata": {
    "collapsed": true
   },
   "outputs": [],
   "source": [
    "import pandas as pd\n",
    "import matplotlib.pyplot as plt\n",
    "import numpy as np\n",
    "from scipy.sparse import csr_matrix\n",
    "from sklearn.cluster import KMeans                # we'll be using scikit-learn's KMeans for this assignment\n",
    "from sklearn.metrics import pairwise_distances\n",
    "from sklearn.preprocessing import normalize\n",
    "import json\n",
    "%matplotlib inline"
   ]
  },
  {
   "cell_type": "markdown",
   "metadata": {},
   "source": [
    "### 1. Data Preprocessing "
   ]
  },
  {
   "cell_type": "code",
   "execution_count": 3,
   "metadata": {
    "collapsed": true
   },
   "outputs": [],
   "source": [
    "wiki = pd.read_csv('people_wiki.csv')"
   ]
  },
  {
   "cell_type": "markdown",
   "metadata": {},
   "source": [
    "Load the TF-IDF vectors:"
   ]
  },
  {
   "cell_type": "code",
   "execution_count": 17,
   "metadata": {
    "collapsed": true
   },
   "outputs": [],
   "source": [
    "def load_sparse_csr(filename):\n",
    "    loader = np.load(filename)\n",
    "    data = loader['data']\n",
    "    indices = loader['indices']\n",
    "    indptr = loader['indptr']\n",
    "    shape = loader['shape']\n",
    "    \n",
    "    return csr_matrix( (data, indices, indptr), shape)\n",
    "\n",
    "tf_idf = load_sparse_csr('people_wiki_tf_idf.npz')"
   ]
  },
  {
   "cell_type": "code",
   "execution_count": 13,
   "metadata": {
    "collapsed": false
   },
   "outputs": [],
   "source": [
    "with open ('people_wiki_map_index_to_word.json', 'r') as f:\n",
    "    map_index_to_word = json.load(f)"
   ]
  },
  {
   "cell_type": "code",
   "execution_count": 18,
   "metadata": {
    "collapsed": false
   },
   "outputs": [],
   "source": [
    "tf_idf = normalize(tf_idf) # x / sqrt(sum(x^2))"
   ]
  },
  {
   "cell_type": "markdown",
   "metadata": {},
   "source": [
    "### 2. Implement modeling"
   ]
  },
  {
   "cell_type": "markdown",
   "metadata": {},
   "source": [
    "Rather than passing around the three variables separately, we package them into a Python dictionary. The wrapper function takes a single dictionary (representing a parent cluster) and returns two dictionaries (representing the child clusters)."
   ]
  },
  {
   "cell_type": "code",
   "execution_count": 31,
   "metadata": {
    "collapsed": true
   },
   "outputs": [],
   "source": [
    "def bipartition(cluster, maxiter = 400, num_runs = 4, seed = None):\n",
    "    '''cluster: should be a dictionary containing the following keys\n",
    "                * dataframe: original dataframe\n",
    "                * matrix:    same data, in matrix format\n",
    "                * centroid:  centroid for this particular cluster'''\n",
    "    \n",
    "    data_matrix = cluster['matrix']\n",
    "    dataframe   = cluster['dataframe']\n",
    "    \n",
    "    # Run k-means on the data matrix with k=2. We use scikit-learn here to simplify workflow.\n",
    "    kmeans_model = KMeans(n_clusters=2, max_iter=maxiter, n_init=num_runs, random_state=seed, n_jobs=1)    \n",
    "    kmeans_model.fit(data_matrix)\n",
    "    centroids, cluster_assignment = kmeans_model.cluster_centers_, kmeans_model.labels_\n",
    "    \n",
    "    # Divide the data matrix into two parts using the cluster assignments.\n",
    "    data_matrix_left_child, data_matrix_right_child = data_matrix[cluster_assignment==0], \\\n",
    "                                                      data_matrix[cluster_assignment==1]\n",
    "    \n",
    "    # Divide the dataframe into two parts, again using the cluster assignments.\n",
    "    cluster_assignment_sa = np.array(cluster_assignment) # minor format conversion\n",
    "    dataframe_left_child, dataframe_right_child     = dataframe[cluster_assignment_sa==0], \\\n",
    "                                                      dataframe[cluster_assignment_sa==1]\n",
    "        \n",
    "    \n",
    "    # Package relevant variables for the child clusters\n",
    "    cluster_left_child  = {'matrix': data_matrix_left_child,\n",
    "                           'dataframe': dataframe_left_child,\n",
    "                           'centroid': centroids[0]}\n",
    "    cluster_right_child = {'matrix': data_matrix_right_child,\n",
    "                           'dataframe': dataframe_right_child,\n",
    "                           'centroid': centroids[1]}\n",
    "    \n",
    "    return (cluster_left_child, cluster_right_child)"
   ]
  },
  {
   "cell_type": "code",
   "execution_count": 32,
   "metadata": {
    "collapsed": false
   },
   "outputs": [],
   "source": [
    "wiki_data = {'matrix': tf_idf, 'dataframe': wiki} # no 'centroid' for the root cluster\n",
    "left_child, right_child = bipartition(wiki_data, maxiter = 100, num_runs = 6, seed = 1)"
   ]
  },
  {
   "cell_type": "code",
   "execution_count": 33,
   "metadata": {
    "collapsed": false
   },
   "outputs": [
    {
     "name": "stdout",
     "output_type": "stream",
     "text": [
      "{'centroid': array([  0.00000000e+00,   8.57526623e-06,   0.00000000e+00, ...,\n",
      "         1.38560691e-04,   6.46049863e-05,   2.26551103e-05]), 'matrix': <11510x547979 sparse matrix of type '<type 'numpy.float64'>'\n",
      "\twith 1885831 stored elements in Compressed Sparse Row format>, 'dataframe':                                                      URI  \\\n",
      "0            <http://dbpedia.org/resource/Digby_Morrell>   \n",
      "17     <http://dbpedia.org/resource/Paddy_Dunne_(Gael...   \n",
      "21           <http://dbpedia.org/resource/Ceiron_Thomas>   \n",
      "22            <http://dbpedia.org/resource/Adel_Sellimi>   \n",
      "25             <http://dbpedia.org/resource/Vic_Stasiuk>   \n",
      "28            <http://dbpedia.org/resource/Leon_Hapgood>   \n",
      "30               <http://dbpedia.org/resource/Dom_Flora>   \n",
      "33               <http://dbpedia.org/resource/Bob_Reece>   \n",
      "41     <http://dbpedia.org/resource/Bob_Adams_(Americ...   \n",
      "48              <http://dbpedia.org/resource/Marc_Logan>   \n",
      "49          <http://dbpedia.org/resource/Corey_Woolfolk>   \n",
      "63              <http://dbpedia.org/resource/Alan_Roper>   \n",
      "75      <http://dbpedia.org/resource/Vladimir_Yurchenko>   \n",
      "78           <http://dbpedia.org/resource/Doug_McIntosh>   \n",
      "92            <http://dbpedia.org/resource/Shaka_Hislop>   \n",
      "95            <http://dbpedia.org/resource/Steve_Castle>   \n",
      "99              <http://dbpedia.org/resource/Dean_Greig>   \n",
      "101    <http://dbpedia.org/resource/James_Stewart_(Am...   \n",
      "102       <http://dbpedia.org/resource/Fredrik_Jacobson>   \n",
      "105     <http://dbpedia.org/resource/Juan_Pablo_Montoya>   \n",
      "114            <http://dbpedia.org/resource/Al_Hairston>   \n",
      "116             <http://dbpedia.org/resource/Ron_Shuman>   \n",
      "118    <http://dbpedia.org/resource/Bill_Young_(Austr...   \n",
      "122    <http://dbpedia.org/resource/Se%C3%A1n_%C3%93g...   \n",
      "123        <http://dbpedia.org/resource/Mike_Trebilcock>   \n",
      "137          <http://dbpedia.org/resource/Daniel_Falzon>   \n",
      "145          <http://dbpedia.org/resource/Cameron_Sharp>   \n",
      "151              <http://dbpedia.org/resource/Gary_Fila>   \n",
      "152    <http://dbpedia.org/resource/Roger_James_(foot...   \n",
      "153      <http://dbpedia.org/resource/Aled_de_Malmanche>   \n",
      "...                                                  ...   \n",
      "58932  <http://dbpedia.org/resource/Kevin_Clark_(bask...   \n",
      "58933         <http://dbpedia.org/resource/Justin_Huish>   \n",
      "58940           <http://dbpedia.org/resource/Lamar_King>   \n",
      "58941        <http://dbpedia.org/resource/Tyler_Lockett>   \n",
      "58943    <http://dbpedia.org/resource/Bernadette_Benson>   \n",
      "58944        <http://dbpedia.org/resource/Blake_Russell>   \n",
      "58949           <http://dbpedia.org/resource/Marc_Sneyd>   \n",
      "58950           <http://dbpedia.org/resource/John_Arigo>   \n",
      "58954         <http://dbpedia.org/resource/Paul_Foytack>   \n",
      "58960     <http://dbpedia.org/resource/Sergey_Erzrumyan>   \n",
      "58962  <http://dbpedia.org/resource/David_Leslie_(rug...   \n",
      "58968            <http://dbpedia.org/resource/Kurt_Luby>   \n",
      "58969         <http://dbpedia.org/resource/Ray_Daviault>   \n",
      "58982  <http://dbpedia.org/resource/Jeff_Gray_(baseba...   \n",
      "58985  <http://dbpedia.org/resource/Craig_Davis_(Aust...   \n",
      "58987         <http://dbpedia.org/resource/Mike_Bruhert>   \n",
      "58988         <http://dbpedia.org/resource/Jack_Swagger>   \n",
      "58992             <http://dbpedia.org/resource/Jim_Eddy>   \n",
      "58993  <http://dbpedia.org/resource/Edgar_Renter%C3%ADa>   \n",
      "59003    <http://dbpedia.org/resource/Beth_Dunkenberger>   \n",
      "59007            <http://dbpedia.org/resource/Brad_Huse>   \n",
      "59010         <http://dbpedia.org/resource/Kaid_Mohamed>   \n",
      "59018  <http://dbpedia.org/resource/Jim_Casey_(footba...   \n",
      "59026  <http://dbpedia.org/resource/Richard_Thompson_...   \n",
      "59028         <http://dbpedia.org/resource/Eric_Naposki>   \n",
      "59051     <http://dbpedia.org/resource/Geoffrey_Kipsang>   \n",
      "59052         <http://dbpedia.org/resource/Dave_Nilsson>   \n",
      "59065  <http://dbpedia.org/resource/Dee_Brown_(basket...   \n",
      "59068  <http://dbpedia.org/resource/David_Cass_(footb...   \n",
      "59069          <http://dbpedia.org/resource/Keith_Elias>   \n",
      "\n",
      "                                           name  \\\n",
      "0                                 Digby Morrell   \n",
      "17              Paddy Dunne (Gaelic footballer)   \n",
      "21                                Ceiron Thomas   \n",
      "22                                 Adel Sellimi   \n",
      "25                                  Vic Stasiuk   \n",
      "28                                 Leon Hapgood   \n",
      "30                                    Dom Flora   \n",
      "33                                    Bob Reece   \n",
      "41                Bob Adams (American football)   \n",
      "48                                   Marc Logan   \n",
      "49                               Corey Woolfolk   \n",
      "63                                   Alan Roper   \n",
      "75                           Vladimir Yurchenko   \n",
      "78                                Doug McIntosh   \n",
      "92                                 Shaka Hislop   \n",
      "95                                 Steve Castle   \n",
      "99                                   Dean Greig   \n",
      "101           James Stewart (American football)   \n",
      "102                            Fredrik Jacobson   \n",
      "105                          Juan Pablo Montoya   \n",
      "114                                 Al Hairston   \n",
      "116                                  Ron Shuman   \n",
      "118    Bill Young (Australian rules footballer)   \n",
      "122       Se%C3%A1n %C3%93g %C3%93 hAilp%C3%ADn   \n",
      "123                             Mike Trebilcock   \n",
      "137                               Daniel Falzon   \n",
      "145                               Cameron Sharp   \n",
      "151                                   Gary Fila   \n",
      "152                    Roger James (footballer)   \n",
      "153                           Aled de Malmanche   \n",
      "...                                         ...   \n",
      "58932                  Kevin Clark (basketball)   \n",
      "58933                              Justin Huish   \n",
      "58940                                Lamar King   \n",
      "58941                             Tyler Lockett   \n",
      "58943                         Bernadette Benson   \n",
      "58944                             Blake Russell   \n",
      "58949                                Marc Sneyd   \n",
      "58950                                John Arigo   \n",
      "58954                              Paul Foytack   \n",
      "58960                          Sergey Erzrumyan   \n",
      "58962                David Leslie (rugby union)   \n",
      "58968                                 Kurt Luby   \n",
      "58969                              Ray Daviault   \n",
      "58982           Jeff Gray (baseball, born 1963)   \n",
      "58985       Craig Davis (Australian footballer)   \n",
      "58987                              Mike Bruhert   \n",
      "58988                              Jack Swagger   \n",
      "58992                                  Jim Eddy   \n",
      "58993                       Edgar Renter%C3%ADa   \n",
      "59003                         Beth Dunkenberger   \n",
      "59007                                 Brad Huse   \n",
      "59010                              Kaid Mohamed   \n",
      "59018                    Jim Casey (footballer)   \n",
      "59026  Richard Thompson (footballer, born 1969)   \n",
      "59028                              Eric Naposki   \n",
      "59051                          Geoffrey Kipsang   \n",
      "59052                              Dave Nilsson   \n",
      "59065         Dee Brown (basketball, born 1968)   \n",
      "59068                   David Cass (footballer)   \n",
      "59069                               Keith Elias   \n",
      "\n",
      "                                                    text  \n",
      "0      digby morrell born 10 october 1979 is a former...  \n",
      "17     paddy dunne was a gaelic football player from ...  \n",
      "21     ceiron thomas born 23 october 1983 is a welsh ...  \n",
      "22     adel sellimi arabic was born on 16 november 19...  \n",
      "25     victor john stasiuk born may 23 1929 is a reti...  \n",
      "28     leon duane hapgood born 7 august 1979is an eng...  \n",
      "30     dominick a dom flora born june 12 1935 is an a...  \n",
      "33     robert scott reece born january 5 1951 is an a...  \n",
      "41     robert bruce bob adams born august 15 1946 in ...  \n",
      "48     marc anthony logan born may 9 1965 is a former...  \n",
      "49     corey woolfolk born february 26 1983 in ann ar...  \n",
      "63     alan roper born may 1939 in tipton staffordshi...  \n",
      "75     uladzimir vasilyevich yurchanka belarusian rus...  \n",
      "78     doug mcinstosh is a retired american basketbal...  \n",
      "92     neil shaka hislop cm born 22 february 1969 is ...  \n",
      "95     steve castle born 17 may 1966 in barking is a ...  \n",
      "99     dean greig born 31 october 1968 is a former au...  \n",
      "101    james ottis stewart born december 27 1971 is a...  \n",
      "102    fredrik ulf yngve jacobson born 26 september 1...  \n",
      "105    juan pablo montoya roldn born september 20 197...  \n",
      "114    alan leroy al hairston born december 11 1945 i...  \n",
      "116    ron shuman born september 15 1952 is an americ...  \n",
      "118    william d bill young born 6 june 1931 is a for...  \n",
      "122    sen g hailpn born 22 may 1977 is a fijianirish...  \n",
      "123    michael mike trebilcock born 29 november 1944 ...  \n",
      "137    daniel lawson falzon born 16 march 1994 is a p...  \n",
      "145    robert cameron sharp born 3 june 1958 is a sco...  \n",
      "151    gary fila born 18 november 1981 is australian ...  \n",
      "152    roger james born 21 october 1975 is a former a...  \n",
      "153    aled peter de malmanche born 11 september 1984...  \n",
      "...                                                  ...  \n",
      "58932  kevin clark is an assistant mens basketball co...  \n",
      "58933  justin huish is an american double olympic cha...  \n",
      "58940  lamar king born august 10 1975 is a former ame...  \n",
      "58941  tyler lockett born september 28 1992 is an ame...  \n",
      "58943  bernadette benson is a canadian born athlete s...  \n",
      "58944  blake russell ne phillips born july 24 1975 is...  \n",
      "58949  marc sneyd is an english professional rugby le...  \n",
      "58950  john hartley ward arigo born december 10 1978 ...  \n",
      "58954  paul eugene foytack born november 16 1930 in s...  \n",
      "58960  sergey erzrumyan born on 22 november 1980 is a...  \n",
      "58962  david leslie born 14 april 1952 is a former sc...  \n",
      "58968  kurt luby born 6 march 1963 in bolton lancashi...  \n",
      "58969  raymond joseph robert daviault born may 27 193...  \n",
      "58982  jeffrey edward gray born april 10 1963 in rich...  \n",
      "58985  craig davis born 2 october 1954 in ross tasman...  \n",
      "58987  michael edwin bruhert born june 21 1951 is a f...  \n",
      "58988  donald jacob jake hager born march 24 1982 is ...  \n",
      "58992  jim eddy is a football coach who worked in the...  \n",
      "58993  edgar enrique rentera herazo spanish pronuncia...  \n",
      "59003  beth dunkenberger is in her second season with...  \n",
      "59007  brad huse born june 27 1966 is an american col...  \n",
      "59010  kaid yusef mohamed born 23 july 1984 is a wels...  \n",
      "59018  jim casey born august 2 1957 in glasgow is a r...  \n",
      "59026  richard john thompson born 11 april 1969 in ha...  \n",
      "59028  eric andrew naposki born december 20 1966 is a...  \n",
      "59051  geoffrey kipsang kamworor born 22 november 199...  \n",
      "59052  david wayne nilsson born 14 december 1969 is a...  \n",
      "59065  decovan kadell dee brown born november 29 1968...  \n",
      "59068  david william royce cass born 27 march 1962 in...  \n",
      "59069  keith hector elias born february 3 1972 in lac...  \n",
      "\n",
      "[11510 rows x 3 columns]}\n",
      "{'centroid': array([  3.00882137e-06,   0.00000000e+00,   2.88868244e-06, ...,\n",
      "         1.10291526e-04,   9.00609890e-05,   2.03703564e-05]), 'matrix': <47561x547979 sparse matrix of type '<type 'numpy.float64'>'\n",
      "\twith 8493452 stored elements in Compressed Sparse Row format>, 'dataframe':                                                      URI  \\\n",
      "1           <http://dbpedia.org/resource/Alfred_J._Lewy>   \n",
      "2            <http://dbpedia.org/resource/Harpdog_Brown>   \n",
      "3      <http://dbpedia.org/resource/Franz_Rottensteiner>   \n",
      "4                   <http://dbpedia.org/resource/G-Enka>   \n",
      "5            <http://dbpedia.org/resource/Sam_Henderson>   \n",
      "6            <http://dbpedia.org/resource/Aaron_LaCrate>   \n",
      "7          <http://dbpedia.org/resource/Trevor_Ferguson>   \n",
      "8             <http://dbpedia.org/resource/Grant_Nelson>   \n",
      "9             <http://dbpedia.org/resource/Cathy_Caruth>   \n",
      "10            <http://dbpedia.org/resource/Sophie_Crumb>   \n",
      "11           <http://dbpedia.org/resource/Jenn_Ashworth>   \n",
      "12        <http://dbpedia.org/resource/Jonathan_Hoefler>   \n",
      "13     <http://dbpedia.org/resource/Anthony_Gueterboc...   \n",
      "14      <http://dbpedia.org/resource/David_Chernushenko>   \n",
      "15          <http://dbpedia.org/resource/Joerg_Steineck>   \n",
      "16          <http://dbpedia.org/resource/Andrew_Pinsent>   \n",
      "18       <http://dbpedia.org/resource/Alexandros_Mouzas>   \n",
      "19     <http://dbpedia.org/resource/John_Angus_Campbell>   \n",
      "20          <http://dbpedia.org/resource/Chris_Batstone>   \n",
      "23           <http://dbpedia.org/resource/Faith_Soloway>   \n",
      "24            <http://dbpedia.org/resource/Tom_Jennings>   \n",
      "26         <http://dbpedia.org/resource/Anthony_Caruana>   \n",
      "27     <http://dbpedia.org/resource/Ian_Mitchell_(aut...   \n",
      "29            <http://dbpedia.org/resource/Emily_Osment>   \n",
      "31     <http://dbpedia.org/resource/Ted_Hill_(mathema...   \n",
      "32         <http://dbpedia.org/resource/Mindaugas_Murza>   \n",
      "34          <http://dbpedia.org/resource/Douglas_Davies>   \n",
      "35     <http://dbpedia.org/resource/Freimut_B%C3%B6rn...   \n",
      "36     <http://dbpedia.org/resource/Th%C3%BCring_Br%C...   \n",
      "37         <http://dbpedia.org/resource/Aharon_Solomons>   \n",
      "...                                                  ...   \n",
      "59036        <http://dbpedia.org/resource/Sabitri_Mitra>   \n",
      "59037     <http://dbpedia.org/resource/Roni_Lynn_Deutch>   \n",
      "59038           <http://dbpedia.org/resource/Simon_Vega>   \n",
      "59039          <http://dbpedia.org/resource/Cho_Oh-hyun>   \n",
      "59040  <http://dbpedia.org/resource/Gail_Kulick_Jackson>   \n",
      "59041          <http://dbpedia.org/resource/Mokob%C3%A9>   \n",
      "59042      <http://dbpedia.org/resource/F._Enzio_Busche>   \n",
      "59043      <http://dbpedia.org/resource/Christian_Wiman>   \n",
      "59044  <http://dbpedia.org/resource/Ellyn_Setnor_Bogd...   \n",
      "59045          <http://dbpedia.org/resource/Katya_Adler>   \n",
      "59046   <http://dbpedia.org/resource/Anthony-Noel_Kelly>   \n",
      "59047       <http://dbpedia.org/resource/Mignon_Clyburn>   \n",
      "59048    <http://dbpedia.org/resource/Charles_A._Miller>   \n",
      "59049       <http://dbpedia.org/resource/Rodolfo_Parada>   \n",
      "59050  <http://dbpedia.org/resource/Giwi_Margwelaschw...   \n",
      "59053       <http://dbpedia.org/resource/Jessica_Jordan>   \n",
      "59054     <http://dbpedia.org/resource/Marina_Mulyayeva>   \n",
      "59055  <http://dbpedia.org/resource/Jo%C3%ABl_de_Rosnay>   \n",
      "59056          <http://dbpedia.org/resource/Amy_Jenkins>   \n",
      "59057  <http://dbpedia.org/resource/Roy_Zimmerman_(sa...   \n",
      "59058        <http://dbpedia.org/resource/George_Krause>   \n",
      "59059           <http://dbpedia.org/resource/Sean_Slade>   \n",
      "59060         <http://dbpedia.org/resource/Lynne_Lipton>   \n",
      "59061             <http://dbpedia.org/resource/Rod_Wilt>   \n",
      "59062  <http://dbpedia.org/resource/Scott_Baker_(judge)>   \n",
      "59063  <http://dbpedia.org/resource/Dragoljub_Ojdani%...   \n",
      "59064            <http://dbpedia.org/resource/Oz_Bengur>   \n",
      "59066           <http://dbpedia.org/resource/Olari_Elts>   \n",
      "59067       <http://dbpedia.org/resource/Scott_F._Crago>   \n",
      "59070         <http://dbpedia.org/resource/Fawaz_Damrah>   \n",
      "\n",
      "                                          name  \\\n",
      "1                               Alfred J. Lewy   \n",
      "2                                Harpdog Brown   \n",
      "3                          Franz Rottensteiner   \n",
      "4                                       G-Enka   \n",
      "5                                Sam Henderson   \n",
      "6                                Aaron LaCrate   \n",
      "7                              Trevor Ferguson   \n",
      "8                                 Grant Nelson   \n",
      "9                                 Cathy Caruth   \n",
      "10                                Sophie Crumb   \n",
      "11                               Jenn Ashworth   \n",
      "12                            Jonathan Hoefler   \n",
      "13     Anthony Gueterbock, 18th Baron Berkeley   \n",
      "14                          David Chernushenko   \n",
      "15                              Joerg Steineck   \n",
      "16                              Andrew Pinsent   \n",
      "18                           Alexandros Mouzas   \n",
      "19                         John Angus Campbell   \n",
      "20                              Chris Batstone   \n",
      "23                               Faith Soloway   \n",
      "24                                Tom Jennings   \n",
      "26                             Anthony Caruana   \n",
      "27                       Ian Mitchell (author)   \n",
      "29                                Emily Osment   \n",
      "31                    Ted Hill (mathematician)   \n",
      "32                             Mindaugas Murza   \n",
      "34                              Douglas Davies   \n",
      "35                        Freimut B%C3%B6rngen   \n",
      "36                      Th%C3%BCring Br%C3%A4m   \n",
      "37                             Aharon Solomons   \n",
      "...                                        ...   \n",
      "59036                            Sabitri Mitra   \n",
      "59037                         Roni Lynn Deutch   \n",
      "59038                               Simon Vega   \n",
      "59039                              Cho Oh-hyun   \n",
      "59040                      Gail Kulick Jackson   \n",
      "59041                              Mokob%C3%A9   \n",
      "59042                          F. Enzio Busche   \n",
      "59043                          Christian Wiman   \n",
      "59044                   Ellyn Setnor Bogdanoff   \n",
      "59045                              Katya Adler   \n",
      "59046                       Anthony-Noel Kelly   \n",
      "59047                           Mignon Clyburn   \n",
      "59048                        Charles A. Miller   \n",
      "59049                           Rodolfo Parada   \n",
      "59050                     Giwi Margwelaschwili   \n",
      "59053                           Jessica Jordan   \n",
      "59054                         Marina Mulyayeva   \n",
      "59055                      Jo%C3%ABl de Rosnay   \n",
      "59056                              Amy Jenkins   \n",
      "59057                 Roy Zimmerman (satirist)   \n",
      "59058                            George Krause   \n",
      "59059                               Sean Slade   \n",
      "59060                             Lynne Lipton   \n",
      "59061                                 Rod Wilt   \n",
      "59062                      Scott Baker (judge)   \n",
      "59063                   Dragoljub Ojdani%C4%87   \n",
      "59064                                Oz Bengur   \n",
      "59066                               Olari Elts   \n",
      "59067                           Scott F. Crago   \n",
      "59070                             Fawaz Damrah   \n",
      "\n",
      "                                                    text  \n",
      "1      alfred j lewy aka sandy lewy graduated from un...  \n",
      "2      harpdog brown is a singer and harmonica player...  \n",
      "3      franz rottensteiner born in waidmannsfeld lowe...  \n",
      "4      henry krvits born 30 december 1974 in tallinn ...  \n",
      "5      sam henderson born october 18 1969 is an ameri...  \n",
      "6      aaron lacrate is an american music producer re...  \n",
      "7      trevor ferguson aka john farrow born 11 novemb...  \n",
      "8      grant nelson born 27 april 1971 in london also...  \n",
      "9      cathy caruth born 1955 is frank h t rhodes pro...  \n",
      "10     sophia violet sophie crumb born september 27 1...  \n",
      "11     jenn ashworth is an english writer she was bor...  \n",
      "12     jonathan hoefler born august 22 1970 is an ame...  \n",
      "13     anthony fitzhardinge gueterbock 18th baron ber...  \n",
      "14     david chernushenko born june 1963 in calgary a...  \n",
      "15     joerg steineck is a german filmmaker editor an...  \n",
      "16     fr andrew pinsent born 19 august 1966 is resea...  \n",
      "18     alexandros mouzas born 1962 is a greek compose...  \n",
      "19     john angus campbell born march 10 1942 in port...  \n",
      "20     chris batstone was the 20002002 lead singer of...  \n",
      "23     faith soloway born march 28 1964 is an america...  \n",
      "24     tom jennings born 1955 as thomas daniel jennin...  \n",
      "26     anthony caruana born 2 january 1968 is a melbo...  \n",
      "27     ian mitchell is a scottish author who grew up ...  \n",
      "29     emily jordan osment born march 10 1992 is an a...  \n",
      "31     theodore preston hill born december 28 1943 is...  \n",
      "32     mindaugas gervaldas until 2012 year mindaugas ...  \n",
      "34     douglas james davies born 1947 is professor in...  \n",
      "35     freimut brngen born october 17 1930 is a germa...  \n",
      "36     thring brm born 10 april 1944 is a swiss compo...  \n",
      "37     aharon solomons b september 27 1939 is a freed...  \n",
      "...                                                  ...  \n",
      "59036  sabitri mitra is an indian politician belongin...  \n",
      "59037  roni lynn deutch is a former tax attorney and ...  \n",
      "59038  simon h vega born october 8 1935 is a retired ...  \n",
      "59039  seorak musan cho oh hyun born in 1932 in mirya...  \n",
      "59040  gail kulick jackson born may 29 1959 is a minn...  \n",
      "59041  mokob traor better known by the mononym mokob ...  \n",
      "59042  friedrich enzio busche born 5 april 1930 dortm...  \n",
      "59043  christian wiman is an american poet and editor...  \n",
      "59044  ellyn setnor bogdanoff born october 17 1959 wa...  \n",
      "59045  katya adler born 1972 is a british journalist ...  \n",
      "59046  anthonynoel kelly born 1956 is a british artis...  \n",
      "59047  mignon l clyburn born march 22 1962 is a commi...  \n",
      "59048  charles a miller born october 27 1937 in washi...  \n",
      "59049  rodolfo parada lillo is a chilean musician com...  \n",
      "59050  giwi margwelaschwili georgian born december 14...  \n",
      "59053  jessica anne jordan burton born 6 may 1984 in ...  \n",
      "59054  marina vladimirovna mulyayeva kazakh born apri...  \n",
      "59055  jol de rosnay born 1937 phd from the massachus...  \n",
      "59056  amy jenkins born 1966 in london is an english ...  \n",
      "59057  roy zimmerman born october 7 1957 is an americ...  \n",
      "59058  george krause born 1937 philadelphia pennsylva...  \n",
      "59059  sean slade b november 14 1957 lansing michigan...  \n",
      "59060  lynne lipton is an american film stage televis...  \n",
      "59061  rod wilt is a former republican member of the ...  \n",
      "59062  sir thomas scott gillespie baker born 10 decem...  \n",
      "59063  dragoljub ojdani serbian cyrillic born june 1 ...  \n",
      "59064  osman oz bengur born february 23 1949 is an am...  \n",
      "59066  olari elts born april 27 1971 in tallinn eston...  \n",
      "59067  scott francis crago born july 26 1963 twin bro...  \n",
      "59070  fawaz mohammed damrah arabic fawwz damra was t...  \n",
      "\n",
      "[47561 rows x 3 columns]}\n"
     ]
    }
   ],
   "source": [
    "print left_child\n",
    "print right_child"
   ]
  },
  {
   "cell_type": "markdown",
   "metadata": {},
   "source": [
    "### 3. Visualize the bipartition"
   ]
  },
  {
   "cell_type": "markdown",
   "metadata": {},
   "source": [
    "We provide you with a modified version of the visualization function from the k-means assignment. For each cluster, we print the top 5 words with highest TF-IDF weights in the centroid and display excerpts for the 8 nearest neighbors of the centroid."
   ]
  },
  {
   "cell_type": "code",
   "execution_count": 42,
   "metadata": {
    "collapsed": false
   },
   "outputs": [],
   "source": [
    "# Convert the dictionary map_index_to_words to a list of words\n",
    "words = sorted(map_index_to_word, key = map_index_to_word.get)"
   ]
  },
  {
   "cell_type": "code",
   "execution_count": 51,
   "metadata": {
    "collapsed": true
   },
   "outputs": [],
   "source": [
    "def display_single_tf_idf_cluster(cluster, map_index_to_word):\n",
    "    '''map_index_to_word: SFrame specifying the mapping betweeen words and column indices'''\n",
    "    \n",
    "    wiki_subset   = cluster['dataframe']\n",
    "    tf_idf_subset = cluster['matrix']\n",
    "    centroid      = cluster['centroid']\n",
    "    \n",
    "    # Print top 5 words with largest TF-IDF weights in the cluster\n",
    "    idx = centroid.argsort()[::-1]\n",
    "    for i in xrange(5):\n",
    "        print('{0:s}:{1:.3f}'.format(words[idx[i]], centroid[idx[i]])),\n",
    "    print('')\n",
    "    \n",
    "    # Compute distances from the centroid to all data points in the cluster.\n",
    "    distances = pairwise_distances(tf_idf_subset, [centroid], metric = 'euclidean').flatten()\n",
    "    # compute nearest neighbors of the centroid within the cluster.\n",
    "    nearest_neighbors = distances.argsort()\n",
    "    # For 8 nearest neighbors, print the title as well as first 180 characters of text.\n",
    "    # Wrap the text at 80-character mark.\n",
    "    for i in xrange(8):\n",
    "        text = ' '.join(wiki_subset.iloc[nearest_neighbors[i]]['text'].split(None, 25)[0:25])\n",
    "        print('* {0:50s} {1:.5f}\\n  {2:s}\\n  {3:s}'.format(wiki_subset.iloc[nearest_neighbors[i]]['name'],\n",
    "              distances[nearest_neighbors[i]], text[:90], text[90:180] if len(text) > 90 else ''))\n",
    "    print('')"
   ]
  },
  {
   "cell_type": "code",
   "execution_count": 54,
   "metadata": {
    "collapsed": false
   },
   "outputs": [
    {
     "name": "stdout",
     "output_type": "stream",
     "text": [
      "league:0.040 season:0.036 team:0.029 football:0.029 played:0.028 \n",
      "* Todd Williams                                      0.95468\n",
      "  todd michael williams born february 13 1971 in syracuse new york is a former major league \n",
      "  baseball relief pitcher he attended east syracuseminoa high school\n",
      "* Gord Sherven                                       0.95622\n",
      "  gordon r sherven born august 21 1963 in gravelbourg saskatchewan and raised in mankota sas\n",
      "  katchewan is a retired canadian professional ice hockey forward who played\n",
      "* Justin Knoedler                                    0.95639\n",
      "  justin joseph knoedler born july 17 1980 in springfield illinois is a former major league \n",
      "  baseball catcherknoedler was originally drafted by the st louis cardinals\n",
      "* Chris Day                                          0.95648\n",
      "  christopher nicholas chris day born 28 july 1975 is an english professional footballer who\n",
      "   plays as a goalkeeper for stevenageday started his career at tottenham\n",
      "* Tony Smith (footballer, born 1957)                 0.95653\n",
      "  anthony tony smith born 20 february 1957 is a former footballer who played as a central de\n",
      "  fender in the football league in the 1970s and\n",
      "* Ashley Prescott                                    0.95761\n",
      "  ashley prescott born 11 september 1972 is a former australian rules footballer he played w\n",
      "  ith the richmond and fremantle football clubs in the afl between\n",
      "* Leslie Lea                                         0.95802\n",
      "  leslie lea born 5 october 1942 in manchester is an english former professional footballer \n",
      "  he played as a midfielderlea began his professional career with blackpool\n",
      "* Tommy Anderson (footballer)                        0.95818\n",
      "  thomas cowan tommy anderson born 24 september 1934 in haddington is a scottish former prof\n",
      "  essional footballer he played as a forward and was noted for\n",
      "\n"
     ]
    }
   ],
   "source": [
    "display_single_tf_idf_cluster(left_child, map_index_to_word)"
   ]
  },
  {
   "cell_type": "code",
   "execution_count": 53,
   "metadata": {
    "collapsed": false
   },
   "outputs": [
    {
     "name": "stdout",
     "output_type": "stream",
     "text": [
      "she:0.025 her:0.017 music:0.012 he:0.011 university:0.011 \n",
      "* Anita Kunz                                         0.97401\n",
      "  anita e kunz oc born 1956 is a canadianborn artist and illustratorkunz has lived in london\n",
      "   new york and toronto contributing to magazines and working\n",
      "* Janet Jackson                                      0.97472\n",
      "  janet damita jo jackson born may 16 1966 is an american singer songwriter and actress know\n",
      "  n for a series of sonically innovative socially conscious and\n",
      "* Madonna (entertainer)                              0.97475\n",
      "  madonna louise ciccone tkoni born august 16 1958 is an american singer songwriter actress \n",
      "  and businesswoman she achieved popularity by pushing the boundaries of lyrical\n",
      "* %C3%81ine Hyland                                   0.97536\n",
      "  ine hyland ne donlon is emeritus professor of education and former vicepresident of univer\n",
      "  sity college cork ireland she was born in 1942 in athboy co\n",
      "* Jane Fonda                                         0.97621\n",
      "  jane fonda born lady jayne seymour fonda december 21 1937 is an american actress writer po\n",
      "  litical activist former fashion model and fitness guru she is\n",
      "* Christine Robertson                                0.97643\n",
      "  christine mary robertson born 5 october 1948 is an australian politician and former austra\n",
      "  lian labor party member of the new south wales legislative council serving\n",
      "* Pat Studdy-Clift                                   0.97643\n",
      "  pat studdyclift is an australian author specialising in historical fiction and nonfictionb\n",
      "  orn in 1925 she lived in gunnedah until she was sent to a boarding\n",
      "* Alexandra Potter                                   0.97646\n",
      "  alexandra potter born 1970 is a british author of romantic comediesborn in bradford yorksh\n",
      "  ire england and educated at liverpool university gaining an honors degree in\n",
      "\n"
     ]
    }
   ],
   "source": [
    "display_single_tf_idf_cluster(right_child, map_index_to_word)"
   ]
  },
  {
   "cell_type": "markdown",
   "metadata": {},
   "source": [
    "### 4. Perform recursive bipartitioning"
   ]
  },
  {
   "cell_type": "markdown",
   "metadata": {},
   "source": [
    "**Criteria:** Should we keep subdividing the clusters? If so, which cluster should we subdivide?  \n",
    "we would like to achieve similar level of granularity for all clusters."
   ]
  },
  {
   "cell_type": "markdown",
   "metadata": {},
   "source": [
    "To help identify the clusters we've built so far, let's give them easy-to-read aliases:"
   ]
  },
  {
   "cell_type": "code",
   "execution_count": 55,
   "metadata": {
    "collapsed": true
   },
   "outputs": [],
   "source": [
    "athletes = left_child\n",
    "non_athletes = right_child"
   ]
  },
  {
   "cell_type": "code",
   "execution_count": 56,
   "metadata": {
    "collapsed": true
   },
   "outputs": [],
   "source": [
    "# Bipartition the cluster of athletes\n",
    "left_child_athletes, right_child_athletes = bipartition(athletes, maxiter = 100, num_runs = 6, seed = 1)"
   ]
  },
  {
   "cell_type": "code",
   "execution_count": 57,
   "metadata": {
    "collapsed": false
   },
   "outputs": [
    {
     "name": "stdout",
     "output_type": "stream",
     "text": [
      "baseball:0.111 league:0.103 major:0.051 games:0.046 season:0.045 \n",
      "* Steve Springer                                     0.89344\n",
      "  steven michael springer born february 11 1961 is an american former professional baseball \n",
      "  player who appeared in major league baseball as a third baseman and\n",
      "* Dave Ford                                          0.89598\n",
      "  david alan ford born december 29 1956 is a former major league baseball pitcher for the ba\n",
      "  ltimore orioles born in cleveland ohio ford attended lincolnwest\n",
      "* Todd Williams                                      0.89823\n",
      "  todd michael williams born february 13 1971 in syracuse new york is a former major league \n",
      "  baseball relief pitcher he attended east syracuseminoa high school\n",
      "* Justin Knoedler                                    0.90097\n",
      "  justin joseph knoedler born july 17 1980 in springfield illinois is a former major league \n",
      "  baseball catcherknoedler was originally drafted by the st louis cardinals\n",
      "* Kevin Nicholson (baseball)                         0.90607\n",
      "  kevin ronald nicholson born march 29 1976 is a canadian baseball shortstop he played part \n",
      "  of the 2000 season for the san diego padres of\n",
      "* Joe Strong                                         0.90638\n",
      "  joseph benjamin strong born september 9 1962 in fairfield california is a former major lea\n",
      "  gue baseball pitcher who played for the florida marlins from 2000\n",
      "* James Baldwin (baseball)                           0.90674\n",
      "  james j baldwin jr born july 15 1971 is a former major league baseball pitcher he batted a\n",
      "  nd threw righthanded in his 11season career he\n",
      "* James Garcia                                       0.90729\n",
      "  james robert garcia born february 3 1980 is an american former professional baseball pitch\n",
      "  er who played in the san francisco giants minor league system as\n",
      "\n"
     ]
    }
   ],
   "source": [
    "display_single_tf_idf_cluster(left_child_athletes, map_index_to_word)"
   ]
  },
  {
   "cell_type": "code",
   "execution_count": 58,
   "metadata": {
    "collapsed": false
   },
   "outputs": [
    {
     "name": "stdout",
     "output_type": "stream",
     "text": [
      "season:0.034 football:0.033 team:0.031 league:0.029 played:0.027 \n",
      "* Gord Sherven                                       0.95562\n",
      "  gordon r sherven born august 21 1963 in gravelbourg saskatchewan and raised in mankota sas\n",
      "  katchewan is a retired canadian professional ice hockey forward who played\n",
      "* Ashley Prescott                                    0.95656\n",
      "  ashley prescott born 11 september 1972 is a former australian rules footballer he played w\n",
      "  ith the richmond and fremantle football clubs in the afl between\n",
      "* Chris Day                                          0.95656\n",
      "  christopher nicholas chris day born 28 july 1975 is an english professional footballer who\n",
      "   plays as a goalkeeper for stevenageday started his career at tottenham\n",
      "* Jason Roberts (footballer)                         0.95658\n",
      "  jason andre davis roberts mbe born 25 january 1978 is a former professional footballer and\n",
      "   now a football punditborn in park royal london roberts was\n",
      "* Todd Curley                                        0.95743\n",
      "  todd curley born 14 january 1973 is a former australian rules footballer who played for co\n",
      "  llingwood and the western bulldogs in the australian football league\n",
      "* Tony Smith (footballer, born 1957)                 0.95801\n",
      "  anthony tony smith born 20 february 1957 is a former footballer who played as a central de\n",
      "  fender in the football league in the 1970s and\n",
      "* Sol Campbell                                       0.95802\n",
      "  sulzeer jeremiah sol campbell born 18 september 1974 is a former england international foo\n",
      "  tballer a central defender he had a 19year career playing in the\n",
      "* Richard Ambrose                                    0.95924\n",
      "  richard ambrose born 10 june 1972 is a former australian rules footballer who played with \n",
      "  the sydney swans in the australian football league afl he\n",
      "\n"
     ]
    }
   ],
   "source": [
    "display_single_tf_idf_cluster(right_child_athletes, map_index_to_word)"
   ]
  },
  {
   "cell_type": "code",
   "execution_count": 59,
   "metadata": {
    "collapsed": true
   },
   "outputs": [],
   "source": [
    "baseball            = left_child_athletes\n",
    "ice_hockey_football = right_child_athletes"
   ]
  },
  {
   "cell_type": "markdown",
   "metadata": {},
   "source": [
    "#### Bipartition the cluster of ice_hockey_football"
   ]
  },
  {
   "cell_type": "code",
   "execution_count": 63,
   "metadata": {
    "collapsed": true
   },
   "outputs": [],
   "source": [
    "# Bipartition the cluster of ice_hockey_football\n",
    "left_child_ice_hockey_football, right_child_ice_hockey_football = bipartition(ice_hockey_football, maxiter = 100, num_runs = 8, seed = 1)"
   ]
  },
  {
   "cell_type": "code",
   "execution_count": 64,
   "metadata": {
    "collapsed": false
   },
   "outputs": [
    {
     "name": "stdout",
     "output_type": "stream",
     "text": [
      "championships:0.045 tour:0.044 championship:0.035 world:0.031 won:0.031 \n",
      "* Alessandra Aguilar                                 0.93849\n",
      "  alessandra aguilar born 1 july 1978 in lugo is a spanish longdistance runner who specialis\n",
      "  es in marathon running she represented her country in the event\n",
      "* Heather Samuel                                     0.93966\n",
      "  heather barbara samuel born 6 july 1970 is a retired sprinter from antigua and barbuda who\n",
      "   specialized in the 100 and 200 metres in 1990\n",
      "* Viola Kibiwot                                      0.94008\n",
      "  viola jelagat kibiwot born december 22 1983 in keiyo district is a runner from kenya who s\n",
      "  pecialises in the 1500 metres kibiwot won her first\n",
      "* Ayelech Worku                                      0.94022\n",
      "  ayelech worku born june 12 1979 is an ethiopian longdistance runner most known for winning\n",
      "   two world championships bronze medals on the 5000 metres she\n",
      "* Krisztina Papp                                     0.94070\n",
      "  krisztina papp born 17 december 1982 in eger is a hungarian long distance runner she is th\n",
      "  e national indoor record holder over 5000 mpapp began\n",
      "* Petra Lammert                                      0.94208\n",
      "  petra lammert born 3 march 1984 in freudenstadt badenwrttemberg is a former german shot pu\n",
      "  tter and current bobsledder she was the 2009 european indoor champion\n",
      "* Morhad Amdouni                                     0.94210\n",
      "  morhad amdouni born 21 january 1988 in portovecchio is a french middle and longdistance ru\n",
      "  nner he was european junior champion in track and cross country\n",
      "* Brian Davis (golfer)                               0.94366\n",
      "  brian lester davis born 2 august 1974 is an english professional golferdavis was born in l\n",
      "  ondon he turned professional in 1994 and became a member\n",
      "\n"
     ]
    }
   ],
   "source": [
    "display_single_tf_idf_cluster(left_child_ice_hockey_football, map_index_to_word)"
   ]
  },
  {
   "cell_type": "code",
   "execution_count": 65,
   "metadata": {
    "collapsed": false
   },
   "outputs": [
    {
     "name": "stdout",
     "output_type": "stream",
     "text": [
      "football:0.048 season:0.043 league:0.041 played:0.036 coach:0.034 \n",
      "* Todd Curley                                        0.94580\n",
      "  todd curley born 14 january 1973 is a former australian rules footballer who played for co\n",
      "  llingwood and the western bulldogs in the australian football league\n",
      "* Tony Smith (footballer, born 1957)                 0.94607\n",
      "  anthony tony smith born 20 february 1957 is a former footballer who played as a central de\n",
      "  fender in the football league in the 1970s and\n",
      "* Chris Day                                          0.94624\n",
      "  christopher nicholas chris day born 28 july 1975 is an english professional footballer who\n",
      "   plays as a goalkeeper for stevenageday started his career at tottenham\n",
      "* Ashley Prescott                                    0.94634\n",
      "  ashley prescott born 11 september 1972 is a former australian rules footballer he played w\n",
      "  ith the richmond and fremantle football clubs in the afl between\n",
      "* Jason Roberts (footballer)                         0.94634\n",
      "  jason andre davis roberts mbe born 25 january 1978 is a former professional footballer and\n",
      "   now a football punditborn in park royal london roberts was\n",
      "* David Hamilton (footballer)                        0.94926\n",
      "  david hamilton born 7 november 1960 is an english former professional association football\n",
      "   player who played as a midfielder he won caps for the england\n",
      "* Richard Ambrose                                    0.94942\n",
      "  richard ambrose born 10 june 1972 is a former australian rules footballer who played with \n",
      "  the sydney swans in the australian football league afl he\n",
      "* Neil Grayson                                       0.94958\n",
      "  neil grayson born 1 november 1964 in york is an english footballer who last played as a st\n",
      "  riker for sutton towngraysons first club was local\n",
      "\n"
     ]
    }
   ],
   "source": [
    "display_single_tf_idf_cluster(right_child_ice_hockey_football, map_index_to_word)"
   ]
  },
  {
   "cell_type": "markdown",
   "metadata": {},
   "source": [
    "#### Cluster of non-athletes."
   ]
  },
  {
   "cell_type": "code",
   "execution_count": 61,
   "metadata": {
    "collapsed": false
   },
   "outputs": [
    {
     "name": "stdout",
     "output_type": "stream",
     "text": [
      "he:0.013 music:0.012 university:0.011 film:0.010 his:0.009 \n",
      "* Wilson McLean                                      0.97870\n",
      "  wilson mclean born 1937 is a scottish illustrator and artist he has illustrated primarily \n",
      "  in the field of advertising but has also provided cover art\n",
      "* Julian Knowles                                     0.97938\n",
      "  julian knowles is an australian composer and performer specialising in new and emerging te\n",
      "  chnologies his creative work spans the fields of composition for theatre dance\n",
      "* James A. Joseph                                    0.98042\n",
      "  james a joseph born 1935 is an american former diplomatjoseph is professor of the practice\n",
      "   of public policy studies at duke university and founder of\n",
      "* Barry Sullivan (lawyer)                            0.98054\n",
      "  barry sullivan is a chicago lawyer and as of july 1 2009 the cooney conway chair in advoca\n",
      "  cy at loyola university chicago school of law\n",
      "* Archie Brown                                       0.98081\n",
      "  archibald haworth brown cmg fba commonly known as archie brown born 10 may 1938 is a briti\n",
      "  sh political scientist and historian in 2005 he became\n",
      "* Michael Joseph Smith                               0.98124\n",
      "  michael joseph smith is an american jazz and american classical composer and pianist born \n",
      "  in tiline kentucky he has worked extensively in europe and asia\n",
      "* Craig Pruess                                       0.98125\n",
      "  craig pruess born 1950 is an american composer musician arranger and gold platinum record \n",
      "  producer who has been living in britain since 1973 his career\n",
      "* David J. Elliott                                   0.98128\n",
      "  david elliott is professor of music and music education at new york universityelliott was \n",
      "  educated at the university of toronto bmus m mus and bed\n",
      "\n",
      "she:0.126 her:0.082 film:0.013 actress:0.012 music:0.012 \n",
      "* Janet Jackson                                      0.93808\n",
      "  janet damita jo jackson born may 16 1966 is an american singer songwriter and actress know\n",
      "  n for a series of sonically innovative socially conscious and\n",
      "* Lauren Royal                                       0.93867\n",
      "  lauren royal born march 3 circa 1965 is a book writer from california royal has written bo\n",
      "  th historic and novelistic booksa selfproclaimed angels baseball fan\n",
      "* Barbara Hershey                                    0.93941\n",
      "  barbara hershey born barbara lynn herzstein february 5 1948 once known as barbara seagull \n",
      "  is an american actress in a career spanning nearly 50 years\n",
      "* Jane Fonda                                         0.94102\n",
      "  jane fonda born lady jayne seymour fonda december 21 1937 is an american actress writer po\n",
      "  litical activist former fashion model and fitness guru she is\n",
      "* Alexandra Potter                                   0.94190\n",
      "  alexandra potter born 1970 is a british author of romantic comediesborn in bradford yorksh\n",
      "  ire england and educated at liverpool university gaining an honors degree in\n",
      "* Janine Shepherd                                    0.94219\n",
      "  janine lee shepherd am born 1962 is an australian pilot and former crosscountry skier shep\n",
      "  herds career as an athlete ended when she suffered major injuries\n",
      "* Cher                                               0.94231\n",
      "  cher r born cherilyn sarkisian may 20 1946 is an american singer actress and television ho\n",
      "  st described as embodying female autonomy in a maledominated industry\n",
      "* Ellina Graypel                                     0.94233\n",
      "  ellina graypel born july 19 1972 is an awardwinning russian singersongwriter she was born \n",
      "  near the volga river in the heart of russia she spent\n",
      "\n"
     ]
    }
   ],
   "source": [
    "# Bipartition the cluster of non-athletes\n",
    "left_child_non_athletes, right_child_non_athletes = bipartition(non_athletes, maxiter=100, num_runs=6, seed=1)\n",
    "\n",
    "display_single_tf_idf_cluster(left_child_non_athletes, map_index_to_word)\n",
    "display_single_tf_idf_cluster(right_child_non_athletes, map_index_to_word)"
   ]
  },
  {
   "cell_type": "code",
   "execution_count": 67,
   "metadata": {
    "collapsed": true
   },
   "outputs": [],
   "source": [
    "male_non_athletes = left_child_non_athletes\n",
    "female_non_athletes = right_child_non_athletes"
   ]
  },
  {
   "cell_type": "markdown",
   "metadata": {},
   "source": [
    "#### Male_non_athletes"
   ]
  },
  {
   "cell_type": "code",
   "execution_count": 68,
   "metadata": {
    "collapsed": false
   },
   "outputs": [
    {
     "name": "stdout",
     "output_type": "stream",
     "text": [
      "university:0.017 he:0.015 law:0.013 served:0.013 research:0.013 \n",
      "* Barry Sullivan (lawyer)                            0.97075\n",
      "  barry sullivan is a chicago lawyer and as of july 1 2009 the cooney conway chair in advoca\n",
      "  cy at loyola university chicago school of law\n",
      "* James A. Joseph                                    0.97344\n",
      "  james a joseph born 1935 is an american former diplomatjoseph is professor of the practice\n",
      "   of public policy studies at duke university and founder of\n",
      "* David Anderson (British Columbia politician)       0.97383\n",
      "  david a anderson pc oc born august 16 1937 in victoria british columbia is a former canadi\n",
      "  an cabinet minister educated at victoria college in victoria\n",
      "* Sven Erik Holmes                                   0.97469\n",
      "  sven erik holmes is a former federal judge and currently the vice chairman legal risk and \n",
      "  regulatory and chief legal officer for kpmg llp a\n",
      "* Andrew Fois                                        0.97558\n",
      "  andrew fois is an attorney living and working in washington dc as of april 9 2012 he will \n",
      "  be serving as the deputy attorney general\n",
      "* William Robert Graham                              0.97564\n",
      "  william robert graham born june 15 1937 was chairman of president reagans general advisory\n",
      "   committee on arms control from 1982 to 1985 a deputy administrator\n",
      "* John C. Eastman                                    0.97585\n",
      "  john c eastman born april 21 1960 is a conservative american law professor and constitutio\n",
      "  nal law scholar he is the henry salvatori professor of law\n",
      "* M. Cherif Bassiouni                                0.97587\n",
      "  mahmoud cherif bassiouni was born in cairo egypt in 1937 and immigrated to the united stat\n",
      "  es in 1962 he is emeritus professor of law at\n",
      "\n",
      "music:0.023 film:0.020 album:0.014 band:0.014 art:0.013 \n",
      "* Julian Knowles                                     0.97192\n",
      "  julian knowles is an australian composer and performer specialising in new and emerging te\n",
      "  chnologies his creative work spans the fields of composition for theatre dance\n",
      "* Peter Combe                                        0.97292\n",
      "  peter combe born 20 october 1948 is an australian childrens entertainer and musicianmusica\n",
      "  l genre childrens musiche has had 22 releases including seven gold albums two\n",
      "* Craig Pruess                                       0.97346\n",
      "  craig pruess born 1950 is an american composer musician arranger and gold platinum record \n",
      "  producer who has been living in britain since 1973 his career\n",
      "* Ceiri Torjussen                                    0.97420\n",
      "  ceiri torjussen born 1976 is a composer who has contributed music to dozens of film and te\n",
      "  levision productions in the ushis music was described by\n",
      "* Wilson McLean                                      0.97455\n",
      "  wilson mclean born 1937 is a scottish illustrator and artist he has illustrated primarily \n",
      "  in the field of advertising but has also provided cover art\n",
      "* Brenton Broadstock                                 0.97471\n",
      "  brenton broadstock ao born 1952 is an australian composerbroadstock was born in melbourne \n",
      "  he studied history politics and music at monash university and later composition\n",
      "* Michael Peter Smith                                0.97499\n",
      "  michael peter smith born september 7 1941 is a chicagobased singersongwriter rolling stone\n",
      "   magazine once called him the greatest songwriter in the english language he\n",
      "* Third Hawkins                                      0.97553\n",
      "  born maurice hawkins third hawkins is a recognized music producer in and out of the dmv ar\n",
      "  ea including his hometown of baltimore maryland he has\n",
      "\n"
     ]
    }
   ],
   "source": [
    "# Bipartition the cluster of male_non_athletes\n",
    "left_child_male_non_athletes, right_child_male_non_athletes = bipartition(male_non_athletes, maxiter = 100, num_runs = 6, seed = 1)\n",
    "\n",
    "display_single_tf_idf_cluster(left_child_male_non_athletes, map_index_to_word)\n",
    "display_single_tf_idf_cluster(right_child_male_non_athletes, map_index_to_word)"
   ]
  },
  {
   "cell_type": "markdown",
   "metadata": {},
   "source": [
    "#### Female_non_athletes"
   ]
  },
  {
   "cell_type": "code",
   "execution_count": 69,
   "metadata": {
    "collapsed": false
   },
   "outputs": [
    {
     "name": "stdout",
     "output_type": "stream",
     "text": [
      "she:0.121 her:0.100 actress:0.031 film:0.030 music:0.028 \n",
      "* Janet Jackson                                      0.92374\n",
      "  janet damita jo jackson born may 16 1966 is an american singer songwriter and actress know\n",
      "  n for a series of sonically innovative socially conscious and\n",
      "* Barbara Hershey                                    0.92524\n",
      "  barbara hershey born barbara lynn herzstein february 5 1948 once known as barbara seagull \n",
      "  is an american actress in a career spanning nearly 50 years\n",
      "* Madonna (entertainer)                              0.92753\n",
      "  madonna louise ciccone tkoni born august 16 1958 is an american singer songwriter actress \n",
      "  and businesswoman she achieved popularity by pushing the boundaries of lyrical\n",
      "* Cher                                               0.92909\n",
      "  cher r born cherilyn sarkisian may 20 1946 is an american singer actress and television ho\n",
      "  st described as embodying female autonomy in a maledominated industry\n",
      "* Candice Bergen                                     0.93266\n",
      "  candice patricia bergen born may 9 1946 is an american actress and former fashion model fo\n",
      "  r her role as the title character on the cbs\n",
      "* Glenn Close                                        0.93426\n",
      "  glenn close born march 19 1947 is an american film television and stage actress throughout\n",
      "   her long and varied career she has been consistently acclaimed\n",
      "* Jane Fonda                                         0.93515\n",
      "  jane fonda born lady jayne seymour fonda december 21 1937 is an american actress writer po\n",
      "  litical activist former fashion model and fitness guru she is\n",
      "* Judi Dench                                         0.93624\n",
      "  dame judith olivia dench ch dbe frsa born 9 december 1934 is an english actress and author\n",
      "   dench made her professional debut in 1957 with\n",
      "\n",
      "she:0.130 her:0.072 women:0.014 miss:0.014 university:0.013 \n",
      "* Lauren Royal                                       0.93939\n",
      "  lauren royal born march 3 circa 1965 is a book writer from california royal has written bo\n",
      "  th historic and novelistic booksa selfproclaimed angels baseball fan\n",
      "* %C3%81ine Hyland                                   0.93940\n",
      "  ine hyland ne donlon is emeritus professor of education and former vicepresident of univer\n",
      "  sity college cork ireland she was born in 1942 in athboy co\n",
      "* Dorothy E. Smith                                   0.94113\n",
      "  dorothy edith smithborn july 6 1926 is a canadian sociologist with research interests besi\n",
      "  des in sociology in many disciplines including womens studies psychology and educational\n",
      "* Kayee Griffin                                      0.94162\n",
      "  kayee frances griffin born 6 february 1950 is an australian politician and former australi\n",
      "  an labor party member of the new south wales legislative council serving\n",
      "* Janine Shepherd                                    0.94252\n",
      "  janine lee shepherd am born 1962 is an australian pilot and former crosscountry skier shep\n",
      "  herds career as an athlete ended when she suffered major injuries\n",
      "* Bhama Srinivasan                                   0.94281\n",
      "  bhama srinivasan april 22 1935 is a mathematician known for her work in the representation\n",
      "   theory of finite groups her contributions were honored with the\n",
      "* Ellen Christine Christiansen                       0.94395\n",
      "  ellen christine christiansen born 10 december 1964 is a norwegian politician representing \n",
      "  the conservative party and formerly the progress partyborn in oslo she finished her\n",
      "* Elvira Vinogradova                                 0.94420\n",
      "  elvira vinogradova russian born june 16 1934 is a russian tv editorelvira belenina russian\n",
      "   was born in 1934 in fergana ussr she went to school\n",
      "\n"
     ]
    }
   ],
   "source": [
    "# Bipartition the cluster of male_non_athletes\n",
    "left_child_female_non_athletes, right_child_female_non_athletes = bipartition(female_non_athletes, maxiter = 100, num_runs = 6, seed = 1)\n",
    "\n",
    "display_single_tf_idf_cluster(left_child_female_non_athletes, map_index_to_word)\n",
    "display_single_tf_idf_cluster(right_child_female_non_athletes, map_index_to_word)"
   ]
  },
  {
   "cell_type": "code",
   "execution_count": null,
   "metadata": {
    "collapsed": true
   },
   "outputs": [],
   "source": []
  }
 ],
 "metadata": {
  "anaconda-cloud": {},
  "kernelspec": {
   "display_name": "Python [Root]",
   "language": "python",
   "name": "Python [Root]"
  },
  "language_info": {
   "codemirror_mode": {
    "name": "ipython",
    "version": 2
   },
   "file_extension": ".py",
   "mimetype": "text/x-python",
   "name": "python",
   "nbconvert_exporter": "python",
   "pygments_lexer": "ipython2",
   "version": "2.7.11"
  }
 },
 "nbformat": 4,
 "nbformat_minor": 0
}
