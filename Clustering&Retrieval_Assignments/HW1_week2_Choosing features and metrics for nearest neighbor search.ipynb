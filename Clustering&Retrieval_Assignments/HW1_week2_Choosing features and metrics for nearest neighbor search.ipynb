{
 "cells": [
  {
   "cell_type": "markdown",
   "metadata": {},
   "source": [
    "# Homework 1: Choosing features and metrics for nearest neighbor search"
   ]
  },
  {
   "cell_type": "markdown",
   "metadata": {},
   "source": [
    "In the assignment you will\n",
    "\n",
    "1. Gain intuition for different notions of similarity and practice finding similar documents.  \n",
    "2. Explore the tradeoffs with representing documents using **raw word counts and TF-IDF**  \n",
    "3. Explore the behavior of **different distance metrics** by looking at the Wikipedia pages most similar to President Obama’s page.  "
   ]
  },
  {
   "cell_type": "code",
   "execution_count": 2,
   "metadata": {
    "collapsed": true
   },
   "outputs": [],
   "source": [
    "import matplotlib.pyplot as plt          # plotting\n",
    "import numpy as np                       # dense matrices\n",
    "import pandas as pd\n",
    "from scipy.sparse import csr_matrix      # sparse matrices\n",
    "%matplotlib inline"
   ]
  },
  {
   "cell_type": "markdown",
   "metadata": {},
   "source": [
    "### 1.Data Preprocessing"
   ]
  },
  {
   "cell_type": "code",
   "execution_count": 3,
   "metadata": {
    "collapsed": true
   },
   "outputs": [],
   "source": [
    "wiki = pd.read_csv('./people_wiki.csv')"
   ]
  },
  {
   "cell_type": "code",
   "execution_count": 19,
   "metadata": {
    "collapsed": true
   },
   "outputs": [],
   "source": [
    "wiki['id'] = wiki.index"
   ]
  },
  {
   "cell_type": "code",
   "execution_count": 20,
   "metadata": {
    "collapsed": false
   },
   "outputs": [
    {
     "data": {
      "text/html": [
       "<div>\n",
       "<table border=\"1\" class=\"dataframe\">\n",
       "  <thead>\n",
       "    <tr style=\"text-align: right;\">\n",
       "      <th></th>\n",
       "      <th>URI</th>\n",
       "      <th>name</th>\n",
       "      <th>text</th>\n",
       "      <th>id</th>\n",
       "    </tr>\n",
       "  </thead>\n",
       "  <tbody>\n",
       "    <tr>\n",
       "      <th>0</th>\n",
       "      <td>&lt;http://dbpedia.org/resource/Digby_Morrell&gt;</td>\n",
       "      <td>Digby Morrell</td>\n",
       "      <td>digby morrell born 10 october 1979 is a former...</td>\n",
       "      <td>0</td>\n",
       "    </tr>\n",
       "    <tr>\n",
       "      <th>1</th>\n",
       "      <td>&lt;http://dbpedia.org/resource/Alfred_J._Lewy&gt;</td>\n",
       "      <td>Alfred J. Lewy</td>\n",
       "      <td>alfred j lewy aka sandy lewy graduated from un...</td>\n",
       "      <td>1</td>\n",
       "    </tr>\n",
       "    <tr>\n",
       "      <th>2</th>\n",
       "      <td>&lt;http://dbpedia.org/resource/Harpdog_Brown&gt;</td>\n",
       "      <td>Harpdog Brown</td>\n",
       "      <td>harpdog brown is a singer and harmonica player...</td>\n",
       "      <td>2</td>\n",
       "    </tr>\n",
       "    <tr>\n",
       "      <th>3</th>\n",
       "      <td>&lt;http://dbpedia.org/resource/Franz_Rottensteiner&gt;</td>\n",
       "      <td>Franz Rottensteiner</td>\n",
       "      <td>franz rottensteiner born in waidmannsfeld lowe...</td>\n",
       "      <td>3</td>\n",
       "    </tr>\n",
       "    <tr>\n",
       "      <th>4</th>\n",
       "      <td>&lt;http://dbpedia.org/resource/G-Enka&gt;</td>\n",
       "      <td>G-Enka</td>\n",
       "      <td>henry krvits born 30 december 1974 in tallinn ...</td>\n",
       "      <td>4</td>\n",
       "    </tr>\n",
       "  </tbody>\n",
       "</table>\n",
       "</div>"
      ],
      "text/plain": [
       "                                                 URI                 name  \\\n",
       "0        <http://dbpedia.org/resource/Digby_Morrell>        Digby Morrell   \n",
       "1       <http://dbpedia.org/resource/Alfred_J._Lewy>       Alfred J. Lewy   \n",
       "2        <http://dbpedia.org/resource/Harpdog_Brown>        Harpdog Brown   \n",
       "3  <http://dbpedia.org/resource/Franz_Rottensteiner>  Franz Rottensteiner   \n",
       "4               <http://dbpedia.org/resource/G-Enka>               G-Enka   \n",
       "\n",
       "                                                text  id  \n",
       "0  digby morrell born 10 october 1979 is a former...   0  \n",
       "1  alfred j lewy aka sandy lewy graduated from un...   1  \n",
       "2  harpdog brown is a singer and harmonica player...   2  \n",
       "3  franz rottensteiner born in waidmannsfeld lowe...   3  \n",
       "4  henry krvits born 30 december 1974 in tallinn ...   4  "
      ]
     },
     "execution_count": 20,
     "metadata": {},
     "output_type": "execute_result"
    }
   ],
   "source": [
    "wiki.head()"
   ]
  },
  {
   "cell_type": "markdown",
   "metadata": {},
   "source": [
    "Dedine a function used for loading the word count vectors"
   ]
  },
  {
   "cell_type": "code",
   "execution_count": 6,
   "metadata": {
    "collapsed": true
   },
   "outputs": [],
   "source": [
    "def load_sparse_csr(filename):\n",
    "    loader = np.load(filename)\n",
    "    data = loader['data']\n",
    "    indices = loader['indices']\n",
    "    indptr = loader['indptr']\n",
    "    shape = loader['shape']\n",
    "    \n",
    "    return csr_matrix( (data, indices, indptr), shape) #This is a scipy.sparse.csr.csr_matrix"
   ]
  },
  {
   "cell_type": "code",
   "execution_count": 7,
   "metadata": {
    "collapsed": false
   },
   "outputs": [],
   "source": [
    "word_count = load_sparse_csr('people_wiki_word_count.npz') # This is a matrix with words counted"
   ]
  },
  {
   "cell_type": "code",
   "execution_count": 8,
   "metadata": {
    "collapsed": false
   },
   "outputs": [
    {
     "data": {
      "text/plain": [
       "scipy.sparse.csr.csr_matrix"
      ]
     },
     "execution_count": 8,
     "metadata": {},
     "output_type": "execute_result"
    }
   ],
   "source": [
    "type(word_count)"
   ]
  },
  {
   "cell_type": "code",
   "execution_count": 9,
   "metadata": {
    "collapsed": true
   },
   "outputs": [],
   "source": [
    "import json\n",
    "with open('people_wiki_map_index_to_word.json', 'r') as f: # Read the list of most frequent words\n",
    "    map_index_to_word = json.load(f)"
   ]
  },
  {
   "cell_type": "code",
   "execution_count": 11,
   "metadata": {
    "collapsed": false
   },
   "outputs": [],
   "source": [
    "# Convert the dictionary map_index_to_words to a list of words\n",
    "words = sorted(map_index_to_word, key = map_index_to_word.get)"
   ]
  },
  {
   "cell_type": "markdown",
   "metadata": {},
   "source": [
    "### 2.Find nearest neighbors using word count vectors"
   ]
  },
  {
   "cell_type": "code",
   "execution_count": 12,
   "metadata": {
    "collapsed": false
   },
   "outputs": [
    {
     "data": {
      "text/plain": [
       "NearestNeighbors(algorithm='brute', leaf_size=30, metric='euclidean',\n",
       "         metric_params=None, n_jobs=1, n_neighbors=5, p=2, radius=1.0)"
      ]
     },
     "execution_count": 12,
     "metadata": {},
     "output_type": "execute_result"
    }
   ],
   "source": [
    "from sklearn.neighbors import NearestNeighbors\n",
    "\n",
    "model = NearestNeighbors(metric = 'euclidean', algorithm = 'brute')\n",
    "model.fit(word_count)"
   ]
  },
  {
   "cell_type": "code",
   "execution_count": 13,
   "metadata": {
    "collapsed": true
   },
   "outputs": [
    {
     "name": "stdout",
     "output_type": "stream",
     "text": [
      "  (0, 5877)\t1\n",
      "  (0, 92219)\t1\n",
      "  (0, 227191)\t1\n",
      "  (0, 446948)\t1\n",
      "  (0, 468870)\t1\n",
      "  (0, 477285)\t5\n",
      "  (0, 492466)\t1\n",
      "  (0, 509506)\t1\n",
      "  (0, 514262)\t1\n",
      "  (0, 523996)\t1\n",
      "  (0, 528953)\t1\n",
      "  (0, 529843)\t1\n",
      "  (0, 533540)\t1\n",
      "  (0, 535034)\t3\n",
      "  (0, 535475)\t1\n",
      "  (0, 538022)\t1\n",
      "  (0, 538168)\t1\n",
      "  (0, 540827)\t1\n",
      "  (0, 541501)\t1\n",
      "  (0, 541760)\t1\n",
      "  (0, 542488)\t1\n",
      "  (0, 542854)\t1\n",
      "  (0, 542859)\t1\n",
      "  (0, 542919)\t1\n",
      "  (0, 543517)\t2\n",
      "  :\t:\n",
      "  (59070, 547944)\t1\n",
      "  (59070, 547947)\t1\n",
      "  (59070, 547949)\t1\n",
      "  (59070, 547950)\t1\n",
      "  (59070, 547951)\t1\n",
      "  (59070, 547954)\t1\n",
      "  (59070, 547957)\t2\n",
      "  (59070, 547960)\t2\n",
      "  (59070, 547961)\t1\n",
      "  (59070, 547962)\t1\n",
      "  (59070, 547964)\t4\n",
      "  (59070, 547965)\t2\n",
      "  (59070, 547966)\t6\n",
      "  (59070, 547967)\t1\n",
      "  (59070, 547968)\t4\n",
      "  (59070, 547969)\t1\n",
      "  (59070, 547970)\t8\n",
      "  (59070, 547971)\t3\n",
      "  (59070, 547972)\t6\n",
      "  (59070, 547973)\t1\n",
      "  (59070, 547974)\t2\n",
      "  (59070, 547975)\t6\n",
      "  (59070, 547976)\t6\n",
      "  (59070, 547977)\t9\n",
      "  (59070, 547978)\t14\n"
     ]
    }
   ],
   "source": [
    "print word_count # word counts in every article "
   ]
  },
  {
   "cell_type": "markdown",
   "metadata": {},
   "source": [
    "Run the following cell to obtain the row number for Obama's article:"
   ]
  },
  {
   "cell_type": "code",
   "execution_count": 14,
   "metadata": {
    "collapsed": false
   },
   "outputs": [
    {
     "data": {
      "text/html": [
       "<div>\n",
       "<table border=\"1\" class=\"dataframe\">\n",
       "  <thead>\n",
       "    <tr style=\"text-align: right;\">\n",
       "      <th></th>\n",
       "      <th>URI</th>\n",
       "      <th>name</th>\n",
       "      <th>text</th>\n",
       "    </tr>\n",
       "  </thead>\n",
       "  <tbody>\n",
       "    <tr>\n",
       "      <th>35817</th>\n",
       "      <td>&lt;http://dbpedia.org/resource/Barack_Obama&gt;</td>\n",
       "      <td>Barack Obama</td>\n",
       "      <td>barack hussein obama ii brk husen bm born augu...</td>\n",
       "    </tr>\n",
       "  </tbody>\n",
       "</table>\n",
       "</div>"
      ],
      "text/plain": [
       "                                              URI          name  \\\n",
       "35817  <http://dbpedia.org/resource/Barack_Obama>  Barack Obama   \n",
       "\n",
       "                                                    text  \n",
       "35817  barack hussein obama ii brk husen bm born augu...  "
      ]
     },
     "execution_count": 14,
     "metadata": {},
     "output_type": "execute_result"
    }
   ],
   "source": [
    "wiki[wiki['name'] == 'Barack Obama']"
   ]
  },
  {
   "cell_type": "code",
   "execution_count": 15,
   "metadata": {
    "collapsed": true
   },
   "outputs": [
    {
     "name": "stdout",
     "output_type": "stream",
     "text": [
      "  (0, 32093)\t1\n",
      "  (0, 103658)\t1\n",
      "  (0, 120780)\t1\n",
      "  (0, 397642)\t1\n",
      "  (0, 409594)\t1\n",
      "  (0, 452469)\t1\n",
      "  (0, 492548)\t1\n",
      "  (0, 499835)\t1\n",
      "  (0, 512805)\t1\n",
      "  (0, 526389)\t1\n",
      "  (0, 526900)\t1\n",
      "  (0, 529331)\t1\n",
      "  (0, 529495)\t1\n",
      "  (0, 531329)\t1\n",
      "  (0, 531869)\t1\n",
      "  (0, 532290)\t1\n",
      "  (0, 533599)\t1\n",
      "  (0, 534868)\t1\n",
      "  (0, 535658)\t1\n",
      "  (0, 535765)\t1\n",
      "  (0, 535818)\t1\n",
      "  (0, 536238)\t1\n",
      "  (0, 536530)\t1\n",
      "  (0, 536610)\t1\n",
      "  (0, 536900)\t1\n",
      "  :\t:\n",
      "  (0, 547950)\t4\n",
      "  (0, 547953)\t1\n",
      "  (0, 547954)\t2\n",
      "  (0, 547955)\t1\n",
      "  (0, 547956)\t3\n",
      "  (0, 547957)\t1\n",
      "  (0, 547959)\t4\n",
      "  (0, 547960)\t1\n",
      "  (0, 547962)\t3\n",
      "  (0, 547963)\t2\n",
      "  (0, 547964)\t11\n",
      "  (0, 547965)\t2\n",
      "  (0, 547966)\t7\n",
      "  (0, 547967)\t3\n",
      "  (0, 547968)\t2\n",
      "  (0, 547969)\t6\n",
      "  (0, 547970)\t5\n",
      "  (0, 547971)\t4\n",
      "  (0, 547972)\t14\n",
      "  (0, 547973)\t2\n",
      "  (0, 547974)\t7\n",
      "  (0, 547975)\t18\n",
      "  (0, 547976)\t30\n",
      "  (0, 547977)\t21\n",
      "  (0, 547978)\t40\n"
     ]
    }
   ],
   "source": [
    "print word_count[35817]"
   ]
  },
  {
   "cell_type": "markdown",
   "metadata": {},
   "source": [
    "The query returns the indices of and distances to the 10 nearest neighbors. "
   ]
  },
  {
   "cell_type": "code",
   "execution_count": 16,
   "metadata": {
    "collapsed": true
   },
   "outputs": [],
   "source": [
    "distances, indices = model.kneighbors(word_count[35817], n_neighbors = 10) # 1st arg: word count vector"
   ]
  },
  {
   "cell_type": "code",
   "execution_count": 17,
   "metadata": {
    "collapsed": false
   },
   "outputs": [
    {
     "data": {
      "text/plain": [
       "pandas.core.frame.DataFrame"
      ]
     },
     "execution_count": 17,
     "metadata": {},
     "output_type": "execute_result"
    }
   ],
   "source": [
    "type(wiki)"
   ]
  },
  {
   "cell_type": "markdown",
   "metadata": {},
   "source": [
    "Display the top 10 neighbors"
   ]
  },
  {
   "cell_type": "code",
   "execution_count": 21,
   "metadata": {
    "collapsed": false,
    "scrolled": false
   },
   "outputs": [
    {
     "name": "stdout",
     "output_type": "stream",
     "text": [
      "      id                        name   distance\n",
      "8  35817                Barack Obama   0.000000\n",
      "4  24478                   Joe Biden  33.075671\n",
      "5  28447              George W. Bush  34.394767\n",
      "7  35357            Lawrence Summers  36.152455\n",
      "2  14754                 Mitt Romney  36.166283\n",
      "1  13229            Francisco Barrio  36.331804\n",
      "6  31423              Walter Mondale  36.400549\n",
      "3  22745  Wynn Normington Hugh-Jones  36.496575\n",
      "9  36364                  Don Bonker  36.633318\n",
      "0   9210                Andy Anstett  36.959437\n"
     ]
    },
    {
     "name": "stderr",
     "output_type": "stream",
     "text": [
      "/Users/shute/anaconda/lib/python2.7/site-packages/ipykernel/__main__.py:2: FutureWarning: sort(columns=....) is deprecated, use sort_values(by=.....)\n",
      "  from ipykernel import kernelapp as app\n"
     ]
    }
   ],
   "source": [
    "neighbors = pd.DataFrame.from_dict({'distance': distances.flatten(), 'id': indices.flatten()})\n",
    "print wiki.merge(neighbors, on = 'id', how = 'inner').sort('distance')[['id', 'name', 'distance']]"
   ]
  },
  {
   "cell_type": "code",
   "execution_count": 77,
   "metadata": {
    "collapsed": false
   },
   "outputs": [
    {
     "data": {
      "text/plain": [
       "pandas.core.frame.DataFrame"
      ]
     },
     "execution_count": 77,
     "metadata": {},
     "output_type": "execute_result"
    }
   ],
   "source": [
    "type(neighbors)"
   ]
  },
  {
   "cell_type": "code",
   "execution_count": 78,
   "metadata": {
    "collapsed": false
   },
   "outputs": [
    {
     "data": {
      "text/html": [
       "<div>\n",
       "<table border=\"1\" class=\"dataframe\">\n",
       "  <thead>\n",
       "    <tr style=\"text-align: right;\">\n",
       "      <th></th>\n",
       "      <th>distance</th>\n",
       "      <th>id</th>\n",
       "    </tr>\n",
       "  </thead>\n",
       "  <tbody>\n",
       "    <tr>\n",
       "      <th>0</th>\n",
       "      <td>0.000000</td>\n",
       "      <td>35817</td>\n",
       "    </tr>\n",
       "    <tr>\n",
       "      <th>1</th>\n",
       "      <td>106.861014</td>\n",
       "      <td>7914</td>\n",
       "    </tr>\n",
       "    <tr>\n",
       "      <th>2</th>\n",
       "      <td>108.871674</td>\n",
       "      <td>46811</td>\n",
       "    </tr>\n",
       "    <tr>\n",
       "      <th>3</th>\n",
       "      <td>109.045698</td>\n",
       "      <td>44681</td>\n",
       "    </tr>\n",
       "    <tr>\n",
       "      <th>4</th>\n",
       "      <td>109.108106</td>\n",
       "      <td>38376</td>\n",
       "    </tr>\n",
       "  </tbody>\n",
       "</table>\n",
       "</div>"
      ],
      "text/plain": [
       "     distance     id\n",
       "0    0.000000  35817\n",
       "1  106.861014   7914\n",
       "2  108.871674  46811\n",
       "3  109.045698  44681\n",
       "4  109.108106  38376"
      ]
     },
     "execution_count": 78,
     "metadata": {},
     "output_type": "execute_result"
    }
   ],
   "source": [
    "neighbors.head()"
   ]
  },
  {
   "cell_type": "markdown",
   "metadata": {},
   "source": [
    "#### Interpreting the nearest neighbors"
   ]
  },
  {
   "cell_type": "markdown",
   "metadata": {},
   "source": [
    "Explore the relationship between 'Digby Morrel' page and 'Barack Obama' page"
   ]
  },
  {
   "cell_type": "markdown",
   "metadata": {},
   "source": [
    "Macth the word_count vectors with the documents:"
   ]
  },
  {
   "cell_type": "code",
   "execution_count": 22,
   "metadata": {
    "collapsed": false
   },
   "outputs": [],
   "source": [
    "def unpack_dict(matrix, map_index_to_word):\n",
    "    table = sorted(map_index_to_word, key = map_index_to_word.get)\n",
    "    \n",
    "    data = matrix.data\n",
    "    indices = matrix.indices\n",
    "    indptr = matrix.indptr\n",
    "    \n",
    "    num_doc = matrix.shape[0]\n",
    "\n",
    "    return [{k:v for k,v in zip([table[word_id] for word_id in indices[indptr[i]:indptr[i+1]] ],\n",
    "                                 data[indptr[i]:indptr[i+1]].tolist())} \\\n",
    "               for i in xrange(num_doc) ]\n",
    "\n",
    "wiki['word_count'] = unpack_dict(word_count, map_index_to_word)"
   ]
  },
  {
   "cell_type": "code",
   "execution_count": 23,
   "metadata": {
    "collapsed": false
   },
   "outputs": [
    {
     "data": {
      "text/html": [
       "<div>\n",
       "<table border=\"1\" class=\"dataframe\">\n",
       "  <thead>\n",
       "    <tr style=\"text-align: right;\">\n",
       "      <th></th>\n",
       "      <th>URI</th>\n",
       "      <th>name</th>\n",
       "      <th>text</th>\n",
       "      <th>id</th>\n",
       "      <th>word_count</th>\n",
       "    </tr>\n",
       "  </thead>\n",
       "  <tbody>\n",
       "    <tr>\n",
       "      <th>0</th>\n",
       "      <td>&lt;http://dbpedia.org/resource/Digby_Morrell&gt;</td>\n",
       "      <td>Digby Morrell</td>\n",
       "      <td>digby morrell born 10 october 1979 is a former...</td>\n",
       "      <td>0</td>\n",
       "      <td>{u'selection': 1, u'carltons': 1, u'being': 1,...</td>\n",
       "    </tr>\n",
       "    <tr>\n",
       "      <th>1</th>\n",
       "      <td>&lt;http://dbpedia.org/resource/Alfred_J._Lewy&gt;</td>\n",
       "      <td>Alfred J. Lewy</td>\n",
       "      <td>alfred j lewy aka sandy lewy graduated from un...</td>\n",
       "      <td>1</td>\n",
       "      <td>{u'precise': 1, u'thomas': 1, u'they': 1, u'di...</td>\n",
       "    </tr>\n",
       "    <tr>\n",
       "      <th>2</th>\n",
       "      <td>&lt;http://dbpedia.org/resource/Harpdog_Brown&gt;</td>\n",
       "      <td>Harpdog Brown</td>\n",
       "      <td>harpdog brown is a singer and harmonica player...</td>\n",
       "      <td>2</td>\n",
       "      <td>{u'just': 1, u'issued': 1, u'mainly': 1, u'nom...</td>\n",
       "    </tr>\n",
       "    <tr>\n",
       "      <th>3</th>\n",
       "      <td>&lt;http://dbpedia.org/resource/Franz_Rottensteiner&gt;</td>\n",
       "      <td>Franz Rottensteiner</td>\n",
       "      <td>franz rottensteiner born in waidmannsfeld lowe...</td>\n",
       "      <td>3</td>\n",
       "      <td>{u'all': 1, u'bauforschung': 1, u'just': 1, u'...</td>\n",
       "    </tr>\n",
       "    <tr>\n",
       "      <th>4</th>\n",
       "      <td>&lt;http://dbpedia.org/resource/G-Enka&gt;</td>\n",
       "      <td>G-Enka</td>\n",
       "      <td>henry krvits born 30 december 1974 in tallinn ...</td>\n",
       "      <td>4</td>\n",
       "      <td>{u'legendary': 1, u'gangstergenka': 1, u'legen...</td>\n",
       "    </tr>\n",
       "  </tbody>\n",
       "</table>\n",
       "</div>"
      ],
      "text/plain": [
       "                                                 URI                 name  \\\n",
       "0        <http://dbpedia.org/resource/Digby_Morrell>        Digby Morrell   \n",
       "1       <http://dbpedia.org/resource/Alfred_J._Lewy>       Alfred J. Lewy   \n",
       "2        <http://dbpedia.org/resource/Harpdog_Brown>        Harpdog Brown   \n",
       "3  <http://dbpedia.org/resource/Franz_Rottensteiner>  Franz Rottensteiner   \n",
       "4               <http://dbpedia.org/resource/G-Enka>               G-Enka   \n",
       "\n",
       "                                                text  id  \\\n",
       "0  digby morrell born 10 october 1979 is a former...   0   \n",
       "1  alfred j lewy aka sandy lewy graduated from un...   1   \n",
       "2  harpdog brown is a singer and harmonica player...   2   \n",
       "3  franz rottensteiner born in waidmannsfeld lowe...   3   \n",
       "4  henry krvits born 30 december 1974 in tallinn ...   4   \n",
       "\n",
       "                                          word_count  \n",
       "0  {u'selection': 1, u'carltons': 1, u'being': 1,...  \n",
       "1  {u'precise': 1, u'thomas': 1, u'they': 1, u'di...  \n",
       "2  {u'just': 1, u'issued': 1, u'mainly': 1, u'nom...  \n",
       "3  {u'all': 1, u'bauforschung': 1, u'just': 1, u'...  \n",
       "4  {u'legendary': 1, u'gangstergenka': 1, u'legen...  "
      ]
     },
     "execution_count": 23,
     "metadata": {},
     "output_type": "execute_result"
    }
   ],
   "source": [
    "wiki.head()"
   ]
  },
  {
   "cell_type": "code",
   "execution_count": 24,
   "metadata": {
    "collapsed": false,
    "scrolled": true
   },
   "outputs": [
    {
     "name": "stdout",
     "output_type": "stream",
     "text": [
      "                word  count\n",
      "23               the     40\n",
      "215               in     30\n",
      "138              and     21\n",
      "127               of     18\n",
      "161               to     14\n",
      "37               his     11\n",
      "189            obama      9\n",
      "133              act      8\n",
      "156               he      7\n",
      "260                a      7\n",
      "62                us      6\n",
      "221               as      6\n",
      "99               law      6\n",
      "173              was      5\n",
      "208          control      4\n",
      "256        president      4\n",
      "249            after      4\n",
      "88               for      4\n",
      "134         military      4\n",
      "157             iraq      4\n",
      "270       democratic      4\n",
      "30               has      4\n",
      "197           signed      3\n",
      "113           states      3\n",
      "158             from      3\n",
      "41              term      3\n",
      "243            party      3\n",
      "31              2011      3\n",
      "81          election      3\n",
      "72            senate      3\n",
      "..               ...    ...\n",
      "154            total      1\n",
      "117          address      1\n",
      "115              job      1\n",
      "114             lgbt      1\n",
      "97            worked      1\n",
      "83         operation      1\n",
      "84         insurance      1\n",
      "85             sandy      1\n",
      "87       initiatives      1\n",
      "89            reform      1\n",
      "90           federal      1\n",
      "91            review      1\n",
      "93           current      1\n",
      "94             state      1\n",
      "95               won      1\n",
      "96          marriage      1\n",
      "100          victory      1\n",
      "112        delegates      1\n",
      "101       affordable      1\n",
      "102  reauthorization      1\n",
      "103          keynote      1\n",
      "104             full      1\n",
      "105          patient      1\n",
      "106           august      1\n",
      "107           degree      1\n",
      "108             44th      1\n",
      "109               bm      1\n",
      "110             mitt      1\n",
      "111        attention      1\n",
      "272            began      1\n",
      "\n",
      "[273 rows x 2 columns]\n",
      "               word  count\n",
      "220             the     36\n",
      "84               of     24\n",
      "206             and     18\n",
      "184              in     17\n",
      "125              he     10\n",
      "17               to      9\n",
      "14        chihuahua      7\n",
      "159        governor      6\n",
      "211               a      6\n",
      "181              as      5\n",
      "170             his      5\n",
      "135             was      4\n",
      "126            from      4\n",
      "74            state      4\n",
      "207          action      3\n",
      "110           first      3\n",
      "57         national      3\n",
      "16           former      3\n",
      "199           party      3\n",
      "66              for      3\n",
      "36            years      3\n",
      "149          barrio      2\n",
      "51           served      2\n",
      "42             held      2\n",
      "98           juarez      2\n",
      "177             pri      2\n",
      "183              at      2\n",
      "178              an      2\n",
      "62           canada      2\n",
      "176              is      2\n",
      "..              ...    ...\n",
      "116             win      1\n",
      "117           named      1\n",
      "118         groupon      1\n",
      "119         private      1\n",
      "95        suggested      1\n",
      "94          creelin      1\n",
      "93       clothingin      1\n",
      "92             post      1\n",
      "69         partisan      1\n",
      "70        foxbarrio      1\n",
      "71        expressed      1\n",
      "72              its      1\n",
      "73          arguing      1\n",
      "75              won      1\n",
      "76                7      1\n",
      "77         deputies      1\n",
      "78             ever      1\n",
      "79         quitting      1\n",
      "80             1986      1\n",
      "81     governorship      1\n",
      "82           satevo      1\n",
      "83           months      1\n",
      "85         hundreds      1\n",
      "86              met      1\n",
      "87         murdered      1\n",
      "88       leadership      1\n",
      "89   barrioterrazas      1\n",
      "90       opposition      1\n",
      "91       affiliated      1\n",
      "224         joining      1\n",
      "\n",
      "[225 rows x 2 columns]\n"
     ]
    },
    {
     "name": "stderr",
     "output_type": "stream",
     "text": [
      "/Users/shute/anaconda/lib/python2.7/site-packages/ipykernel/__main__.py:8: FutureWarning: sort(columns=....) is deprecated, use sort_values(by=.....)\n"
     ]
    }
   ],
   "source": [
    "def top_words(name):\n",
    "    \"\"\"\n",
    "    Get a table of the most frequent words in the given person's wikipedia page.\n",
    "    \"\"\"\n",
    "    row = wiki[wiki['name'] == name]\n",
    "    word_count_table = pd.DataFrame()\n",
    "    word_count_table['word'], word_count_table['count'] = (row['word_count']).item().keys(), (row['word_count']).item().values()\n",
    "    return word_count_table.sort('count', ascending = False)\n",
    "\n",
    "obama_words = top_words('Barack Obama')\n",
    "print obama_words\n",
    "\n",
    "barrio_words = top_words('Francisco Barrio')\n",
    "print barrio_words"
   ]
  },
  {
   "cell_type": "markdown",
   "metadata": {},
   "source": [
    "Extract the rows from both tables that correspond to the common words."
   ]
  },
  {
   "cell_type": "code",
   "execution_count": 25,
   "metadata": {
    "collapsed": false
   },
   "outputs": [],
   "source": [
    "combined_words = obama_words.merge(barrio_words, on = 'word', how = 'inner') # a similar function to 'join'"
   ]
  },
  {
   "cell_type": "code",
   "execution_count": 28,
   "metadata": {
    "collapsed": false
   },
   "outputs": [
    {
     "data": {
      "text/plain": [
       "pandas.core.frame.DataFrame"
      ]
     },
     "execution_count": 28,
     "metadata": {},
     "output_type": "execute_result"
    }
   ],
   "source": [
    "type(combined_words)"
   ]
  },
  {
   "cell_type": "code",
   "execution_count": 26,
   "metadata": {
    "collapsed": true
   },
   "outputs": [],
   "source": [
    "combined_words = combined_words.rename(columns = {'count_x': 'Obama', 'count_y': 'Barrio'})"
   ]
  },
  {
   "cell_type": "code",
   "execution_count": 27,
   "metadata": {
    "collapsed": false
   },
   "outputs": [
    {
     "name": "stderr",
     "output_type": "stream",
     "text": [
      "/Users/shute/anaconda/lib/python2.7/site-packages/ipykernel/__main__.py:1: FutureWarning: sort(columns=....) is deprecated, use sort_values(by=.....)\n",
      "  if __name__ == '__main__':\n"
     ]
    },
    {
     "data": {
      "text/html": [
       "<div>\n",
       "<table border=\"1\" class=\"dataframe\">\n",
       "  <thead>\n",
       "    <tr style=\"text-align: right;\">\n",
       "      <th></th>\n",
       "      <th>word</th>\n",
       "      <th>Obama</th>\n",
       "      <th>Barrio</th>\n",
       "    </tr>\n",
       "  </thead>\n",
       "  <tbody>\n",
       "    <tr>\n",
       "      <th>0</th>\n",
       "      <td>the</td>\n",
       "      <td>40</td>\n",
       "      <td>36</td>\n",
       "    </tr>\n",
       "    <tr>\n",
       "      <th>1</th>\n",
       "      <td>in</td>\n",
       "      <td>30</td>\n",
       "      <td>17</td>\n",
       "    </tr>\n",
       "    <tr>\n",
       "      <th>2</th>\n",
       "      <td>and</td>\n",
       "      <td>21</td>\n",
       "      <td>18</td>\n",
       "    </tr>\n",
       "    <tr>\n",
       "      <th>3</th>\n",
       "      <td>of</td>\n",
       "      <td>18</td>\n",
       "      <td>24</td>\n",
       "    </tr>\n",
       "    <tr>\n",
       "      <th>4</th>\n",
       "      <td>to</td>\n",
       "      <td>14</td>\n",
       "      <td>9</td>\n",
       "    </tr>\n",
       "  </tbody>\n",
       "</table>\n",
       "</div>"
      ],
      "text/plain": [
       "  word  Obama  Barrio\n",
       "0  the     40      36\n",
       "1   in     30      17\n",
       "2  and     21      18\n",
       "3   of     18      24\n",
       "4   to     14       9"
      ]
     },
     "execution_count": 27,
     "metadata": {},
     "output_type": "execute_result"
    }
   ],
   "source": [
    "combined_words.sort('Obama', ascending = False)\n",
    "combined_words.head()"
   ]
  },
  {
   "cell_type": "markdown",
   "metadata": {},
   "source": [
    "How many of the articles contain all of the top 5 words in 'Obama' and 'Barrio' pages?"
   ]
  },
  {
   "cell_type": "code",
   "execution_count": 31,
   "metadata": {
    "collapsed": false
   },
   "outputs": [],
   "source": [
    "common_words = combined_words['word'][:5]\n",
    "\n",
    "def has_top_words(word_count_vector):\n",
    "    # extract the keys of word_count_vector and convert it to a set\n",
    "    unique_words = word_count_vector.keys()\n",
    "    # return True if common_words is a subset of unique_words\n",
    "    # return False otherwise\n",
    "    return set(common_words).issubset(unique_words)\n",
    "\n",
    "wiki['has_top_words'] = wiki['word_count'].apply(has_top_words)"
   ]
  },
  {
   "cell_type": "code",
   "execution_count": 33,
   "metadata": {
    "collapsed": false
   },
   "outputs": [
    {
     "data": {
      "text/html": [
       "<div>\n",
       "<table border=\"1\" class=\"dataframe\">\n",
       "  <thead>\n",
       "    <tr style=\"text-align: right;\">\n",
       "      <th></th>\n",
       "      <th>URI</th>\n",
       "      <th>name</th>\n",
       "      <th>text</th>\n",
       "      <th>id</th>\n",
       "      <th>word_count</th>\n",
       "      <th>has_top_words</th>\n",
       "    </tr>\n",
       "  </thead>\n",
       "  <tbody>\n",
       "    <tr>\n",
       "      <th>0</th>\n",
       "      <td>&lt;http://dbpedia.org/resource/Digby_Morrell&gt;</td>\n",
       "      <td>Digby Morrell</td>\n",
       "      <td>digby morrell born 10 october 1979 is a former...</td>\n",
       "      <td>0</td>\n",
       "      <td>{u'selection': 1, u'carltons': 1, u'being': 1,...</td>\n",
       "      <td>True</td>\n",
       "    </tr>\n",
       "    <tr>\n",
       "      <th>1</th>\n",
       "      <td>&lt;http://dbpedia.org/resource/Alfred_J._Lewy&gt;</td>\n",
       "      <td>Alfred J. Lewy</td>\n",
       "      <td>alfred j lewy aka sandy lewy graduated from un...</td>\n",
       "      <td>1</td>\n",
       "      <td>{u'precise': 1, u'thomas': 1, u'they': 1, u'di...</td>\n",
       "      <td>True</td>\n",
       "    </tr>\n",
       "    <tr>\n",
       "      <th>2</th>\n",
       "      <td>&lt;http://dbpedia.org/resource/Harpdog_Brown&gt;</td>\n",
       "      <td>Harpdog Brown</td>\n",
       "      <td>harpdog brown is a singer and harmonica player...</td>\n",
       "      <td>2</td>\n",
       "      <td>{u'just': 1, u'issued': 1, u'mainly': 1, u'nom...</td>\n",
       "      <td>True</td>\n",
       "    </tr>\n",
       "    <tr>\n",
       "      <th>3</th>\n",
       "      <td>&lt;http://dbpedia.org/resource/Franz_Rottensteiner&gt;</td>\n",
       "      <td>Franz Rottensteiner</td>\n",
       "      <td>franz rottensteiner born in waidmannsfeld lowe...</td>\n",
       "      <td>3</td>\n",
       "      <td>{u'all': 1, u'bauforschung': 1, u'just': 1, u'...</td>\n",
       "      <td>True</td>\n",
       "    </tr>\n",
       "    <tr>\n",
       "      <th>4</th>\n",
       "      <td>&lt;http://dbpedia.org/resource/G-Enka&gt;</td>\n",
       "      <td>G-Enka</td>\n",
       "      <td>henry krvits born 30 december 1974 in tallinn ...</td>\n",
       "      <td>4</td>\n",
       "      <td>{u'legendary': 1, u'gangstergenka': 1, u'legen...</td>\n",
       "      <td>False</td>\n",
       "    </tr>\n",
       "  </tbody>\n",
       "</table>\n",
       "</div>"
      ],
      "text/plain": [
       "                                                 URI                 name  \\\n",
       "0        <http://dbpedia.org/resource/Digby_Morrell>        Digby Morrell   \n",
       "1       <http://dbpedia.org/resource/Alfred_J._Lewy>       Alfred J. Lewy   \n",
       "2        <http://dbpedia.org/resource/Harpdog_Brown>        Harpdog Brown   \n",
       "3  <http://dbpedia.org/resource/Franz_Rottensteiner>  Franz Rottensteiner   \n",
       "4               <http://dbpedia.org/resource/G-Enka>               G-Enka   \n",
       "\n",
       "                                                text  id  \\\n",
       "0  digby morrell born 10 october 1979 is a former...   0   \n",
       "1  alfred j lewy aka sandy lewy graduated from un...   1   \n",
       "2  harpdog brown is a singer and harmonica player...   2   \n",
       "3  franz rottensteiner born in waidmannsfeld lowe...   3   \n",
       "4  henry krvits born 30 december 1974 in tallinn ...   4   \n",
       "\n",
       "                                          word_count has_top_words  \n",
       "0  {u'selection': 1, u'carltons': 1, u'being': 1,...          True  \n",
       "1  {u'precise': 1, u'thomas': 1, u'they': 1, u'di...          True  \n",
       "2  {u'just': 1, u'issued': 1, u'mainly': 1, u'nom...          True  \n",
       "3  {u'all': 1, u'bauforschung': 1, u'just': 1, u'...          True  \n",
       "4  {u'legendary': 1, u'gangstergenka': 1, u'legen...         False  "
      ]
     },
     "execution_count": 33,
     "metadata": {},
     "output_type": "execute_result"
    }
   ],
   "source": [
    "wiki.head()"
   ]
  },
  {
   "cell_type": "markdown",
   "metadata": {},
   "source": [
    "Test cases of the above function:"
   ]
  },
  {
   "cell_type": "code",
   "execution_count": 34,
   "metadata": {
    "collapsed": false
   },
   "outputs": [
    {
     "name": "stdout",
     "output_type": "stream",
     "text": [
      "Output from your function: True\n",
      "Correct output: True\n",
      "Output from your function: False\n",
      "Correct output: False\n"
     ]
    }
   ],
   "source": [
    "print 'Output from your function:', has_top_words(wiki.iloc[32]['word_count'])\n",
    "print 'Correct output: True'\n",
    "\n",
    "print 'Output from your function:', has_top_words(wiki.iloc[33]['word_count'])\n",
    "print 'Correct output: False'"
   ]
  },
  {
   "cell_type": "code",
   "execution_count": 35,
   "metadata": {
    "collapsed": false
   },
   "outputs": [
    {
     "data": {
      "text/plain": [
       "56066"
      ]
     },
     "execution_count": 35,
     "metadata": {},
     "output_type": "execute_result"
    }
   ],
   "source": [
    "sum(wiki['has_top_words'])"
   ]
  },
  {
   "cell_type": "markdown",
   "metadata": {},
   "source": [
    "#### Quiz Question.   \n",
    "Measure the pairwise distance between the Wikipedia pages of Barack Obama, George W. Bush, and Joe Biden. Which of the three pairs has the smallest distance?\n",
    "\n"
   ]
  },
  {
   "cell_type": "code",
   "execution_count": 36,
   "metadata": {
    "collapsed": false
   },
   "outputs": [
    {
     "data": {
      "text/plain": [
       "(59071, 547979)"
      ]
     },
     "execution_count": 36,
     "metadata": {},
     "output_type": "execute_result"
    }
   ],
   "source": [
    "word_count.shape\n",
    "# 547979 / 59071 = 9.28... is not an integer, which implies that this matrix stores different words for different articles"
   ]
  },
  {
   "cell_type": "markdown",
   "metadata": {},
   "source": [
    "This result tells us that word_count only collects words that appear in all articles at least once."
   ]
  },
  {
   "cell_type": "code",
   "execution_count": 37,
   "metadata": {
    "collapsed": false
   },
   "outputs": [
    {
     "data": {
      "text/plain": [
       "Index([u'URI', u'name', u'text', u'id', u'word_count', u'has_top_words'], dtype='object')"
      ]
     },
     "execution_count": 37,
     "metadata": {},
     "output_type": "execute_result"
    }
   ],
   "source": [
    "wiki.columns"
   ]
  },
  {
   "cell_type": "code",
   "execution_count": 38,
   "metadata": {
    "collapsed": false
   },
   "outputs": [],
   "source": [
    "O_indices = wiki[wiki['name'] == 'Barack Obama'].index\n",
    "W_indices = wiki[wiki['name'] == 'George W. Bush'].index\n",
    "B_indices = wiki[wiki['name'] == 'Joe Biden'].index"
   ]
  },
  {
   "cell_type": "code",
   "execution_count": 39,
   "metadata": {
    "collapsed": false
   },
   "outputs": [
    {
     "name": "stdout",
     "output_type": "stream",
     "text": [
      "Euclidean Distance between Obama and Bush: [[ 34.39476704]]\n",
      "Euclidean Distance between Obama and Biden: [[ 33.07567082]]\n",
      "Euclidean Distance between Bush and Biden: [[ 32.75667871]]\n"
     ]
    }
   ],
   "source": [
    "from sklearn.metrics.pairwise import euclidean_distances\n",
    "print 'Euclidean Distance between Obama and Bush:', euclidean_distances(word_count[O_indices], word_count[W_indices])\n",
    "print 'Euclidean Distance between Obama and Biden:', euclidean_distances(word_count[O_indices], word_count[B_indices])\n",
    "print 'Euclidean Distance between Bush and Biden:', euclidean_distances(word_count[W_indices], word_count[B_indices])"
   ]
  },
  {
   "cell_type": "markdown",
   "metadata": {},
   "source": [
    "#### Quiz Question.   \n",
    "Collect all words that appear both in Barack Obama and George W. Bush pages. Out of those words, find the 10 words that show up most often in Obama's page.\n",
    "\n"
   ]
  },
  {
   "cell_type": "code",
   "execution_count": 40,
   "metadata": {
    "collapsed": false
   },
   "outputs": [
    {
     "name": "stderr",
     "output_type": "stream",
     "text": [
      "/Users/shute/anaconda/lib/python2.7/site-packages/ipykernel/__main__.py:8: FutureWarning: sort(columns=....) is deprecated, use sort_values(by=.....)\n"
     ]
    }
   ],
   "source": [
    "obama_words = top_words('Barack Obama')\n",
    "bush_words = top_words('George W. Bush')"
   ]
  },
  {
   "cell_type": "code",
   "execution_count": 41,
   "metadata": {
    "collapsed": false
   },
   "outputs": [
    {
     "name": "stderr",
     "output_type": "stream",
     "text": [
      "/Users/shute/anaconda/lib/python2.7/site-packages/ipykernel/__main__.py:2: FutureWarning: sort(columns=....) is deprecated, use sort_values(by=.....)\n",
      "  from ipykernel import kernelapp as app\n"
     ]
    },
    {
     "data": {
      "text/html": [
       "<div>\n",
       "<table border=\"1\" class=\"dataframe\">\n",
       "  <thead>\n",
       "    <tr style=\"text-align: right;\">\n",
       "      <th></th>\n",
       "      <th>word</th>\n",
       "      <th>count_x</th>\n",
       "      <th>count_y</th>\n",
       "    </tr>\n",
       "  </thead>\n",
       "  <tbody>\n",
       "    <tr>\n",
       "      <th>0</th>\n",
       "      <td>the</td>\n",
       "      <td>40</td>\n",
       "      <td>39</td>\n",
       "    </tr>\n",
       "    <tr>\n",
       "      <th>1</th>\n",
       "      <td>in</td>\n",
       "      <td>30</td>\n",
       "      <td>22</td>\n",
       "    </tr>\n",
       "    <tr>\n",
       "      <th>2</th>\n",
       "      <td>and</td>\n",
       "      <td>21</td>\n",
       "      <td>14</td>\n",
       "    </tr>\n",
       "    <tr>\n",
       "      <th>3</th>\n",
       "      <td>of</td>\n",
       "      <td>18</td>\n",
       "      <td>14</td>\n",
       "    </tr>\n",
       "    <tr>\n",
       "      <th>4</th>\n",
       "      <td>to</td>\n",
       "      <td>14</td>\n",
       "      <td>11</td>\n",
       "    </tr>\n",
       "    <tr>\n",
       "      <th>5</th>\n",
       "      <td>his</td>\n",
       "      <td>11</td>\n",
       "      <td>6</td>\n",
       "    </tr>\n",
       "    <tr>\n",
       "      <th>6</th>\n",
       "      <td>act</td>\n",
       "      <td>8</td>\n",
       "      <td>3</td>\n",
       "    </tr>\n",
       "    <tr>\n",
       "      <th>7</th>\n",
       "      <td>he</td>\n",
       "      <td>7</td>\n",
       "      <td>8</td>\n",
       "    </tr>\n",
       "    <tr>\n",
       "      <th>8</th>\n",
       "      <td>a</td>\n",
       "      <td>7</td>\n",
       "      <td>6</td>\n",
       "    </tr>\n",
       "    <tr>\n",
       "      <th>9</th>\n",
       "      <td>as</td>\n",
       "      <td>6</td>\n",
       "      <td>6</td>\n",
       "    </tr>\n",
       "  </tbody>\n",
       "</table>\n",
       "</div>"
      ],
      "text/plain": [
       "  word  count_x  count_y\n",
       "0  the       40       39\n",
       "1   in       30       22\n",
       "2  and       21       14\n",
       "3   of       18       14\n",
       "4   to       14       11\n",
       "5  his       11        6\n",
       "6  act        8        3\n",
       "7   he        7        8\n",
       "8    a        7        6\n",
       "9   as        6        6"
      ]
     },
     "execution_count": 41,
     "metadata": {},
     "output_type": "execute_result"
    }
   ],
   "source": [
    "ob_combined_words = pd.merge(obama_words, bush_words, on = 'word', how = 'inner')\n",
    "ob_combined_words.sort('count_x', ascending = False)[:10]"
   ]
  },
  {
   "cell_type": "markdown",
   "metadata": {},
   "source": [
    "### 2.Extract the TF-IDF vectors"
   ]
  },
  {
   "cell_type": "markdown",
   "metadata": {},
   "source": [
    "Much of the perceived commonalities between Obama and Barrio were due to occurrences of extremely frequent words, such as \"the\", \"and\", and \"his\". So the nearest neighbors algorithm is recommending plausible results sometimes for the wrong reasons.\n",
    "\n",
    "To retrieve articles that are more relevant, we should focus more on rare words that don't happen in every article. TF-IDF (term frequency–inverse document frequency) is a feature representation that penalizes words that are too common"
   ]
  },
  {
   "cell_type": "code",
   "execution_count": 42,
   "metadata": {
    "collapsed": true
   },
   "outputs": [],
   "source": [
    "tf_idf = load_sparse_csr('people_wiki_tf_idf.npz')\n",
    "wiki['tf_idf'] = unpack_dict(tf_idf, map_index_to_word)\n",
    "# We can also use 'sklearn.TfidfVectorizer' here."
   ]
  },
  {
   "cell_type": "code",
   "execution_count": 43,
   "metadata": {
    "collapsed": false
   },
   "outputs": [
    {
     "data": {
      "text/html": [
       "<div>\n",
       "<table border=\"1\" class=\"dataframe\">\n",
       "  <thead>\n",
       "    <tr style=\"text-align: right;\">\n",
       "      <th></th>\n",
       "      <th>URI</th>\n",
       "      <th>name</th>\n",
       "      <th>text</th>\n",
       "      <th>id</th>\n",
       "      <th>word_count</th>\n",
       "      <th>has_top_words</th>\n",
       "      <th>tf_idf</th>\n",
       "    </tr>\n",
       "  </thead>\n",
       "  <tbody>\n",
       "    <tr>\n",
       "      <th>0</th>\n",
       "      <td>&lt;http://dbpedia.org/resource/Digby_Morrell&gt;</td>\n",
       "      <td>Digby Morrell</td>\n",
       "      <td>digby morrell born 10 october 1979 is a former...</td>\n",
       "      <td>0</td>\n",
       "      <td>{u'selection': 1, u'carltons': 1, u'being': 1,...</td>\n",
       "      <td>True</td>\n",
       "      <td>{u'selection': 3.83657855309, u'carltons': 7.0...</td>\n",
       "    </tr>\n",
       "    <tr>\n",
       "      <th>1</th>\n",
       "      <td>&lt;http://dbpedia.org/resource/Alfred_J._Lewy&gt;</td>\n",
       "      <td>Alfred J. Lewy</td>\n",
       "      <td>alfred j lewy aka sandy lewy graduated from un...</td>\n",
       "      <td>1</td>\n",
       "      <td>{u'precise': 1, u'thomas': 1, u'they': 1, u'di...</td>\n",
       "      <td>True</td>\n",
       "      <td>{u'precise': 6.44320060696, u'thomas': 3.32027...</td>\n",
       "    </tr>\n",
       "    <tr>\n",
       "      <th>2</th>\n",
       "      <td>&lt;http://dbpedia.org/resource/Harpdog_Brown&gt;</td>\n",
       "      <td>Harpdog Brown</td>\n",
       "      <td>harpdog brown is a singer and harmonica player...</td>\n",
       "      <td>2</td>\n",
       "      <td>{u'just': 1, u'issued': 1, u'mainly': 1, u'nom...</td>\n",
       "      <td>True</td>\n",
       "      <td>{u'just': 2.70072996871, u'issued': 4.42971703...</td>\n",
       "    </tr>\n",
       "    <tr>\n",
       "      <th>3</th>\n",
       "      <td>&lt;http://dbpedia.org/resource/Franz_Rottensteiner&gt;</td>\n",
       "      <td>Franz Rottensteiner</td>\n",
       "      <td>franz rottensteiner born in waidmannsfeld lowe...</td>\n",
       "      <td>3</td>\n",
       "      <td>{u'all': 1, u'bauforschung': 1, u'just': 1, u'...</td>\n",
       "      <td>True</td>\n",
       "      <td>{u'all': 1.64311124349, u'bauforschung': 10.98...</td>\n",
       "    </tr>\n",
       "    <tr>\n",
       "      <th>4</th>\n",
       "      <td>&lt;http://dbpedia.org/resource/G-Enka&gt;</td>\n",
       "      <td>G-Enka</td>\n",
       "      <td>henry krvits born 30 december 1974 in tallinn ...</td>\n",
       "      <td>4</td>\n",
       "      <td>{u'legendary': 1, u'gangstergenka': 1, u'legen...</td>\n",
       "      <td>False</td>\n",
       "      <td>{u'legendary': 4.28085629437, u'gangstergenka'...</td>\n",
       "    </tr>\n",
       "  </tbody>\n",
       "</table>\n",
       "</div>"
      ],
      "text/plain": [
       "                                                 URI                 name  \\\n",
       "0        <http://dbpedia.org/resource/Digby_Morrell>        Digby Morrell   \n",
       "1       <http://dbpedia.org/resource/Alfred_J._Lewy>       Alfred J. Lewy   \n",
       "2        <http://dbpedia.org/resource/Harpdog_Brown>        Harpdog Brown   \n",
       "3  <http://dbpedia.org/resource/Franz_Rottensteiner>  Franz Rottensteiner   \n",
       "4               <http://dbpedia.org/resource/G-Enka>               G-Enka   \n",
       "\n",
       "                                                text  id  \\\n",
       "0  digby morrell born 10 october 1979 is a former...   0   \n",
       "1  alfred j lewy aka sandy lewy graduated from un...   1   \n",
       "2  harpdog brown is a singer and harmonica player...   2   \n",
       "3  franz rottensteiner born in waidmannsfeld lowe...   3   \n",
       "4  henry krvits born 30 december 1974 in tallinn ...   4   \n",
       "\n",
       "                                          word_count has_top_words  \\\n",
       "0  {u'selection': 1, u'carltons': 1, u'being': 1,...          True   \n",
       "1  {u'precise': 1, u'thomas': 1, u'they': 1, u'di...          True   \n",
       "2  {u'just': 1, u'issued': 1, u'mainly': 1, u'nom...          True   \n",
       "3  {u'all': 1, u'bauforschung': 1, u'just': 1, u'...          True   \n",
       "4  {u'legendary': 1, u'gangstergenka': 1, u'legen...         False   \n",
       "\n",
       "                                              tf_idf  \n",
       "0  {u'selection': 3.83657855309, u'carltons': 7.0...  \n",
       "1  {u'precise': 6.44320060696, u'thomas': 3.32027...  \n",
       "2  {u'just': 2.70072996871, u'issued': 4.42971703...  \n",
       "3  {u'all': 1.64311124349, u'bauforschung': 10.98...  \n",
       "4  {u'legendary': 4.28085629437, u'gangstergenka'...  "
      ]
     },
     "execution_count": 43,
     "metadata": {},
     "output_type": "execute_result"
    }
   ],
   "source": [
    "wiki.head()"
   ]
  },
  {
   "cell_type": "markdown",
   "metadata": {},
   "source": [
    "#### Find nearest neighbors using TF-IDF vectors:"
   ]
  },
  {
   "cell_type": "code",
   "execution_count": 44,
   "metadata": {
    "collapsed": false
   },
   "outputs": [
    {
     "data": {
      "text/plain": [
       "NearestNeighbors(algorithm='brute', leaf_size=30, metric='euclidean',\n",
       "         metric_params=None, n_jobs=1, n_neighbors=5, p=2, radius=1.0)"
      ]
     },
     "execution_count": 44,
     "metadata": {},
     "output_type": "execute_result"
    }
   ],
   "source": [
    "model_tf_idf = NearestNeighbors(metric = 'euclidean', algorithm = 'brute')\n",
    "model_tf_idf.fit(tf_idf)"
   ]
  },
  {
   "cell_type": "markdown",
   "metadata": {},
   "source": [
    "Find the top 10 nearest neighbors:"
   ]
  },
  {
   "cell_type": "code",
   "execution_count": 45,
   "metadata": {
    "collapsed": true
   },
   "outputs": [],
   "source": [
    "distances, indices = model_tf_idf.kneighbors(tf_idf[35817], n_neighbors = 10)"
   ]
  },
  {
   "cell_type": "code",
   "execution_count": 46,
   "metadata": {
    "collapsed": false
   },
   "outputs": [
    {
     "name": "stdout",
     "output_type": "stream",
     "text": [
      "      id                     name    distance\n",
      "3  35817             Barack Obama    0.000000\n",
      "1   7914            Phil Schiliro  106.861014\n",
      "9  46811            Jeff Sessions  108.871674\n",
      "7  44681   Jesse Lee (politician)  109.045698\n",
      "4  38376           Samantha Power  109.108106\n",
      "0   6507             Bob Menendez  109.781867\n",
      "5  38714  Eric Stern (politician)  109.957788\n",
      "8  44825           James A. Guest  110.413889\n",
      "6  44368     Roland Grossenbacher  110.470609\n",
      "2  33417            Tulsi Gabbard  110.696998\n"
     ]
    },
    {
     "name": "stderr",
     "output_type": "stream",
     "text": [
      "/Users/shute/anaconda/lib/python2.7/site-packages/ipykernel/__main__.py:2: FutureWarning: sort(columns=....) is deprecated, use sort_values(by=.....)\n",
      "  from ipykernel import kernelapp as app\n"
     ]
    }
   ],
   "source": [
    "neighbors = pd.DataFrame.from_dict({'distance': distances.flatten(), 'id': indices.flatten()})\n",
    "print wiki.merge(neighbors, on = 'id', how = 'inner').sort('distance')[['id', 'name', 'distance']]"
   ]
  },
  {
   "cell_type": "code",
   "execution_count": 48,
   "metadata": {
    "collapsed": false
   },
   "outputs": [
    {
     "name": "stdout",
     "output_type": "stream",
     "text": [
      "                word     weight\n",
      "189            obama  43.295653\n",
      "133              act  27.678223\n",
      "157             iraq  17.747379\n",
      "208          control  14.887061\n",
      "99               law  14.722936\n",
      "210          ordered  14.533374\n",
      "134         military  13.115933\n",
      "254      involvement  12.784385\n",
      "259         response  12.784385\n",
      "270       democratic  12.410689\n",
      "62                us  11.591943\n",
      "214        2012obama  10.986495\n",
      "235   laureateduring  10.986495\n",
      "50             husen  10.986495\n",
      "229        normalize  10.293348\n",
      "152              brk  10.293348\n",
      "72            senate  10.164288\n",
      "237        doddfrank   9.887883\n",
      "211          nominee   9.431014\n",
      "86       afghanistan   9.419704\n",
      "41              term   9.319342\n",
      "142         campaign   9.077468\n",
      "22         obamacare   9.040585\n",
      "8           domestic   8.967411\n",
      "102  reauthorization   8.907054\n",
      "266           relief   8.842461\n",
      "116       protection   8.698475\n",
      "164     reinvestment   8.421546\n",
      "141             dont   8.281231\n",
      "81          election   7.712676\n",
      "..               ...        ...\n",
      "17            before   1.496782\n",
      "156               he   1.493580\n",
      "203            three   1.491503\n",
      "246             2007   1.487973\n",
      "6               over   1.487823\n",
      "241            other   1.442401\n",
      "36              then   1.430935\n",
      "95               won   1.383640\n",
      "253              two   1.098883\n",
      "66             where   1.089076\n",
      "14             years   1.075238\n",
      "43               new   0.887153\n",
      "158             from   0.881266\n",
      "242            which   0.767431\n",
      "221               as   0.763017\n",
      "240             that   0.661407\n",
      "161               to   0.657229\n",
      "177             with   0.607406\n",
      "78              born   0.536393\n",
      "207               at   0.430639\n",
      "173              was   0.396829\n",
      "121               by   0.374553\n",
      "70                on   0.368826\n",
      "88               for   0.291450\n",
      "127               of   0.074811\n",
      "4                 is   0.055233\n",
      "260                a   0.039334\n",
      "215               in   0.028962\n",
      "138              and   0.015648\n",
      "23               the   0.004063\n",
      "\n",
      "[273 rows x 2 columns]\n",
      "                word     weight\n",
      "16          schiliro  21.972991\n",
      "8              staff  15.856442\n",
      "87     congressional  13.547088\n",
      "104  daschleschiliro  10.986495\n",
      "83             obama   9.621256\n",
      "28            waxman   9.040585\n",
      "106        president   9.033587\n",
      "24          2014from   8.683910\n",
      "107              law   7.361468\n",
      "85        consultant   6.913104\n",
      "101          hofstra   6.827612\n",
      "26         positions   6.687943\n",
      "109        shortterm   6.629787\n",
      "90         rejoining   6.555679\n",
      "57            obamas   6.295148\n",
      "117       democratic   6.205344\n",
      "44        strategist   6.134465\n",
      "14         oversight   5.629909\n",
      "114            chief   5.104064\n",
      "9             barack   5.067602\n",
      "19         assistant   5.044141\n",
      "105         director   4.845171\n",
      "47    unsuccessfully   4.831637\n",
      "58     editorinchief   4.825288\n",
      "55        transition   4.721194\n",
      "102          stepped   4.682047\n",
      "33             house   4.651096\n",
      "60        presidents   4.520351\n",
      "59             clark   4.497290\n",
      "36         officials   4.417014\n",
      "..               ...        ...\n",
      "29              team   1.732042\n",
      "115             2004   1.690344\n",
      "99            united   1.567922\n",
      "111             2009   1.564436\n",
      "82            worked   1.553892\n",
      "116             2008   1.509339\n",
      "43            before   1.496782\n",
      "86              work   1.399364\n",
      "53            career   1.305027\n",
      "4          including   1.227282\n",
      "20            school   1.222787\n",
      "56          american   1.127378\n",
      "31             where   1.089076\n",
      "13               has   0.856995\n",
      "27        university   0.847343\n",
      "52                on   0.737651\n",
      "78              that   0.661407\n",
      "93                an   0.596478\n",
      "68              from   0.587511\n",
      "95                as   0.508678\n",
      "10                to   0.328615\n",
      "76               was   0.317463\n",
      "39               for   0.291450\n",
      "17               his   0.262611\n",
      "92                is   0.055233\n",
      "48                of   0.037406\n",
      "110                a   0.028096\n",
      "96                in   0.004827\n",
      "89               and   0.004471\n",
      "108              the   0.001016\n",
      "\n",
      "[119 rows x 2 columns]\n"
     ]
    },
    {
     "name": "stderr",
     "output_type": "stream",
     "text": [
      "/Users/shute/anaconda/lib/python2.7/site-packages/ipykernel/__main__.py:5: FutureWarning: sort(columns=....) is deprecated, use sort_values(by=.....)\n"
     ]
    }
   ],
   "source": [
    "def top_words_tf_idf(name):\n",
    "    row = wiki[wiki['name'] == name]\n",
    "    word_count_table = pd.DataFrame()\n",
    "    word_count_table['word'], word_count_table['weight'] = (row['tf_idf']).item().keys(), (row['tf_idf']).item().values()\n",
    "    return word_count_table.sort('weight', ascending = False)\n",
    "\n",
    "obama_tf_idf = top_words_tf_idf('Barack Obama')\n",
    "print obama_tf_idf\n",
    "\n",
    "schiliro_tf_idf = top_words_tf_idf('Phil Schiliro')\n",
    "print schiliro_tf_idf"
   ]
  },
  {
   "cell_type": "markdown",
   "metadata": {},
   "source": [
    "Find the top 10 weight words:"
   ]
  },
  {
   "cell_type": "code",
   "execution_count": 49,
   "metadata": {
    "collapsed": false
   },
   "outputs": [
    {
     "name": "stderr",
     "output_type": "stream",
     "text": [
      "/Users/shute/anaconda/lib/python2.7/site-packages/ipykernel/__main__.py:2: FutureWarning: sort(columns=....) is deprecated, use sort_values(by=.....)\n",
      "  from ipykernel import kernelapp as app\n"
     ]
    },
    {
     "data": {
      "text/html": [
       "<div>\n",
       "<table border=\"1\" class=\"dataframe\">\n",
       "  <thead>\n",
       "    <tr style=\"text-align: right;\">\n",
       "      <th></th>\n",
       "      <th>word</th>\n",
       "      <th>weight_x</th>\n",
       "      <th>weight_y</th>\n",
       "    </tr>\n",
       "  </thead>\n",
       "  <tbody>\n",
       "    <tr>\n",
       "      <th>0</th>\n",
       "      <td>obama</td>\n",
       "      <td>43.295653</td>\n",
       "      <td>9.621256</td>\n",
       "    </tr>\n",
       "    <tr>\n",
       "      <th>1</th>\n",
       "      <td>law</td>\n",
       "      <td>14.722936</td>\n",
       "      <td>7.361468</td>\n",
       "    </tr>\n",
       "    <tr>\n",
       "      <th>2</th>\n",
       "      <td>democratic</td>\n",
       "      <td>12.410689</td>\n",
       "      <td>6.205344</td>\n",
       "    </tr>\n",
       "    <tr>\n",
       "      <th>3</th>\n",
       "      <td>senate</td>\n",
       "      <td>10.164288</td>\n",
       "      <td>3.388096</td>\n",
       "    </tr>\n",
       "    <tr>\n",
       "      <th>4</th>\n",
       "      <td>presidential</td>\n",
       "      <td>7.386955</td>\n",
       "      <td>3.693478</td>\n",
       "    </tr>\n",
       "    <tr>\n",
       "      <th>5</th>\n",
       "      <td>president</td>\n",
       "      <td>7.226869</td>\n",
       "      <td>9.033587</td>\n",
       "    </tr>\n",
       "    <tr>\n",
       "      <th>6</th>\n",
       "      <td>policy</td>\n",
       "      <td>6.095386</td>\n",
       "      <td>3.047693</td>\n",
       "    </tr>\n",
       "    <tr>\n",
       "      <th>7</th>\n",
       "      <td>states</td>\n",
       "      <td>5.473201</td>\n",
       "      <td>1.824400</td>\n",
       "    </tr>\n",
       "    <tr>\n",
       "      <th>8</th>\n",
       "      <td>office</td>\n",
       "      <td>5.248173</td>\n",
       "      <td>2.624086</td>\n",
       "    </tr>\n",
       "    <tr>\n",
       "      <th>9</th>\n",
       "      <td>2011</td>\n",
       "      <td>5.107041</td>\n",
       "      <td>3.404694</td>\n",
       "    </tr>\n",
       "  </tbody>\n",
       "</table>\n",
       "</div>"
      ],
      "text/plain": [
       "           word   weight_x  weight_y\n",
       "0         obama  43.295653  9.621256\n",
       "1           law  14.722936  7.361468\n",
       "2    democratic  12.410689  6.205344\n",
       "3        senate  10.164288  3.388096\n",
       "4  presidential   7.386955  3.693478\n",
       "5     president   7.226869  9.033587\n",
       "6        policy   6.095386  3.047693\n",
       "7        states   5.473201  1.824400\n",
       "8        office   5.248173  2.624086\n",
       "9          2011   5.107041  3.404694"
      ]
     },
     "execution_count": 49,
     "metadata": {},
     "output_type": "execute_result"
    }
   ],
   "source": [
    "combined_words_tfidf = pd.merge(obama_tf_idf, schiliro_tf_idf, how = 'inner', on = 'word')\n",
    "combined_words_tfidf.sort('weight_x', ascending = False)[:10]"
   ]
  },
  {
   "cell_type": "code",
   "execution_count": 50,
   "metadata": {
    "collapsed": false
   },
   "outputs": [],
   "source": [
    "common_words = combined_words_tfidf['word'][:5]\n",
    "\n",
    "def has_top_words(word_count_vector):\n",
    "    # extract the keys of word_count_vector and convert it to a set\n",
    "    unique_words = word_count_vector.keys()\n",
    "    # return True if common_words is a subset of unique_words\n",
    "    # return False otherwise\n",
    "    return set(common_words).issubset(unique_words)\n",
    "\n",
    "wiki['has_top_words'] = wiki['word_count'].apply(has_top_words)"
   ]
  },
  {
   "cell_type": "code",
   "execution_count": 51,
   "metadata": {
    "collapsed": false
   },
   "outputs": [
    {
     "data": {
      "text/plain": [
       "14"
      ]
     },
     "execution_count": 51,
     "metadata": {},
     "output_type": "execute_result"
    }
   ],
   "source": [
    "sum(wiki['has_top_words'])"
   ]
  },
  {
   "cell_type": "markdown",
   "metadata": {},
   "source": [
    "There is huge difference using TF-IDF scores instead of raw word counts. That's why IT-IDF is useful."
   ]
  },
  {
   "cell_type": "markdown",
   "metadata": {},
   "source": []
  },
  {
   "cell_type": "markdown",
   "metadata": {
    "collapsed": true
   },
   "source": [
    "#### Choosing metrics:  \n",
    "It turns out that, when we compute nearest neighbors using the Euclidean distances, we unwittingly favor short articles over long ones."
   ]
  },
  {
   "cell_type": "markdown",
   "metadata": {},
   "source": [
    "Quiz Question. Compute the Euclidean distance between TF-IDF features of Obama and Biden."
   ]
  },
  {
   "cell_type": "code",
   "execution_count": 55,
   "metadata": {
    "collapsed": false
   },
   "outputs": [
    {
     "data": {
      "text/html": [
       "<div>\n",
       "<table border=\"1\" class=\"dataframe\">\n",
       "  <thead>\n",
       "    <tr style=\"text-align: right;\">\n",
       "      <th></th>\n",
       "      <th>URI</th>\n",
       "      <th>name</th>\n",
       "      <th>text</th>\n",
       "      <th>id</th>\n",
       "      <th>word_count</th>\n",
       "      <th>has_top_words</th>\n",
       "      <th>tf_idf</th>\n",
       "    </tr>\n",
       "  </thead>\n",
       "  <tbody>\n",
       "    <tr>\n",
       "      <th>0</th>\n",
       "      <td>&lt;http://dbpedia.org/resource/Digby_Morrell&gt;</td>\n",
       "      <td>Digby Morrell</td>\n",
       "      <td>digby morrell born 10 october 1979 is a former...</td>\n",
       "      <td>0</td>\n",
       "      <td>{u'selection': 1, u'carltons': 1, u'being': 1,...</td>\n",
       "      <td>False</td>\n",
       "      <td>{u'selection': 3.83657855309, u'carltons': 7.0...</td>\n",
       "    </tr>\n",
       "    <tr>\n",
       "      <th>1</th>\n",
       "      <td>&lt;http://dbpedia.org/resource/Alfred_J._Lewy&gt;</td>\n",
       "      <td>Alfred J. Lewy</td>\n",
       "      <td>alfred j lewy aka sandy lewy graduated from un...</td>\n",
       "      <td>1</td>\n",
       "      <td>{u'precise': 1, u'thomas': 1, u'they': 1, u'di...</td>\n",
       "      <td>False</td>\n",
       "      <td>{u'precise': 6.44320060696, u'thomas': 3.32027...</td>\n",
       "    </tr>\n",
       "    <tr>\n",
       "      <th>2</th>\n",
       "      <td>&lt;http://dbpedia.org/resource/Harpdog_Brown&gt;</td>\n",
       "      <td>Harpdog Brown</td>\n",
       "      <td>harpdog brown is a singer and harmonica player...</td>\n",
       "      <td>2</td>\n",
       "      <td>{u'just': 1, u'issued': 1, u'mainly': 1, u'nom...</td>\n",
       "      <td>False</td>\n",
       "      <td>{u'just': 2.70072996871, u'issued': 4.42971703...</td>\n",
       "    </tr>\n",
       "    <tr>\n",
       "      <th>3</th>\n",
       "      <td>&lt;http://dbpedia.org/resource/Franz_Rottensteiner&gt;</td>\n",
       "      <td>Franz Rottensteiner</td>\n",
       "      <td>franz rottensteiner born in waidmannsfeld lowe...</td>\n",
       "      <td>3</td>\n",
       "      <td>{u'all': 1, u'bauforschung': 1, u'just': 1, u'...</td>\n",
       "      <td>False</td>\n",
       "      <td>{u'all': 1.64311124349, u'bauforschung': 10.98...</td>\n",
       "    </tr>\n",
       "    <tr>\n",
       "      <th>4</th>\n",
       "      <td>&lt;http://dbpedia.org/resource/G-Enka&gt;</td>\n",
       "      <td>G-Enka</td>\n",
       "      <td>henry krvits born 30 december 1974 in tallinn ...</td>\n",
       "      <td>4</td>\n",
       "      <td>{u'legendary': 1, u'gangstergenka': 1, u'legen...</td>\n",
       "      <td>False</td>\n",
       "      <td>{u'legendary': 4.28085629437, u'gangstergenka'...</td>\n",
       "    </tr>\n",
       "  </tbody>\n",
       "</table>\n",
       "</div>"
      ],
      "text/plain": [
       "                                                 URI                 name  \\\n",
       "0        <http://dbpedia.org/resource/Digby_Morrell>        Digby Morrell   \n",
       "1       <http://dbpedia.org/resource/Alfred_J._Lewy>       Alfred J. Lewy   \n",
       "2        <http://dbpedia.org/resource/Harpdog_Brown>        Harpdog Brown   \n",
       "3  <http://dbpedia.org/resource/Franz_Rottensteiner>  Franz Rottensteiner   \n",
       "4               <http://dbpedia.org/resource/G-Enka>               G-Enka   \n",
       "\n",
       "                                                text  id  \\\n",
       "0  digby morrell born 10 october 1979 is a former...   0   \n",
       "1  alfred j lewy aka sandy lewy graduated from un...   1   \n",
       "2  harpdog brown is a singer and harmonica player...   2   \n",
       "3  franz rottensteiner born in waidmannsfeld lowe...   3   \n",
       "4  henry krvits born 30 december 1974 in tallinn ...   4   \n",
       "\n",
       "                                          word_count has_top_words  \\\n",
       "0  {u'selection': 1, u'carltons': 1, u'being': 1,...         False   \n",
       "1  {u'precise': 1, u'thomas': 1, u'they': 1, u'di...         False   \n",
       "2  {u'just': 1, u'issued': 1, u'mainly': 1, u'nom...         False   \n",
       "3  {u'all': 1, u'bauforschung': 1, u'just': 1, u'...         False   \n",
       "4  {u'legendary': 1, u'gangstergenka': 1, u'legen...         False   \n",
       "\n",
       "                                              tf_idf  \n",
       "0  {u'selection': 3.83657855309, u'carltons': 7.0...  \n",
       "1  {u'precise': 6.44320060696, u'thomas': 3.32027...  \n",
       "2  {u'just': 2.70072996871, u'issued': 4.42971703...  \n",
       "3  {u'all': 1.64311124349, u'bauforschung': 10.98...  \n",
       "4  {u'legendary': 4.28085629437, u'gangstergenka'...  "
      ]
     },
     "execution_count": 55,
     "metadata": {},
     "output_type": "execute_result"
    }
   ],
   "source": [
    "wiki.head()"
   ]
  },
  {
   "cell_type": "code",
   "execution_count": 59,
   "metadata": {
    "collapsed": false,
    "scrolled": true
   },
   "outputs": [
    {
     "name": "stdout",
     "output_type": "stream",
     "text": [
      "       id                                      name  length    distance\n",
      "58  35817                              Barack Obama     540    0.000000\n",
      "18   7914                             Phil Schiliro     208  106.861014\n",
      "79  46811                             Jeff Sessions     230  108.871674\n",
      "76  44681                    Jesse Lee (politician)     216  109.045698\n",
      "63  38376                            Samantha Power     310  109.108106\n",
      "8    6507                              Bob Menendez     220  109.781867\n",
      "65  38714                   Eric Stern (politician)     255  109.957788\n",
      "77  44825                            James A. Guest     215  110.413889\n",
      "75  44368                      Roland Grossenbacher     201  110.470609\n",
      "54  33417                             Tulsi Gabbard     228  110.696998\n",
      "81  49944                             Howard Dawson     203  110.730547\n",
      "19   7950                          Elizabeth Warren     261  111.039450\n",
      "10   6796                               Eric Holder     232  111.061971\n",
      "64  38495                              Barney Frank     264  111.102213\n",
      "70  42859                        John S. Martin Jr.     221  111.219609\n",
      "86  52242                                Tom Harkin     222  111.220666\n",
      "66  40099                             Harry Arthurs     214  111.287834\n",
      "38  18125                         Stanley S. Harris     202  111.338901\n",
      "92  56008                             Nathan Cullen     204  111.442101\n",
      "74  44227                   Robert Price (attorney)     201  111.457553\n",
      "51  31470                              Adam Haslett     203  111.547335\n",
      "21   8339                                Mel Levine     214  111.603622\n",
      "17   7653                 Rodney Marsh (footballer)     226  111.638149\n",
      "90  55388                            Michael Munger     205  111.734167\n",
      "42  21838                        Wiley Young Daniel     209  111.812003\n",
      "55  35186                            Joseph Charles     202  111.984531\n",
      "40  18542                                Tommy Haas     202  112.126885\n",
      "80  47129                               Ken Ritchie     210  112.170177\n",
      "28  11378                      Jack Dyer Crouch, II     204  112.213494\n",
      "83  51114                         Lawrence J. Smith     208  112.229270\n",
      "..    ...                                       ...     ...         ...\n",
      "96  57512  George Little (New Brunswick politician)     208  113.355265\n",
      "20   8184                     Dan Siegel (musician)     203  113.362435\n",
      "68  40855                                Jan Wright     209  113.372188\n",
      "85  51599                                 Ted Frank     208  113.384932\n",
      "45  25148                      Dennis J. Hutchinson     232  113.396857\n",
      "5    4118                              Aaron Hughes     206  113.399465\n",
      "88  55044                              Wesley Clark     265  113.431170\n",
      "1    1318                    Ted Brown (politician)     209  113.490864\n",
      "98  58229                             Douglas Henry     221  113.501689\n",
      "69  41355                                 Euny Hong     215  113.526727\n",
      "94  57051                         Karen Kwiatkowski     210  113.526939\n",
      "23  10378                               Bruno Simma     255  113.588332\n",
      "24  10515                                 Wes Brown     202  113.618306\n",
      "9    6707                            Glenda Jackson     201  113.631496\n",
      "35  17161              Ian D. Clark (civil servant)     216  113.632459\n",
      "3    2818                                Ralph Hall     206  113.645712\n",
      "13   6924                           D. Brock Hornby     205  113.678506\n",
      "60  36493                  Steve O'Donnell (writer)     205  113.679667\n",
      "32  14088                                Harold See     222  113.696701\n",
      "47  27253                          Boris Tadi%C4%87     222  113.710913\n",
      "71  43551                              Richard Neal     214  113.715802\n",
      "72  43650                Ben Scott (policy advisor)     236  113.737809\n",
      "44  24648                            Dennis Leonard     204  113.758405\n",
      "37  17412                                John Rudge     208  113.778914\n",
      "36  17227                        John McDade Howell     212  113.778940\n",
      "22   9884                        Kenneth M. Pollack     229  113.784257\n",
      "91  55613                             Gary D. Solis     208  113.785437\n",
      "11   6828                        George J. Mitchell     214  113.793053\n",
      "43  22695                        Nicholas Liverpool     251  113.795142\n",
      "6    4893                        A. Thomas McLellan     206  113.816086\n",
      "\n",
      "[100 rows x 4 columns]\n"
     ]
    },
    {
     "name": "stderr",
     "output_type": "stream",
     "text": [
      "/Users/shute/anaconda/lib/python2.7/site-packages/ipykernel/__main__.py:9: FutureWarning: sort(columns=....) is deprecated, use sort_values(by=.....)\n"
     ]
    }
   ],
   "source": [
    "# Comptue length of all documents\n",
    "def compute_length(row):\n",
    "    return len(row['text'].split(' '))\n",
    "wiki['length'] = wiki.apply(compute_length, axis = 1)\n",
    "\n",
    "# Compute 100 nearest neighbors and display their lengths\n",
    "distances, indices = model_tf_idf.kneighbors(tf_idf[35817], n_neighbors=100)\n",
    "neighbors = pd.DataFrame.from_dict({'distance':distances.flatten(), 'id':indices.flatten()})\n",
    "nearest_neighbors_euclidean = wiki.merge(neighbors, on = 'id', how = 'inner')[['id', 'name', 'length', 'distance']].sort('distance')\n",
    "print nearest_neighbors_euclidean"
   ]
  },
  {
   "cell_type": "markdown",
   "metadata": {},
   "source": [
    "#### Visulization:"
   ]
  },
  {
   "cell_type": "markdown",
   "metadata": {},
   "source": [
    "To see how these document lengths compare to the lengths of other documents in the corpus, let's make a histogram of the document lengths of Obama's 100 nearest neighbors and compare to a histogram of document lengths for all documents."
   ]
  },
  {
   "cell_type": "code",
   "execution_count": 72,
   "metadata": {
    "collapsed": false
   },
   "outputs": [
    {
     "data": {
      "image/png": "[encoded data removed]",
      "text/plain": [
       "<matplotlib.figure.Figure at 0x11ec1a9d0>"
      ]
     },
     "metadata": {},
     "output_type": "display_data"
    }
   ],
   "source": [
    "plt.figure(figsize=(10.5,4.5))\n",
    "plt.hist(wiki['length'], 50, color='k', edgecolor='None', histtype='stepfilled', normed=True,\n",
    "         label='Entire Wikipedia', zorder=3, alpha=0.8)\n",
    "plt.hist(nearest_neighbors_euclidean['length'], 50, color='r', edgecolor='None', histtype='stepfilled', normed=True,\n",
    "         label='100 NNs of Obama (Euclidean)', zorder=10, alpha=0.8)\n",
    "plt.axvline(x=wiki['length'][wiki['name'] == 'Barack Obama'].iloc[0], color='k', linestyle='--', linewidth=4,\n",
    "           label='Length of Barack Obama', zorder=2)\n",
    "plt.axvline(x=wiki['length'][wiki['name'] == 'Joe Biden'].iloc[0], color='g', linestyle='--', linewidth=4,\n",
    "           label='Length of Joe Biden', zorder=1)\n",
    "plt.axis([0, 1000, 0, 0.04])\n",
    "\n",
    "plt.legend(loc='best', prop={'size':15})\n",
    "plt.title('Distribution of document length')\n",
    "plt.xlabel('# of words')\n",
    "plt.ylabel('Percentage')\n",
    "plt.rcParams.update({'font.size':16})\n",
    "plt.tight_layout()"
   ]
  },
  {
   "cell_type": "markdown",
   "metadata": {},
   "source": [
    "Relative to the rest of Wikipedia, nearest neighbors of Obama are overwhelmingly short, most of them being shorter than 300 words. The bias towards short articles is not appropriate in this application as there is really no reason to favor short articles over long articles (they are all Wikipedia articles, after all). Many Wikipedia articles are 300 words or more, and both Obama and Biden are over 300 words long."
   ]
  },
  {
   "cell_type": "markdown",
   "metadata": {},
   "source": [
    "Note: Both word-count features and TF-IDF are proportional to word frequencies. While TF-IDF penalizes very common words, longer articles tend to have longer TF-IDF vectors simply because they have more words in them."
   ]
  },
  {
   "cell_type": "markdown",
   "metadata": {},
   "source": [
    "#### To remove this bias, we turn to cosine distances:\n",
    "d(x,y)=1−xTy／∥x∥∥y∥  \n",
    "Cosine distances let us compare word distributions of two articles of varying lengths."
   ]
  },
  {
   "cell_type": "markdown",
   "metadata": {},
   "source": [
    "Let us train a new nearest neighbor model, this time with cosine distances. We then repeat the search for Obama's 100 nearest neighbors."
   ]
  },
  {
   "cell_type": "code",
   "execution_count": 80,
   "metadata": {
    "collapsed": false,
    "scrolled": true
   },
   "outputs": [
    {
     "name": "stdout",
     "output_type": "stream",
     "text": [
      "       id                               name  length      distance\n",
      "59  35817                       Barack Obama     540 -1.110223e-15\n",
      "45  24478                          Joe Biden     414  7.031387e-01\n",
      "65  38376                     Samantha Power     310  7.429819e-01\n",
      "98  57108             Hillary Rodham Clinton     580  7.583584e-01\n",
      "67  38714            Eric Stern (politician)     255  7.705612e-01\n",
      "79  46140                       Robert Gibbs     257  7.846775e-01\n",
      "15   6796                        Eric Holder     232  7.880391e-01\n",
      "77  44681             Jesse Lee (politician)     216  7.909264e-01\n",
      "36  18827                       Henry Waxman     279  7.983226e-01\n",
      "3    2412                    Joe the Plumber     217  7.994664e-01\n",
      "80  46811                      Jeff Sessions     230  8.001974e-01\n",
      "69  39357                        John McCain     410  8.090508e-01\n",
      "84  48693                        Artur Davis     371  8.091922e-01\n",
      "41  23737                  John D. McCormick     249  8.101646e-01\n",
      "7    4032                Kenneth D. Thompson     213  8.145547e-01\n",
      "17   7914                      Phil Schiliro     208  8.147071e-01\n",
      "50  28447                     George W. Bush     505  8.232290e-01\n",
      "28  14754                        Mitt Romney     502  8.268540e-01\n",
      "60  36425               Edward B. Montgomery     331  8.292822e-01\n",
      "61  36452                       Bill Clinton     524  8.339855e-01\n",
      "71  40943                     Jonathan Alter     283  8.345349e-01\n",
      "18   7950                   Elizabeth Warren     261  8.347571e-01\n",
      "94  55044                       Wesley Clark     265  8.370132e-01\n",
      "10   4845    Joe Walsh (Illinois politician)     273  8.372606e-01\n",
      "23  11394                       John G. Levi     281  8.374590e-01\n",
      "81  47303                         John Kerry     410  8.381527e-01\n",
      "47  24848                    John C. Eastman     366  8.394067e-01\n",
      "83  47576               Steve Rauschenberger     489  8.397765e-01\n",
      "78  45068                     Douglas Schoen     202  8.402745e-01\n",
      "73  43155                        Goodwin Liu     243  8.408390e-01\n",
      "..    ...                                ...     ...           ...\n",
      "14   6507                       Bob Menendez     220  8.698228e-01\n",
      "55  31465                       Jim Whitaker     244  8.704419e-01\n",
      "31  15584                        Batton Lash     287  8.710683e-01\n",
      "34  17470             Robert Orr (executive)     315  8.712680e-01\n",
      "16   7684                       Will A. Gunn     304  8.713010e-01\n",
      "38  19656                        Cleo Fields     277  8.716041e-01\n",
      "75  43713                        Ken Salazar     218  8.717159e-01\n",
      "51  29822                 Nancy B. Firestone     267  8.719868e-01\n",
      "26  12184                   Edward C. Noonan     414  8.722572e-01\n",
      "4    3151                    Robert Kostelka     237  8.724334e-01\n",
      "95  55181                           Ron Paul     427  8.727273e-01\n",
      "1    1277                      Kathryn Biber     211  8.732962e-01\n",
      "5    3384                   Caroline Kennedy     280  8.734322e-01\n",
      "52  30666                      Sam Brownback     257  8.734607e-01\n",
      "6    3931                   Samuel Bagenstos     387  8.735767e-01\n",
      "63  37432                        Rob Fleming     266  8.736142e-01\n",
      "22  11135                            Ed Case     257  8.737382e-01\n",
      "44  24294                       Eric Fanning     378  8.741620e-01\n",
      "48  27959             Pat Brady (politician)     466  8.743844e-01\n",
      "13   6099                      Chuck Schumer     247  8.746133e-01\n",
      "2    2092                 Richard Blumenthal     288  8.746433e-01\n",
      "62  37199            Barry Sullivan (lawyer)     893  8.746687e-01\n",
      "29  14815                Martha Fuller Clark     299  8.751153e-01\n",
      "92  54040               Florence T. Nakakuni     233  8.755873e-01\n",
      "82  47330                        Cliff Sloan     453  8.756561e-01\n",
      "76  43760                       Jody Freeman     534  8.758483e-01\n",
      "49  28267                    Michael C. Dorf     279  8.760003e-01\n",
      "85  48848  Greg Harris (Illinois politician)     235  8.764177e-01\n",
      "0     686                 Jesse Jackson, Jr.     206  8.769566e-01\n",
      "12   5020           Gary Peters (politician)     260  8.769750e-01\n",
      "\n",
      "[100 rows x 4 columns]\n"
     ]
    },
    {
     "name": "stderr",
     "output_type": "stream",
     "text": [
      "/Users/shute/anaconda/lib/python2.7/site-packages/ipykernel/__main__.py:5: FutureWarning: sort(columns=....) is deprecated, use sort_values(by=.....)\n"
     ]
    }
   ],
   "source": [
    "model2_tf_idf = NearestNeighbors(algorithm = 'brute', metric = 'cosine')\n",
    "model2_tf_idf.fit(tf_idf)\n",
    "distances, indices = model2_tf_idf.kneighbors(tf_idf[35817], n_neighbors=100) # '35817' is 'Barack Obama'\n",
    "neighbors = pd.DataFrame.from_dict({'distance':distances.flatten(), 'id':indices.flatten()})\n",
    "nearest_neighbors_cosine = wiki.merge(neighbors, on = 'id')[['id', 'name', 'length', 'distance']].sort('distance')\n",
    "print nearest_neighbors_cosine"
   ]
  },
  {
   "cell_type": "markdown",
   "metadata": {},
   "source": [
    "**Visualization** of the comparation between Cosine distance & Euclidean distance:"
   ]
  },
  {
   "cell_type": "code",
   "execution_count": 82,
   "metadata": {
    "collapsed": false
   },
   "outputs": [
    {
     "data": {
      "text/plain": [
       "<matplotlib.figure.Figure at 0x1b22aef90>"
      ]
     },
     "metadata": {},
     "output_type": "display_data"
    },
    {
     "data": {
      "image/png": "[encoded data removed]",
      "text/plain": [
       "<matplotlib.figure.Figure at 0x1b22aed50>"
      ]
     },
     "metadata": {},
     "output_type": "display_data"
    }
   ],
   "source": [
    "plt.figure(figsize=(10.5,4.5))\n",
    "plt.figure(figsize=(10.5,4.5))\n",
    "plt.hist(wiki['length'], 50, color='k', edgecolor='None', histtype='stepfilled', normed=True,\n",
    "         label='Entire Wikipedia', zorder=3, alpha=0.8)\n",
    "plt.hist(nearest_neighbors_euclidean['length'], 50, color='r', edgecolor='None', histtype='stepfilled', normed=True,\n",
    "         label='100 NNs of Obama (Euclidean)', zorder=10, alpha=0.8)\n",
    "plt.hist(nearest_neighbors_cosine['length'], 50, color='b', edgecolor='None', histtype='stepfilled', normed=True,\n",
    "         label='100 NNs of Obama (cosine)', zorder=11, alpha=0.8)\n",
    "plt.axvline(x=wiki['length'][wiki['name'] == 'Barack Obama'].iloc[0], color='k', linestyle='--', linewidth=4,\n",
    "           label='Length of Barack Obama', zorder=2)\n",
    "plt.axvline(x=wiki['length'][wiki['name'] == 'Joe Biden'].iloc[0], color='g', linestyle='--', linewidth=4,\n",
    "           label='Length of Joe Biden', zorder=1)\n",
    "plt.axis([0, 1000, 0, 0.04])\n",
    "plt.legend(loc='best', prop={'size':15})\n",
    "plt.title('Distribution of document length')\n",
    "plt.xlabel('# of words')\n",
    "plt.ylabel('Percentage')\n",
    "plt.rcParams.update({'font.size': 16})\n",
    "plt.tight_layout()"
   ]
  },
  {
   "cell_type": "markdown",
   "metadata": {},
   "source": [
    "Indeed, the 100 nearest neighbors using cosine distance provide a sampling across the range of document lengths, rather than just short articles like Euclidean distance provided."
   ]
  },
  {
   "cell_type": "markdown",
   "metadata": {},
   "source": [
    "#### Problem with cosine distances: tweets vs. long articles"
   ]
  },
  {
   "cell_type": "markdown",
   "metadata": {},
   "source": [
    "Cosine distances ignore all document lengths, which may be great in certain situations but not in others. For instance, consider the following (admittedly contrived) example."
   ]
  },
  {
   "cell_type": "code",
   "execution_count": null,
   "metadata": {
    "collapsed": true
   },
   "outputs": [],
   "source": [
    "+--------------------------------------------------------+\n",
    "|                                             +--------+ |\n",
    "|  One that shall not be named                | Follow | |\n",
    "|  @username                                  +--------+ |\n",
    "|                                                        |\n",
    "|  Democratic governments control law in response to     |\n",
    "|  popular act.                                          |\n",
    "|                                                        |\n",
    "|  8:05 AM - 16 May 2016                                 |\n",
    "|                                                        |\n",
    "|  Reply   Retweet (1,332)   Like (300)                  |\n",
    "|                                                        |\n",
    "+--------------------------------------------------------+"
   ]
  },
  {
   "cell_type": "markdown",
   "metadata": {},
   "source": [
    "Transform the Twitter into TF-IDF features"
   ]
  },
  {
   "cell_type": "code",
   "execution_count": 84,
   "metadata": {
    "collapsed": true
   },
   "outputs": [],
   "source": [
    "tweet = {'act': 3.4597778278724887,\n",
    " 'control': 3.721765211295327,\n",
    " 'democratic': 3.1026721743330414,\n",
    " 'governments': 4.167571323949673,\n",
    " 'in': 0.0009654063501214492,\n",
    " 'law': 2.4538226269605703,\n",
    " 'popular': 2.764478952022998,\n",
    " 'response': 4.261461747058352,\n",
    " 'to': 0.04694493768179923}"
   ]
  },
  {
   "cell_type": "code",
   "execution_count": 95,
   "metadata": {
    "collapsed": false
   },
   "outputs": [],
   "source": [
    "word_indices = [map_index_to_word[word] for word in tweet.keys()]\n",
    "tweet_tf_idf = csr_matrix( (list(tweet.values()), ([0]*len(word_indices), word_indices)),\n",
    "                          shape=(1, tf_idf.shape[1]) )"
   ]
  },
  {
   "cell_type": "markdown",
   "metadata": {},
   "source": [
    "Compute the cosine distance."
   ]
  },
  {
   "cell_type": "code",
   "execution_count": 96,
   "metadata": {
    "collapsed": false
   },
   "outputs": [
    {
     "name": "stdout",
     "output_type": "stream",
     "text": [
      "[[ 0.70591838]]\n"
     ]
    }
   ],
   "source": [
    "from sklearn.metrics.pairwise import cosine_distances\n",
    "\n",
    "obama_tf_idf = tf_idf[35817]\n",
    "print cosine_distances(obama_tf_idf, tweet_tf_idf)"
   ]
  },
  {
   "cell_type": "code",
   "execution_count": null,
   "metadata": {
    "collapsed": true
   },
   "outputs": [],
   "source": []
  },
  {
   "cell_type": "code",
   "execution_count": 97,
   "metadata": {
    "collapsed": false
   },
   "outputs": [
    {
     "name": "stdout",
     "output_type": "stream",
     "text": [
      "[[ -1.11022302e-15   7.03138677e-01   7.42981902e-01   7.58358398e-01\n",
      "    7.70561228e-01   7.84677505e-01   7.88039073e-01   7.90926415e-01\n",
      "    7.98322603e-01   7.99466360e-01]]\n"
     ]
    }
   ],
   "source": [
    "distances, indices = model2_tf_idf.kneighbors(obama_tf_idf, n_neighbors=10)\n",
    "print distances\n",
    "# The 1st is 'Barack Obama' itself, the 2nd one is 'Joe Biden'!"
   ]
  },
  {
   "cell_type": "markdown",
   "metadata": {},
   "source": [
    "With cosine distances, the tweet is \"nearer\" to Barack Obama than everyone else, except for Joe Biden! This probably is not something we want. If someone is reading the Barack Obama Wikipedia page, would you want to recommend they read this tweet? Ignoring article lengths completely resulted in nonsensical results. In practice, it is common to enforce maximum or minimum document lengths. After all, when someone is reading a long article from The Atlantic, you wouldn't recommend him/her a tweet."
   ]
  },
  {
   "cell_type": "code",
   "execution_count": null,
   "metadata": {
    "collapsed": true
   },
   "outputs": [],
   "source": []
  }
 ],
 "metadata": {
  "anaconda-cloud": {},
  "kernelspec": {
   "display_name": "Python [Root]",
   "language": "python",
   "name": "Python [Root]"
  },
  "language_info": {
   "codemirror_mode": {
    "name": "ipython",
    "version": 2
   },
   "file_extension": ".py",
   "mimetype": "text/x-python",
   "name": "python",
   "nbconvert_exporter": "python",
   "pygments_lexer": "ipython2",
   "version": "2.7.11"
  }
 },
 "nbformat": 4,
 "nbformat_minor": 0
}
