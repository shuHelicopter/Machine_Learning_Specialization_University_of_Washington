{
 "cells": [
  {
   "cell_type": "markdown",
   "metadata": {},
   "source": [
    "# Homework 7: Training Logistic Regression via Stochastic Gradient Ascent"
   ]
  },
  {
   "cell_type": "code",
   "execution_count": 38,
   "metadata": {
    "collapsed": true
   },
   "outputs": [],
   "source": [
    "import numpy as np\n",
    "import pandas as pd"
   ]
  },
  {
   "cell_type": "markdown",
   "metadata": {},
   "source": [
    "### 1. Data preprocessing"
   ]
  },
  {
   "cell_type": "code",
   "execution_count": 39,
   "metadata": {
    "collapsed": true
   },
   "outputs": [],
   "source": [
    "products = pd.read_csv('amazon_baby_subset.csv')"
   ]
  },
  {
   "cell_type": "markdown",
   "metadata": {},
   "source": [
    "Apply text cleaning on the review data"
   ]
  },
  {
   "cell_type": "code",
   "execution_count": 40,
   "metadata": {
    "collapsed": true
   },
   "outputs": [],
   "source": [
    "import json\n",
    "with open('important_words.json', 'r') as f: # Read the list of most frequent words\n",
    "    important_words = json.load(f)\n",
    "important_words = [str(s) for s in important_words] # format the data"
   ]
  },
  {
   "cell_type": "code",
   "execution_count": 41,
   "metadata": {
    "collapsed": true
   },
   "outputs": [],
   "source": [
    "products = products.fillna({'review':''})  # fill in N/A's in the review column"
   ]
  },
  {
   "cell_type": "code",
   "execution_count": 42,
   "metadata": {
    "collapsed": true
   },
   "outputs": [],
   "source": [
    "def remove_punctuation(text):\n",
    "    import string\n",
    "    return text.translate(None, string.punctuation)"
   ]
  },
  {
   "cell_type": "code",
   "execution_count": 43,
   "metadata": {
    "collapsed": false
   },
   "outputs": [],
   "source": [
    "products['review_clean'] = products['review'].apply(remove_punctuation)"
   ]
  },
  {
   "cell_type": "code",
   "execution_count": 44,
   "metadata": {
    "collapsed": false
   },
   "outputs": [],
   "source": [
    "for word in important_words:\n",
    "    products[word] = products['review_clean'].apply(lambda s : s.split().count(word))"
   ]
  },
  {
   "cell_type": "markdown",
   "metadata": {},
   "source": [
    "Split data into training and validation sets:"
   ]
  },
  {
   "cell_type": "code",
   "execution_count": 45,
   "metadata": {
    "collapsed": false
   },
   "outputs": [],
   "source": [
    "with open ('module-10-assignment-train-idx.json') as f:\n",
    "    train_idx = json.load(f)\n",
    "with open ('module-10-assignment-validation-idx.json') as f:\n",
    "    validation_idx = json.load(f) "
   ]
  },
  {
   "cell_type": "code",
   "execution_count": 46,
   "metadata": {
    "collapsed": false
   },
   "outputs": [],
   "source": [
    "train_data = products.iloc[train_idx]\n",
    "validation_data = products.iloc[validation_idx]"
   ]
  },
  {
   "cell_type": "code",
   "execution_count": 47,
   "metadata": {
    "collapsed": true
   },
   "outputs": [],
   "source": [
    "# Convert DataFrames to matrixes that I will use in the model\n",
    "def get_numpy_data(dataframe, features, label):\n",
    "    dataframe['constant'] = 1\n",
    "    features = ['constant'] + features\n",
    "    features_frame = dataframe[features]\n",
    "    feature_matrix = features_frame.as_matrix()\n",
    "    label_sarray = dataframe[label]\n",
    "    label_array = label_sarray.as_matrix()\n",
    "    return (feature_matrix, label_array)"
   ]
  },
  {
   "cell_type": "code",
   "execution_count": 48,
   "metadata": {
    "collapsed": false
   },
   "outputs": [
    {
     "name": "stderr",
     "output_type": "stream",
     "text": [
      "/Users/shute/anaconda/lib/python2.7/site-packages/ipykernel/__main__.py:3: SettingWithCopyWarning: \n",
      "A value is trying to be set on a copy of a slice from a DataFrame.\n",
      "Try using .loc[row_indexer,col_indexer] = value instead\n",
      "\n",
      "See the caveats in the documentation: http://pandas.pydata.org/pandas-docs/stable/indexing.html#indexing-view-versus-copy\n",
      "  app.launch_new_instance()\n"
     ]
    }
   ],
   "source": [
    "feature_matrix_train, sentiment_train = get_numpy_data(train_data, important_words, 'sentiment')\n",
    "feature_matrix_valid, sentiment_valid = get_numpy_data(validation_data, important_words, 'sentiment')"
   ]
  },
  {
   "cell_type": "markdown",
   "metadata": {},
   "source": [
    "### 2. Building on logistic regression"
   ]
  },
  {
   "cell_type": "markdown",
   "metadata": {},
   "source": [
    "Derivative of log likelihood with respect to a single coefficient"
   ]
  },
  {
   "cell_type": "code",
   "execution_count": 49,
   "metadata": {
    "collapsed": true
   },
   "outputs": [],
   "source": [
    "def feature_derivative(errors, feature):     \n",
    "    # Compute the dot product of errors and feature\n",
    "    derivative = np.dot(errors, feature)\n",
    "    # Return the derivative\n",
    "    return derivative"
   ]
  },
  {
   "cell_type": "code",
   "execution_count": 50,
   "metadata": {
    "collapsed": true
   },
   "outputs": [],
   "source": [
    "'''\n",
    "produces probablistic estimate for P(y_i = +1 | x_i, w).\n",
    "estimate ranges between 0 and 1.\n",
    "'''\n",
    "def predict_probability(feature_matrix, coefficients):\n",
    "    # Take dot product of feature_matrix and coefficients  \n",
    "    score = np.dot(feature_matrix, coefficients)\n",
    "    \n",
    "    # Compute P(y_i = +1 | x_i, w) using the link function\n",
    "    predictions = 1.0 / (1 + np.exp(-1*score))\n",
    "    \n",
    "    # return predictions\n",
    "    return predictions"
   ]
  },
  {
   "cell_type": "markdown",
   "metadata": {},
   "source": [
    "To track the performance of stochastic gradient ascent, write a function to compute average log likelihood。"
   ]
  },
  {
   "cell_type": "code",
   "execution_count": 51,
   "metadata": {
    "collapsed": true
   },
   "outputs": [],
   "source": [
    "def compute_avg_log_likelihood(feature_matrix, sentiment, coefficients):\n",
    "\n",
    "    indicator = (sentiment==+1)\n",
    "    scores = np.dot(feature_matrix, coefficients)\n",
    "    logexp = np.log(1. + np.exp(-scores))\n",
    "    \n",
    "    # Simple check to prevent overflow\n",
    "    mask = np.isinf(logexp)\n",
    "    logexp[mask] = -scores[mask]   \n",
    "    \n",
    "    lp = np.sum((indicator-1)*scores - logexp)/len(feature_matrix)   \n",
    "    \n",
    "    return lp"
   ]
  },
  {
   "cell_type": "markdown",
   "metadata": {},
   "source": [
    "#### Modifying the derivative for stochastic gradient ascent."
   ]
  },
  {
   "cell_type": "markdown",
   "metadata": {},
   "source": [
    "Computing the gradient for a single data point. The code block below computed the derivative"
   ]
  },
  {
   "cell_type": "code",
   "execution_count": 52,
   "metadata": {
    "collapsed": false
   },
   "outputs": [
    {
     "name": "stdout",
     "output_type": "stream",
     "text": [
      "Gradient single data point: 0.0\n",
      "           --> Should print 0.0\n"
     ]
    }
   ],
   "source": [
    "j = 1                        # Feature number\n",
    "i = 10                       # Data point number\n",
    "coefficients = np.zeros(194) # A point w at which we are computing the gradient.\n",
    "\n",
    "predictions = predict_probability(feature_matrix_train[i:i+1,:], coefficients)\n",
    "indicator = (sentiment_train[i:i+1]==+1)\n",
    "\n",
    "errors = indicator - predictions\n",
    "gradient_single_data_point = feature_derivative(errors, feature_matrix_train[i:i+1,j])\n",
    "print \"Gradient single data point: %s\" % gradient_single_data_point\n",
    "print \"           --> Should print 0.0\""
   ]
  },
  {
   "cell_type": "markdown",
   "metadata": {},
   "source": [
    "Modifying the derivative for using a batch of data points."
   ]
  },
  {
   "cell_type": "code",
   "execution_count": 53,
   "metadata": {
    "collapsed": false
   },
   "outputs": [
    {
     "name": "stdout",
     "output_type": "stream",
     "text": [
      "Gradient mini-batch data points: 1.0\n",
      "                --> Should print 1.0\n"
     ]
    }
   ],
   "source": [
    "j = 1                        # Feature number\n",
    "i = 10                       # Data point start\n",
    "B = 10                       # Mini-batch size\n",
    "coefficients = np.zeros(194) # A point w at which we are computing the gradient.\n",
    "\n",
    "predictions = predict_probability(feature_matrix_train[i:i+B,:], coefficients)\n",
    "indicator = (sentiment_train[i:i+B]==+1)\n",
    "\n",
    "errors = indicator - predictions\n",
    "gradient_mini_batch = feature_derivative(errors, feature_matrix_train[i:i+B,j])\n",
    "print \"Gradient mini-batch data points: %s\" % gradient_mini_batch\n",
    "print \"                --> Should print 1.0\""
   ]
  },
  {
   "cell_type": "markdown",
   "metadata": {},
   "source": [
    "Averaging the gradient across a batch"
   ]
  },
  {
   "cell_type": "markdown",
   "metadata": {},
   "source": [
    "### 3. Implementing stochastic gradient ascent"
   ]
  },
  {
   "cell_type": "markdown",
   "metadata": {},
   "source": [
    "Implement the logistic regression with stochastic gradient ascent. The function logistic_regression_SG accpet the following parameters:  \n",
    "feature_matrix: 2D array of features  \n",
    "sentiment: 1D array of class labels  \n",
    "initial_coefficients: 1D array containing initial values of coefficients  \n",
    "step_size: a parameter controlling the size of the gradient steps  \n",
    "batch_size: size of mini-batch  \n",
    "max_iter: number of iterations to run stochastic gradient ascent  "
   ]
  },
  {
   "cell_type": "markdown",
   "metadata": {},
   "source": [
    "* Create an empty list called log_likelihood_all\n",
    "* Initialize coefficients to initial_coefficients\n",
    "* Set random seed = 1\n",
    "* Shuffle the data before starting the loop below\n",
    "* Set i = 0, the index of current batch\n",
    "\n",
    "* Run the following steps max_iter times, performing linear scans over the data:\n",
    "  * Predict P(y_i = +1|x_i,w) using your predict_probability() function\n",
    "    Make sure to slice the i-th row of feature_matrix with [i:i+batch_size,:]\n",
    "  * Compute indicator value for (y_i = +1)\n",
    "    Make sure to slice the i-th entry with [i:i+batch_size]\n",
    "  * Compute the errors as (indicator - predictions)\n",
    "  * For each coefficients[j]:\n",
    "    - Compute the derivative for coefficients[j] and save it to derivative.\n",
    "      Make sure to slice the i-th row of feature_matrix with [i:i+batch_size,j]\n",
    "    - Compute the product of the step size, the derivative, and (1./batch_size).\n",
    "    - Increment coefficients[j] by the product just computed.\n",
    "  * Compute the average log likelihood over the current batch.\n",
    "    Add this value to the list log_likelihood_all.\n",
    "  * Increment i by batch_size, indicating the progress made so far on the data.\n",
    "  * Check whether we made a complete pass over data by checking\n",
    "    whether (i+batch_size) exceeds the data size. If so, shuffle the data. If not, do nothing.\n",
    "\n",
    "* Return the final set of coefficients, along with the list log_likelihood_all."
   ]
  },
  {
   "cell_type": "code",
   "execution_count": 55,
   "metadata": {
    "collapsed": false
   },
   "outputs": [],
   "source": [
    "def logistic_regression_SG(feature_matrix, sentiment, initial_coefficients, step_size, batch_size, max_iter):\n",
    "    log_likelihood_all = []\n",
    "\n",
    "    # make sure it's a numpy array\n",
    "    coefficients = np.array(initial_coefficients)\n",
    "    # set seed=1 to produce consistent results\n",
    "    np.random.seed(seed=1)\n",
    "    # Shuffle the data before starting\n",
    "    permutation = np.random.permutation(len(feature_matrix))\n",
    "    feature_matrix = feature_matrix[permutation,:]\n",
    "    sentiment = sentiment[permutation]\n",
    "\n",
    "    i = 0 # index of current batch\n",
    "    # Do a linear scan over data\n",
    "    for itr in xrange(max_iter):\n",
    "        # Predict P(y_i = +1|x_i,w) using your predict_probability() function\n",
    "        # Make sure to slice the i-th row of feature_matrix with [i:i+batch_size,:]\n",
    "        predictions = predict_probability(feature_matrix[i:i+batch_size, :], coefficients)\n",
    "\n",
    "        # Compute indicator value for (y_i = +1)\n",
    "        # Make sure to slice the i-th entry with [i:i+batch_size]\n",
    "        indicator = (sentiment[i:i+batch_size] == +1)\n",
    "\n",
    "        # Compute the errors as indicator - predictions\n",
    "        errors = indicator - predictions\n",
    "        for j in xrange(len(coefficients)): # loop over each coefficient\n",
    "            # Recall that feature_matrix[:,j] is the feature column associated with coefficients[j]\n",
    "            # Compute the derivative for coefficients[j] and save it to derivative.\n",
    "            # Make sure to slice the i-th row of feature_matrix with [i:i+batch_size,j]\n",
    "            derivative = feature_derivative(errors, feature_matrix[i:i+batch_size, j])\n",
    "            # Compute the product of the step size, the derivative, and the **normalization constant** (1./batch_size)\n",
    "            coefficients[j] += (1. / batch_size) * (step_size * derivative)\n",
    "\n",
    "        # Checking whether log likelihood is increasing\n",
    "        # Print the log likelihood over the *current batch*\n",
    "        lp = compute_avg_log_likelihood(feature_matrix[i:i+batch_size,:], sentiment[i:i+batch_size], coefficients)\n",
    "        log_likelihood_all.append(lp)\n",
    "        if itr <= 15 or (itr <= 1000 and itr % 100 == 0) or (itr <= 10000 and itr % 1000 == 0) \\\n",
    "         or itr % 10000 == 0 or itr == max_iter-1:\n",
    "            data_size = len(feature_matrix)\n",
    "            print 'Iteration %*d: Average log likelihood (of data points  [%0*d:%0*d]) = %.8f' % \\\n",
    "                (int(np.ceil(np.log10(max_iter))), itr, \\\n",
    "                 int(np.ceil(np.log10(data_size))), i, \\\n",
    "                 int(np.ceil(np.log10(data_size))), i+batch_size, lp)  \n",
    "\n",
    "        # if we made a complete pass over data, shuffle and restart\n",
    "        i += batch_size\n",
    "        if i+batch_size > len(feature_matrix):\n",
    "            permutation = np.random.permutation(len(feature_matrix))\n",
    "            feature_matrix = feature_matrix[permutation,:]\n",
    "            sentiment = sentiment[permutation]\n",
    "            i = 0                \n",
    "\n",
    "    # We return the list of log likelihoods for plotting purposes.\n",
    "    return coefficients, log_likelihood_all"
   ]
  },
  {
   "cell_type": "markdown",
   "metadata": {},
   "source": [
    "Note: In practice, the final set of coefficients is rarely used; it is better to use the average of the last K sets of coefficients instead, where K should be adjusted depending on how fast the log likelihood oscillates around the optimum."
   ]
  },
  {
   "cell_type": "markdown",
   "metadata": {},
   "source": [
    "Test the above function with the sample data:"
   ]
  },
  {
   "cell_type": "code",
   "execution_count": 57,
   "metadata": {
    "collapsed": false
   },
   "outputs": [
    {
     "name": "stdout",
     "output_type": "stream",
     "text": [
      "Iteration 0: Average log likelihood (of data points  [0:2]) = -0.33774513\n",
      "Iteration 1: Average log likelihood (of data points  [0:2]) = -0.23455309\n",
      "-------------------------------------------------------------------------------------\n",
      "Coefficients learned                 : [-0.09755757  0.68242552 -0.7799831 ]\n",
      "Average log likelihood per-iteration : [-0.33774513108142956, -0.2345530939410341]\n",
      "-------------------------------------------------------------------------------------\n",
      "Test passed!\n"
     ]
    }
   ],
   "source": [
    "sample_feature_matrix = np.array([[1.,2.,-1.], [1.,0.,1.]])\n",
    "sample_sentiment = np.array([+1, -1])\n",
    "\n",
    "coefficients, log_likelihood = logistic_regression_SG(sample_feature_matrix, sample_sentiment, np.zeros(3),\n",
    "                                                  step_size=1., batch_size=2, max_iter=2)\n",
    "print '-------------------------------------------------------------------------------------'\n",
    "print 'Coefficients learned                 :', coefficients\n",
    "print 'Average log likelihood per-iteration :', log_likelihood\n",
    "if np.allclose(coefficients, np.array([-0.09755757,  0.68242552, -0.7799831]), atol=1e-3)\\\n",
    "  and np.allclose(log_likelihood, np.array([-0.33774513108142956, -0.2345530939410341])):\n",
    "    # pass if elements match within 1e-3\n",
    "    print '-------------------------------------------------------------------------------------'\n",
    "    print 'Test passed!'\n",
    "else:\n",
    "    print '-------------------------------------------------------------------------------------'\n",
    "    print 'Test failed'"
   ]
  },
  {
   "cell_type": "markdown",
   "metadata": {},
   "source": [
    "Compare. Running gradient ascent using the stochastic gradient ascent implementation"
   ]
  },
  {
   "cell_type": "markdown",
   "metadata": {},
   "source": [
    "Now run stochastic gradient ascent over the feature_matrix_train for 10 iterations using:  \n",
    "\n",
    "initial_coefficients = np.zeros(194)  \n",
    "step_size = 5e-1  \n",
    "batch_size = 1  \n",
    "max_iter = 10  "
   ]
  },
  {
   "cell_type": "code",
   "execution_count": 58,
   "metadata": {
    "collapsed": false
   },
   "outputs": [
    {
     "name": "stdout",
     "output_type": "stream",
     "text": [
      "Iteration 0: Average log likelihood (of data points  [00000:00001]) = -0.25192908\n",
      "Iteration 1: Average log likelihood (of data points  [00001:00002]) = -0.00000001\n",
      "Iteration 2: Average log likelihood (of data points  [00002:00003]) = -0.12692771\n",
      "Iteration 3: Average log likelihood (of data points  [00003:00004]) = -0.02969101\n",
      "Iteration 4: Average log likelihood (of data points  [00004:00005]) = -0.02668819\n",
      "Iteration 5: Average log likelihood (of data points  [00005:00006]) = -0.04332901\n",
      "Iteration 6: Average log likelihood (of data points  [00006:00007]) = -0.02368802\n",
      "Iteration 7: Average log likelihood (of data points  [00007:00008]) = -0.12686897\n",
      "Iteration 8: Average log likelihood (of data points  [00008:00009]) = -0.04468879\n",
      "Iteration 9: Average log likelihood (of data points  [00009:00010]) = -0.00000124\n"
     ]
    }
   ],
   "source": [
    "coefficients, log_likelihood = logistic_regression_SG(feature_matrix_train, sentiment_train,\n",
    "                                        initial_coefficients = np.zeros(194),\n",
    "                                        step_size = 5e-1, batch_size = 1, max_iter = 10)"
   ]
  },
  {
   "cell_type": "markdown",
   "metadata": {},
   "source": [
    "Now run batch gradient ascent over the feature_matrix_train for 200 iterations using:  \n",
    "\n",
    "initial_coefficients = np.zeros(194)  \n",
    "step_size = 5e-1  \n",
    "batch_size = number of rows in feature_matrix_train  \n",
    "max_iter = 200  "
   ]
  },
  {
   "cell_type": "code",
   "execution_count": 67,
   "metadata": {
    "collapsed": false
   },
   "outputs": [
    {
     "name": "stdout",
     "output_type": "stream",
     "text": [
      "Iteration   0: Average log likelihood (of data points  [00000:47780]) = -0.68308119\n",
      "Iteration   1: Average log likelihood (of data points  [00000:47780]) = -0.67394599\n",
      "Iteration   2: Average log likelihood (of data points  [00000:47780]) = -0.66555129\n",
      "Iteration   3: Average log likelihood (of data points  [00000:47780]) = -0.65779626\n",
      "Iteration   4: Average log likelihood (of data points  [00000:47780]) = -0.65060701\n",
      "Iteration   5: Average log likelihood (of data points  [00000:47780]) = -0.64392241\n",
      "Iteration   6: Average log likelihood (of data points  [00000:47780]) = -0.63769009\n",
      "Iteration   7: Average log likelihood (of data points  [00000:47780]) = -0.63186462\n",
      "Iteration   8: Average log likelihood (of data points  [00000:47780]) = -0.62640636\n",
      "Iteration   9: Average log likelihood (of data points  [00000:47780]) = -0.62128063\n",
      "Iteration  10: Average log likelihood (of data points  [00000:47780]) = -0.61645691\n",
      "Iteration  11: Average log likelihood (of data points  [00000:47780]) = -0.61190832\n",
      "Iteration  12: Average log likelihood (of data points  [00000:47780]) = -0.60761103\n",
      "Iteration  13: Average log likelihood (of data points  [00000:47780]) = -0.60354390\n",
      "Iteration  14: Average log likelihood (of data points  [00000:47780]) = -0.59968811\n",
      "Iteration  15: Average log likelihood (of data points  [00000:47780]) = -0.59602682\n",
      "Iteration 100: Average log likelihood (of data points  [00000:47780]) = -0.49520194\n",
      "Iteration 199: Average log likelihood (of data points  [00000:47780]) = -0.47126953\n"
     ]
    }
   ],
   "source": [
    "coefficients_batch, log_likelihood_batch = logistic_regression_SG(feature_matrix_train, sentiment_train, \n",
    "                                                      initial_coefficients = np.zeros(194), \n",
    "                                                      step_size = 5e-1, batch_size = len(feature_matrix_train), \n",
    "                                                      max_iter = 200)"
   ]
  },
  {
   "cell_type": "code",
   "execution_count": 61,
   "metadata": {
    "collapsed": true
   },
   "outputs": [],
   "source": [
    "import matplotlib.pyplot as plt\n",
    "%matplotlib inline\n",
    "\n",
    "def make_plot(log_likelihood_all, len_data, batch_size, smoothing_window=1, label=''):\n",
    "    plt.rcParams.update({'figure.figsize': (9,5)})\n",
    "    log_likelihood_all_ma = np.convolve(np.array(log_likelihood_all), \\\n",
    "                                        np.ones((smoothing_window,))/smoothing_window, mode='valid')\n",
    "\n",
    "    plt.plot(np.array(range(smoothing_window-1, len(log_likelihood_all)))*float(batch_size)/len_data,\n",
    "             log_likelihood_all_ma, linewidth=4.0, label=label)\n",
    "    plt.rcParams.update({'font.size': 16})\n",
    "    plt.tight_layout()\n",
    "    plt.xlabel('# of passes over data')\n",
    "    plt.ylabel('Average log likelihood per data point')\n",
    "    plt.legend(loc='lower right', prop={'size':14})\n"
   ]
  },
  {
   "cell_type": "markdown",
   "metadata": {},
   "source": [
    "#### Stochastic gradient ascent vs batch gradient ascent"
   ]
  },
  {
   "cell_type": "markdown",
   "metadata": {},
   "source": [
    "We are comparing:  \n",
    "\n",
    "stochastic gradient ascent: step_size = 0.1, batch_size=100  \n",
    "batch gradient ascent: step_size = 0.5, batch_size=[# rows in feature_matrix_train]\n",
    "\n",
    "Run stochastic gradient ascent for 200 passes using:  \n",
    "step_size=1e-1  \n",
    "batch_size=100  \n",
    "initial_coefficients set to all zeros.  "
   ]
  },
  {
   "cell_type": "code",
   "execution_count": 64,
   "metadata": {
    "collapsed": false
   },
   "outputs": [
    {
     "name": "stdout",
     "output_type": "stream",
     "text": [
      "Iteration     0: Average log likelihood (of data points  [00000:00100]) = -0.68251093\n",
      "Iteration     1: Average log likelihood (of data points  [00100:00200]) = -0.67845294\n",
      "Iteration     2: Average log likelihood (of data points  [00200:00300]) = -0.68207160\n",
      "Iteration     3: Average log likelihood (of data points  [00300:00400]) = -0.67411325\n",
      "Iteration     4: Average log likelihood (of data points  [00400:00500]) = -0.67804438\n",
      "Iteration     5: Average log likelihood (of data points  [00500:00600]) = -0.67712546\n",
      "Iteration     6: Average log likelihood (of data points  [00600:00700]) = -0.66377074\n",
      "Iteration     7: Average log likelihood (of data points  [00700:00800]) = -0.67321231\n",
      "Iteration     8: Average log likelihood (of data points  [00800:00900]) = -0.66923613\n",
      "Iteration     9: Average log likelihood (of data points  [00900:01000]) = -0.67479446\n",
      "Iteration    10: Average log likelihood (of data points  [01000:01100]) = -0.66501639\n",
      "Iteration    11: Average log likelihood (of data points  [01100:01200]) = -0.65591964\n",
      "Iteration    12: Average log likelihood (of data points  [01200:01300]) = -0.66240398\n",
      "Iteration    13: Average log likelihood (of data points  [01300:01400]) = -0.66440641\n",
      "Iteration    14: Average log likelihood (of data points  [01400:01500]) = -0.65782757\n",
      "Iteration    15: Average log likelihood (of data points  [01500:01600]) = -0.64571479\n",
      "Iteration   100: Average log likelihood (of data points  [10000:10100]) = -0.60976663\n",
      "Iteration   200: Average log likelihood (of data points  [20000:20100]) = -0.54566060\n",
      "Iteration   300: Average log likelihood (of data points  [30000:30100]) = -0.48245740\n",
      "Iteration   400: Average log likelihood (of data points  [40000:40100]) = -0.46629313\n",
      "Iteration   500: Average log likelihood (of data points  [02300:02400]) = -0.47223389\n",
      "Iteration   600: Average log likelihood (of data points  [12300:12400]) = -0.52216798\n",
      "Iteration   700: Average log likelihood (of data points  [22300:22400]) = -0.52336683\n",
      "Iteration   800: Average log likelihood (of data points  [32300:32400]) = -0.46963453\n",
      "Iteration   900: Average log likelihood (of data points  [42300:42400]) = -0.47883783\n",
      "Iteration  1000: Average log likelihood (of data points  [04600:04700]) = -0.46988191\n",
      "Iteration  2000: Average log likelihood (of data points  [09200:09300]) = -0.46365531\n",
      "Iteration  3000: Average log likelihood (of data points  [13800:13900]) = -0.36466901\n",
      "Iteration  4000: Average log likelihood (of data points  [18400:18500]) = -0.51096892\n",
      "Iteration  5000: Average log likelihood (of data points  [23000:23100]) = -0.43544394\n",
      "Iteration  6000: Average log likelihood (of data points  [27600:27700]) = -0.45656653\n",
      "Iteration  7000: Average log likelihood (of data points  [32200:32300]) = -0.42656766\n",
      "Iteration  8000: Average log likelihood (of data points  [36800:36900]) = -0.39989352\n",
      "Iteration  9000: Average log likelihood (of data points  [41400:41500]) = -0.45267388\n",
      "Iteration 10000: Average log likelihood (of data points  [46000:46100]) = -0.45394262\n",
      "Iteration 20000: Average log likelihood (of data points  [44300:44400]) = -0.48958438\n",
      "Iteration 30000: Average log likelihood (of data points  [42600:42700]) = -0.41913672\n",
      "Iteration 40000: Average log likelihood (of data points  [40900:41000]) = -0.45899229\n",
      "Iteration 50000: Average log likelihood (of data points  [39200:39300]) = -0.46859254\n",
      "Iteration 60000: Average log likelihood (of data points  [37500:37600]) = -0.41599369\n",
      "Iteration 70000: Average log likelihood (of data points  [35800:35900]) = -0.49905981\n",
      "Iteration 80000: Average log likelihood (of data points  [34100:34200]) = -0.45494095\n",
      "Iteration 90000: Average log likelihood (of data points  [32400:32500]) = -0.43220080\n",
      "Iteration 95399: Average log likelihood (of data points  [47600:47700]) = -0.50265709\n"
     ]
    }
   ],
   "source": [
    "step_size = 1e-1\n",
    "batch_size = 100\n",
    "num_passes = 200\n",
    "num_iterations = num_passes * int(len(feature_matrix_train)/batch_size)\n",
    "\n",
    "## YOUR CODE HERE\n",
    "coefficients_sgd, log_likelihood_sgd = logistic_regression_SG(feature_matrix_train, sentiment_train,\n",
    "                                       initial_coefficients=np.zeros(194),\n",
    "                                       step_size=step_size, batch_size=batch_size, max_iter=num_iterations)"
   ]
  },
  {
   "cell_type": "code",
   "execution_count": 68,
   "metadata": {
    "collapsed": false
   },
   "outputs": [
    {
     "data": {
      "image/png": "[encoded data removed]",
      "text/plain": [
       "<matplotlib.figure.Figure at 0x111c35b90>"
      ]
     },
     "metadata": {},
     "output_type": "display_data"
    }
   ],
   "source": [
    "make_plot(log_likelihood_sgd, len_data=len(feature_matrix_train), batch_size=100,\n",
    "          smoothing_window=30, label='stochastic, step_size=1e-1')\n",
    "make_plot(log_likelihood_batch, len_data=len(feature_matrix_train), batch_size=len(feature_matrix_train),\n",
    "          smoothing_window=1, label='batch, step_size=5e-1')"
   ]
  },
  {
   "cell_type": "markdown",
   "metadata": {},
   "source": [
    "#### Explore the effects of step sizes on stochastic gradient ascent  \n",
    "Plotting the log likelihood as a function of passes for each step size\n",
    "step_size = 1e-4  \n",
    "step_size = 1e-3  \n",
    "step_size = 1e-2  \n",
    "step_size = 1e-1  \n",
    "step_size = 1e0  \n",
    "step_size = 1e1  \n",
    "step_size = 1e2  \n",
    "\n",
    "initial_coefficients=np.zeros(194)  \n",
    "batch_size=100  \n",
    "max_iter initialized so as to run 10 passes over the data.  \n",
    "smoothing_window=30.  \n"
   ]
  },
  {
   "cell_type": "code",
   "execution_count": 70,
   "metadata": {
    "collapsed": false,
    "scrolled": true
   },
   "outputs": [
    {
     "name": "stdout",
     "output_type": "stream",
     "text": [
      "Iteration    0: Average log likelihood (of data points  [00000:00100]) = -0.69313622\n",
      "Iteration    1: Average log likelihood (of data points  [00100:00200]) = -0.69313170\n",
      "Iteration    2: Average log likelihood (of data points  [00200:00300]) = -0.69313585\n",
      "Iteration    3: Average log likelihood (of data points  [00300:00400]) = -0.69312487\n",
      "Iteration    4: Average log likelihood (of data points  [00400:00500]) = -0.69313157\n",
      "Iteration    5: Average log likelihood (of data points  [00500:00600]) = -0.69313113\n",
      "Iteration    6: Average log likelihood (of data points  [00600:00700]) = -0.69311121\n",
      "Iteration    7: Average log likelihood (of data points  [00700:00800]) = -0.69312692\n",
      "Iteration    8: Average log likelihood (of data points  [00800:00900]) = -0.69312115\n",
      "Iteration    9: Average log likelihood (of data points  [00900:01000]) = -0.69312811\n",
      "Iteration   10: Average log likelihood (of data points  [01000:01100]) = -0.69311286\n",
      "Iteration   11: Average log likelihood (of data points  [01100:01200]) = -0.69310301\n",
      "Iteration   12: Average log likelihood (of data points  [01200:01300]) = -0.69310725\n",
      "Iteration   13: Average log likelihood (of data points  [01300:01400]) = -0.69311567\n",
      "Iteration   14: Average log likelihood (of data points  [01400:01500]) = -0.69310836\n",
      "Iteration   15: Average log likelihood (of data points  [01500:01600]) = -0.69308342\n",
      "Iteration  100: Average log likelihood (of data points  [10000:10100]) = -0.69298918\n",
      "Iteration  200: Average log likelihood (of data points  [20000:20100]) = -0.69277472\n",
      "Iteration  300: Average log likelihood (of data points  [30000:30100]) = -0.69228764\n",
      "Iteration  400: Average log likelihood (of data points  [40000:40100]) = -0.69222554\n",
      "Iteration  500: Average log likelihood (of data points  [02300:02400]) = -0.69186710\n",
      "Iteration  600: Average log likelihood (of data points  [12300:12400]) = -0.69230650\n",
      "Iteration  700: Average log likelihood (of data points  [22300:22400]) = -0.69174220\n",
      "Iteration  800: Average log likelihood (of data points  [32300:32400]) = -0.69139955\n",
      "Iteration  900: Average log likelihood (of data points  [42300:42400]) = -0.69123818\n",
      "Iteration 1000: Average log likelihood (of data points  [04600:04700]) = -0.69088883\n",
      "Iteration 2000: Average log likelihood (of data points  [09200:09300]) = -0.68976850\n",
      "Iteration 3000: Average log likelihood (of data points  [13800:13900]) = -0.68569701\n",
      "Iteration 4000: Average log likelihood (of data points  [18400:18500]) = -0.68597545\n",
      "Iteration 4769: Average log likelihood (of data points  [47600:47700]) = -0.68736824\n",
      "Iteration    0: Average log likelihood (of data points  [00000:00100]) = -0.69303759\n",
      "Iteration    1: Average log likelihood (of data points  [00100:00200]) = -0.69299241\n",
      "Iteration    2: Average log likelihood (of data points  [00200:00300]) = -0.69303389\n",
      "Iteration    3: Average log likelihood (of data points  [00300:00400]) = -0.69292442\n",
      "Iteration    4: Average log likelihood (of data points  [00400:00500]) = -0.69299113\n",
      "Iteration    5: Average log likelihood (of data points  [00500:00600]) = -0.69298668\n",
      "Iteration    6: Average log likelihood (of data points  [00600:00700]) = -0.69278828\n",
      "Iteration    7: Average log likelihood (of data points  [00700:00800]) = -0.69294460\n",
      "Iteration    8: Average log likelihood (of data points  [00800:00900]) = -0.69288708\n",
      "Iteration    9: Average log likelihood (of data points  [00900:01000]) = -0.69295651\n",
      "Iteration   10: Average log likelihood (of data points  [01000:01100]) = -0.69280480\n",
      "Iteration   11: Average log likelihood (of data points  [01100:01200]) = -0.69270635\n",
      "Iteration   12: Average log likelihood (of data points  [01200:01300]) = -0.69274924\n",
      "Iteration   13: Average log likelihood (of data points  [01300:01400]) = -0.69283249\n",
      "Iteration   14: Average log likelihood (of data points  [01400:01500]) = -0.69275924\n",
      "Iteration   15: Average log likelihood (of data points  [01500:01600]) = -0.69251197\n",
      "Iteration  100: Average log likelihood (of data points  [10000:10100]) = -0.69158805\n",
      "Iteration  200: Average log likelihood (of data points  [20000:20100]) = -0.68946852\n",
      "Iteration  300: Average log likelihood (of data points  [30000:30100]) = -0.68492418\n",
      "Iteration  400: Average log likelihood (of data points  [40000:40100]) = -0.68415366\n",
      "Iteration  500: Average log likelihood (of data points  [02300:02400]) = -0.68114554\n",
      "Iteration  600: Average log likelihood (of data points  [12300:12400]) = -0.68489867\n",
      "Iteration  700: Average log likelihood (of data points  [22300:22400]) = -0.68027821\n",
      "Iteration  800: Average log likelihood (of data points  [32300:32400]) = -0.67693088\n",
      "Iteration  900: Average log likelihood (of data points  [42300:42400]) = -0.67561867\n",
      "Iteration 1000: Average log likelihood (of data points  [04600:04700]) = -0.67367588\n",
      "Iteration 2000: Average log likelihood (of data points  [09200:09300]) = -0.66156206\n",
      "Iteration 3000: Average log likelihood (of data points  [13800:13900]) = -0.62798175\n",
      "Iteration 4000: Average log likelihood (of data points  [18400:18500]) = -0.64157978\n",
      "Iteration 4769: Average log likelihood (of data points  [47600:47700]) = -0.64571292\n",
      "Iteration    0: Average log likelihood (of data points  [00000:00100]) = -0.69205420\n",
      "Iteration    1: Average log likelihood (of data points  [00100:00200]) = -0.69160695\n",
      "Iteration    2: Average log likelihood (of data points  [00200:00300]) = -0.69201686\n",
      "Iteration    3: Average log likelihood (of data points  [00300:00400]) = -0.69095428\n",
      "Iteration    4: Average log likelihood (of data points  [00400:00500]) = -0.69159348\n",
      "Iteration    5: Average log likelihood (of data points  [00500:00600]) = -0.69154386\n",
      "Iteration    6: Average log likelihood (of data points  [00600:00700]) = -0.68964000\n",
      "Iteration    7: Average log likelihood (of data points  [00700:00800]) = -0.69112685\n",
      "Iteration    8: Average log likelihood (of data points  [00800:00900]) = -0.69056997\n",
      "Iteration    9: Average log likelihood (of data points  [00900:01000]) = -0.69124730\n",
      "Iteration   10: Average log likelihood (of data points  [01000:01100]) = -0.68980179\n",
      "Iteration   11: Average log likelihood (of data points  [01100:01200]) = -0.68882576\n",
      "Iteration   12: Average log likelihood (of data points  [01200:01300]) = -0.68929536\n",
      "Iteration   13: Average log likelihood (of data points  [01300:01400]) = -0.69003572\n",
      "Iteration   14: Average log likelihood (of data points  [01400:01500]) = -0.68929307\n",
      "Iteration   15: Average log likelihood (of data points  [01500:01600]) = -0.68702353\n",
      "Iteration  100: Average log likelihood (of data points  [10000:10100]) = -0.67916061\n",
      "Iteration  200: Average log likelihood (of data points  [20000:20100]) = -0.66049079\n",
      "Iteration  300: Average log likelihood (of data points  [30000:30100]) = -0.63235099\n",
      "Iteration  400: Average log likelihood (of data points  [40000:40100]) = -0.62183600\n",
      "Iteration  500: Average log likelihood (of data points  [02300:02400]) = -0.61150928\n",
      "Iteration  600: Average log likelihood (of data points  [12300:12400]) = -0.62979300\n",
      "Iteration  700: Average log likelihood (of data points  [22300:22400]) = -0.61553432\n",
      "Iteration  800: Average log likelihood (of data points  [32300:32400]) = -0.59156014\n",
      "Iteration  900: Average log likelihood (of data points  [42300:42400]) = -0.58842264\n",
      "Iteration 1000: Average log likelihood (of data points  [04600:04700]) = -0.59076267\n",
      "Iteration 2000: Average log likelihood (of data points  [09200:09300]) = -0.54480104\n",
      "Iteration 3000: Average log likelihood (of data points  [13800:13900]) = -0.45761063\n",
      "Iteration 4000: Average log likelihood (of data points  [18400:18500]) = -0.54362587\n",
      "Iteration 4769: Average log likelihood (of data points  [47600:47700]) = -0.56306510\n",
      "Iteration    0: Average log likelihood (of data points  [00000:00100]) = -0.68251093\n",
      "Iteration    1: Average log likelihood (of data points  [00100:00200]) = -0.67845294\n",
      "Iteration    2: Average log likelihood (of data points  [00200:00300]) = -0.68207160\n",
      "Iteration    3: Average log likelihood (of data points  [00300:00400]) = -0.67411325\n",
      "Iteration    4: Average log likelihood (of data points  [00400:00500]) = -0.67804438\n",
      "Iteration    5: Average log likelihood (of data points  [00500:00600]) = -0.67712546\n",
      "Iteration    6: Average log likelihood (of data points  [00600:00700]) = -0.66377074\n",
      "Iteration    7: Average log likelihood (of data points  [00700:00800]) = -0.67321231\n",
      "Iteration    8: Average log likelihood (of data points  [00800:00900]) = -0.66923613\n",
      "Iteration    9: Average log likelihood (of data points  [00900:01000]) = -0.67479446\n",
      "Iteration   10: Average log likelihood (of data points  [01000:01100]) = -0.66501639\n",
      "Iteration   11: Average log likelihood (of data points  [01100:01200]) = -0.65591964\n",
      "Iteration   12: Average log likelihood (of data points  [01200:01300]) = -0.66240398\n",
      "Iteration   13: Average log likelihood (of data points  [01300:01400]) = -0.66440641\n",
      "Iteration   14: Average log likelihood (of data points  [01400:01500]) = -0.65782757\n",
      "Iteration   15: Average log likelihood (of data points  [01500:01600]) = -0.64571479\n",
      "Iteration  100: Average log likelihood (of data points  [10000:10100]) = -0.60976663\n",
      "Iteration  200: Average log likelihood (of data points  [20000:20100]) = -0.54566060\n",
      "Iteration  300: Average log likelihood (of data points  [30000:30100]) = -0.48245740\n",
      "Iteration  400: Average log likelihood (of data points  [40000:40100]) = -0.46629313\n",
      "Iteration  500: Average log likelihood (of data points  [02300:02400]) = -0.47223389\n",
      "Iteration  600: Average log likelihood (of data points  [12300:12400]) = -0.52216798\n",
      "Iteration  700: Average log likelihood (of data points  [22300:22400]) = -0.52336683\n",
      "Iteration  800: Average log likelihood (of data points  [32300:32400]) = -0.46963453\n",
      "Iteration  900: Average log likelihood (of data points  [42300:42400]) = -0.47883783\n",
      "Iteration 1000: Average log likelihood (of data points  [04600:04700]) = -0.46988191\n",
      "Iteration 2000: Average log likelihood (of data points  [09200:09300]) = -0.46365531\n",
      "Iteration 3000: Average log likelihood (of data points  [13800:13900]) = -0.36466901\n",
      "Iteration 4000: Average log likelihood (of data points  [18400:18500]) = -0.51096892\n",
      "Iteration 4769: Average log likelihood (of data points  [47600:47700]) = -0.54670667\n",
      "Iteration    0: Average log likelihood (of data points  [00000:00100]) = -0.61201447\n",
      "Iteration    1: Average log likelihood (of data points  [00100:00200]) = -0.58843678\n",
      "Iteration    2: Average log likelihood (of data points  [00200:00300]) = -0.59771677\n",
      "Iteration    3: Average log likelihood (of data points  [00300:00400]) = -0.58770466\n",
      "Iteration    4: Average log likelihood (of data points  [00400:00500]) = -0.56939710\n",
      "Iteration    5: Average log likelihood (of data points  [00500:00600]) = -0.57554451\n",
      "Iteration    6: Average log likelihood (of data points  [00600:00700]) = -0.54068090\n",
      "Iteration    7: Average log likelihood (of data points  [00700:00800]) = -0.55212916\n",
      "Iteration    8: Average log likelihood (of data points  [00800:00900]) = -0.55311029\n",
      "Iteration    9: Average log likelihood (of data points  [00900:01000]) = -0.57672007\n",
      "Iteration   10: Average log likelihood (of data points  [01000:01100]) = -0.55455807\n",
      "Iteration   11: Average log likelihood (of data points  [01100:01200]) = -0.49771894\n",
      "Iteration   12: Average log likelihood (of data points  [01200:01300]) = -0.54708765\n",
      "Iteration   13: Average log likelihood (of data points  [01300:01400]) = -0.54286814\n",
      "Iteration   14: Average log likelihood (of data points  [01400:01500]) = -0.52361054\n",
      "Iteration   15: Average log likelihood (of data points  [01500:01600]) = -0.49731367\n",
      "Iteration  100: Average log likelihood (of data points  [10000:10100]) = -0.50102061\n",
      "Iteration  200: Average log likelihood (of data points  [20000:20100]) = -0.42406927\n",
      "Iteration  300: Average log likelihood (of data points  [30000:30100]) = -0.35064478\n",
      "Iteration  400: Average log likelihood (of data points  [40000:40100]) = -0.38344116\n",
      "Iteration  500: Average log likelihood (of data points  [02300:02400]) = -0.40170047\n",
      "Iteration  600: Average log likelihood (of data points  [12300:12400]) = -0.45117863\n",
      "Iteration  700: Average log likelihood (of data points  [22300:22400]) = -0.46493371\n",
      "Iteration  800: Average log likelihood (of data points  [32300:32400]) = -0.45343350\n",
      "Iteration  900: Average log likelihood (of data points  [42300:42400]) = -0.43128394\n",
      "Iteration 1000: Average log likelihood (of data points  [04600:04700]) = -0.43169967\n",
      "Iteration 2000: Average log likelihood (of data points  [09200:09300]) = -0.43029376\n",
      "Iteration 3000: Average log likelihood (of data points  [13800:13900]) = -0.32703099\n",
      "Iteration 4000: Average log likelihood (of data points  [18400:18500]) = -0.49162447\n",
      "Iteration 4769: Average log likelihood (of data points  [47600:47700]) = -0.52452720\n",
      "Iteration    0: Average log likelihood (of data points  [00000:00100]) = -0.51319004\n",
      "Iteration    1: Average log likelihood (of data points  [00100:00200]) = -2.20035379\n",
      "Iteration    2: Average log likelihood (of data points  [00200:00300]) = -3.34199720\n",
      "Iteration    3: Average log likelihood (of data points  [00300:00400]) = -3.06285156\n",
      "Iteration    4: Average log likelihood (of data points  [00400:00500]) = -2.80822162\n",
      "Iteration    5: Average log likelihood (of data points  [00500:00600]) = -2.99629286\n",
      "Iteration    6: Average log likelihood (of data points  [00600:00700]) = -2.71489944\n",
      "Iteration    7: Average log likelihood (of data points  [00700:00800]) = -3.61713200\n",
      "Iteration    8: Average log likelihood (of data points  [00800:00900]) = -1.19526584\n",
      "Iteration    9: Average log likelihood (of data points  [00900:01000]) = -0.75357081\n",
      "Iteration   10: Average log likelihood (of data points  [01000:01100]) = -0.71310829\n",
      "Iteration   11: Average log likelihood (of data points  [01100:01200]) = -0.59361318\n",
      "Iteration   12: Average log likelihood (of data points  [01200:01300]) = -1.53764659\n",
      "Iteration   13: Average log likelihood (of data points  [01300:01400]) = -2.69588686\n",
      "Iteration   14: Average log likelihood (of data points  [01400:01500]) = -1.89731473\n",
      "Iteration   15: Average log likelihood (of data points  [01500:01600]) = -0.81254441\n",
      "Iteration  100: Average log likelihood (of data points  [10000:10100]) = -1.19013437\n",
      "Iteration  200: Average log likelihood (of data points  [20000:20100]) = -0.48968363\n",
      "Iteration  300: Average log likelihood (of data points  [30000:30100]) = -0.72860037\n",
      "Iteration  400: Average log likelihood (of data points  [40000:40100]) = -0.58719556\n",
      "Iteration  500: Average log likelihood (of data points  [02300:02400]) = -0.31220572\n",
      "Iteration  600: Average log likelihood (of data points  [12300:12400]) = -1.89468446\n",
      "Iteration  700: Average log likelihood (of data points  [22300:22400]) = -0.96096585\n",
      "Iteration  800: Average log likelihood (of data points  [32300:32400]) = -0.66616640\n",
      "Iteration  900: Average log likelihood (of data points  [42300:42400]) = -0.46114004\n",
      "Iteration 1000: Average log likelihood (of data points  [04600:04700]) = -0.47236476\n",
      "Iteration 2000: Average log likelihood (of data points  [09200:09300]) = -0.45227508\n",
      "Iteration 3000: Average log likelihood (of data points  [13800:13900]) = -0.29378688\n",
      "Iteration 4000: Average log likelihood (of data points  [18400:18500]) = -2.47834692\n",
      "Iteration 4769: Average log likelihood (of data points  [47600:47700]) = -2.48776279\n",
      "Iteration    0: Average log likelihood (of data points  [00000:00100]) = -2.44471310\n",
      "Iteration    1: Average log likelihood (of data points  [00100:00200]) = -36.66862050\n",
      "Iteration    2: Average log likelihood (of data points  [00200:00300]) = -25.49870239\n",
      "Iteration    3: Average log likelihood (of data points  [00300:00400]) = -40.14565040\n",
      "Iteration    4: Average log likelihood (of data points  [00400:00500]) = -27.03748522\n",
      "Iteration    5: Average log likelihood (of data points  [00500:00600]) = -32.62294582\n",
      "Iteration    6: Average log likelihood (of data points  [00600:00700]) = -25.88017915\n",
      "Iteration    7: Average log likelihood (of data points  [00700:00800]) = -37.30720216\n",
      "Iteration    8: Average log likelihood (of data points  [00800:00900]) = -10.87360529\n",
      "Iteration    9: Average log likelihood (of data points  [00900:01000]) = -6.60878996\n",
      "Iteration   10: Average log likelihood (of data points  [01000:01100]) = -7.15375088\n",
      "Iteration   11: Average log likelihood (of data points  [01100:01200]) = -6.04741293\n",
      "Iteration   12: Average log likelihood (of data points  [01200:01300]) = -18.17389834\n",
      "Iteration   13: Average log likelihood (of data points  [01300:01400]) = -27.14619228\n",
      "Iteration   14: Average log likelihood (of data points  [01400:01500]) = -20.50685042\n",
      "Iteration   15: Average log likelihood (of data points  [01500:01600]) = -7.74332305\n",
      "Iteration  100: Average log likelihood (of data points  [10000:10100]) = -10.64501704\n",
      "Iteration  200: Average log likelihood (of data points  [20000:20100]) = -4.03851603\n",
      "Iteration  300: Average log likelihood (of data points  [30000:30100]) = -10.37747185\n",
      "Iteration  400: Average log likelihood (of data points  [40000:40100]) = -5.46016762\n",
      "Iteration  500: Average log likelihood (of data points  [02300:02400]) = -5.66224612\n",
      "Iteration  600: Average log likelihood (of data points  [12300:12400]) = -16.75106057\n",
      "Iteration  700: Average log likelihood (of data points  [22300:22400]) = -8.01003695\n",
      "Iteration  800: Average log likelihood (of data points  [32300:32400]) = -4.49359043\n",
      "Iteration  900: Average log likelihood (of data points  [42300:42400]) = -4.21653111\n",
      "Iteration 1000: Average log likelihood (of data points  [04600:04700]) = -4.26131101\n",
      "Iteration 2000: Average log likelihood (of data points  [09200:09300]) = -7.90086963\n",
      "Iteration 3000: Average log likelihood (of data points  [13800:13900]) = -1.91363348\n",
      "Iteration 4000: Average log likelihood (of data points  [18400:18500]) = -29.28754705\n",
      "Iteration 4769: Average log likelihood (of data points  [47600:47700]) = -28.78364840\n"
     ]
    }
   ],
   "source": [
    "batch_size = 100\n",
    "num_passes = 10\n",
    "num_iterations = num_passes * int(len(feature_matrix_train)/batch_size)\n",
    "\n",
    "coefficients_sgd = {}\n",
    "log_likelihood_sgd = {}\n",
    "for step_size in np.logspace(-4, 2, num=7):\n",
    "    coefficients_sgd[step_size], log_likelihood_sgd[step_size] = logistic_regression_SG(feature_matrix_train, sentiment_train,\n",
    "                                       initial_coefficients=np.zeros(194),\n",
    "                                       step_size=step_size, batch_size=batch_size, max_iter=num_iterations)"
   ]
  },
  {
   "cell_type": "code",
   "execution_count": 71,
   "metadata": {
    "collapsed": false
   },
   "outputs": [
    {
     "data": {
      "image/png": "[encoded data removed]",
      "text/plain": [
       "<matplotlib.figure.Figure at 0x118ee7e10>"
      ]
     },
     "metadata": {},
     "output_type": "display_data"
    }
   ],
   "source": [
    "for step_size in np.logspace(-4, 2, num=7):\n",
    "    make_plot(log_likelihood_sgd[step_size], len_data=len(train_data), batch_size=100,\n",
    "              smoothing_window=30, label='step_size=%.1e'%step_size)"
   ]
  },
  {
   "cell_type": "code",
   "execution_count": null,
   "metadata": {
    "collapsed": true
   },
   "outputs": [],
   "source": []
  }
 ],
 "metadata": {
  "kernelspec": {
   "display_name": "Python [Root]",
   "language": "python",
   "name": "Python [Root]"
  },
  "language_info": {
   "codemirror_mode": {
    "name": "ipython",
    "version": 2
   },
   "file_extension": ".py",
   "mimetype": "text/x-python",
   "name": "python",
   "nbconvert_exporter": "python",
   "pygments_lexer": "ipython2",
   "version": "2.7.11"
  }
 },
 "nbformat": 4,
 "nbformat_minor": 0
}
