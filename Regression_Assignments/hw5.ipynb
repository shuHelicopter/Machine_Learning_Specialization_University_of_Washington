{
 "cells": [
  {
   "cell_type": "markdown",
   "metadata": {},
   "source": [
    "# Homework 5"
   ]
  },
  {
   "cell_type": "markdown",
   "metadata": {},
   "source": [
    "The designer of assignments prefer 'graphlab', but the mainstream of industry is sklearn. However, they have different outputs for the same model."
   ]
  },
  {
   "cell_type": "code",
   "execution_count": 1,
   "metadata": {
    "collapsed": true
   },
   "outputs": [],
   "source": [
    "import pandas as pd\n",
    "import numpy as np\n",
    "from math import log, sqrt\n",
    "from sklearn import linear_model"
   ]
  },
  {
   "cell_type": "code",
   "execution_count": 48,
   "metadata": {
    "collapsed": true
   },
   "outputs": [],
   "source": [
    "dtype_dict = {'bathrooms':float, 'waterfront':int, 'sqft_above':int, 'sqft_living15':float, 'grade':int, 'yr_renovated':int, 'price':float, 'bedrooms':float, 'zipcode':str, 'long':float, 'sqft_lot15':float, 'sqft_living':float, 'floors':float, 'condition':int, 'lat':float, 'date':str, 'sqft_basement':int, 'yr_built':int, 'id':str, 'sqft_lot':int, 'view':int}"
   ]
  },
  {
   "cell_type": "code",
   "execution_count": 49,
   "metadata": {
    "collapsed": true
   },
   "outputs": [],
   "source": [
    "sales = pd.read_csv('./kc_house_data.csv', dtype = dtype_dict) \n",
    "testing = pd.read_csv('wk3_kc_house_test_data.csv', dtype=dtype_dict)\n",
    "training = pd.read_csv('wk3_kc_house_train_data.csv', dtype=dtype_dict)\n",
    "validation = pd.read_csv('wk3_kc_house_valid_data.csv', dtype=dtype_dict)"
   ]
  },
  {
   "cell_type": "code",
   "execution_count": 4,
   "metadata": {
    "collapsed": false
   },
   "outputs": [],
   "source": [
    "sales['sqft_living_sqrt'] = sales['sqft_living'].apply(sqrt)\n",
    "sales['sqft_lot_sqrt'] = sales['sqft_lot'].apply(sqrt)\n",
    "sales['bedrooms_square'] = sales['bedrooms']*sales['bedrooms']\n",
    "sales['floors_square'] = sales['floors']*sales['floors']"
   ]
  },
  {
   "cell_type": "code",
   "execution_count": 16,
   "metadata": {
    "collapsed": false
   },
   "outputs": [
    {
     "data": {
      "text/plain": [
       "Lasso(alpha=500.0, copy_X=True, fit_intercept=True, max_iter=1000,\n",
       "   normalize=True, positive=False, precompute=False, random_state=None,\n",
       "   selection='cyclic', tol=0.0001, warm_start=False)"
      ]
     },
     "execution_count": 16,
     "metadata": {},
     "output_type": "execute_result"
    }
   ],
   "source": [
    "all_features = ['bedrooms', 'bedrooms_square',\n",
    "            'bathrooms',\n",
    "            'sqft_living', 'sqft_living_sqrt',\n",
    "            'sqft_lot', 'sqft_lot_sqrt',\n",
    "            'floors', 'floors_square',\n",
    "            'waterfront', 'view', 'condition', 'grade',\n",
    "            'sqft_above',\n",
    "            'sqft_basement',\n",
    "            'yr_built', 'yr_renovated']\n",
    "\n",
    "model_all = linear_model.Lasso(alpha=5e2, normalize=True) # set parameters\n",
    "model_all.fit(sales[all_features], sales['price']) # learn weights"
   ]
  },
  {
   "cell_type": "code",
   "execution_count": 19,
   "metadata": {
    "collapsed": false
   },
   "outputs": [
    {
     "data": {
      "text/plain": [
       "array([     0.        ,      0.        ,      0.        ,    134.43931396,\n",
       "            0.        ,      0.        ,      0.        ,      0.        ,\n",
       "            0.        ,      0.        ,  24750.00458561,      0.        ,\n",
       "        61749.10309071,      0.        ,      0.        ,     -0.        ,\n",
       "            0.        ])"
      ]
     },
     "execution_count": 19,
     "metadata": {},
     "output_type": "execute_result"
    }
   ],
   "source": [
    "model_all.coef_"
   ]
  },
  {
   "cell_type": "code",
   "execution_count": 21,
   "metadata": {
    "collapsed": true
   },
   "outputs": [],
   "source": [
    "testing['sqft_living_sqrt'] = testing['sqft_living'].apply(sqrt)\n",
    "testing['sqft_lot_sqrt'] = testing['sqft_lot'].apply(sqrt)\n",
    "testing['bedrooms_square'] = testing['bedrooms']*testing['bedrooms']\n",
    "testing['floors_square'] = testing['floors']*testing['floors']\n",
    "\n",
    "training['sqft_living_sqrt'] = training['sqft_living'].apply(sqrt)\n",
    "training['sqft_lot_sqrt'] = training['sqft_lot'].apply(sqrt)\n",
    "training['bedrooms_square'] = training['bedrooms']*training['bedrooms']\n",
    "training['floors_square'] = training['floors']*training['floors']\n",
    "\n",
    "validation['sqft_living_sqrt'] = validation['sqft_living'].apply(sqrt)\n",
    "validation['sqft_lot_sqrt'] = validation['sqft_lot'].apply(sqrt)\n",
    "validation['bedrooms_square'] = validation['bedrooms']*validation['bedrooms']\n",
    "validation['floors_square'] = validation['floors']*validation['floors']"
   ]
  },
  {
   "cell_type": "code",
   "execution_count": 22,
   "metadata": {
    "collapsed": true
   },
   "outputs": [],
   "source": [
    "l1_penalty = np.logspace(1, 7, num=13)"
   ]
  },
  {
   "cell_type": "code",
   "execution_count": 33,
   "metadata": {
    "collapsed": false
   },
   "outputs": [
    {
     "name": "stdout",
     "output_type": "stream",
     "text": [
      "Test this penalty:\n",
      "10.0\n",
      "3.982133273e+14\n",
      "\n",
      "Test this penalty:\n",
      "31.6227766017\n",
      "3.99041900253e+14\n",
      "\n",
      "Test this penalty:\n",
      "100.0\n",
      "4.29791604073e+14\n",
      "\n",
      "Test this penalty:\n",
      "316.227766017\n",
      "4.63739831045e+14\n",
      "\n",
      "Test this penalty:\n",
      "1000.0\n",
      "6.45898733634e+14\n",
      "\n",
      "Test this penalty:\n",
      "3162.27766017\n",
      "1.22250685943e+15\n",
      "\n",
      "Test this penalty:\n",
      "10000.0\n",
      "1.22250685943e+15\n",
      "\n",
      "Test this penalty:\n",
      "31622.7766017\n",
      "1.22250685943e+15\n",
      "\n",
      "Test this penalty:\n",
      "100000.0\n",
      "1.22250685943e+15\n",
      "\n",
      "Test this penalty:\n",
      "316227.766017\n",
      "1.22250685943e+15\n",
      "\n",
      "Test this penalty:\n",
      "1000000.0\n",
      "1.22250685943e+15\n",
      "\n",
      "Test this penalty:\n",
      "3162277.66017\n",
      "1.22250685943e+15\n",
      "\n",
      "Test this penalty:\n",
      "10000000.0\n",
      "1.22250685943e+15\n",
      "\n"
     ]
    }
   ],
   "source": [
    "def get_RSS(prediction, output):\n",
    "    residual = output - prediction\n",
    "    # square the residuals and add them up\n",
    "    RS = residual*residual\n",
    "    RSS = RS.sum()\n",
    "    return(RSS)\n",
    "\n",
    "for elm in l1_penalty:\n",
    "    print 'Test this penalty:'\n",
    "    RSS = 0\n",
    "    print elm\n",
    "    model = linear_model.Lasso(alpha=elm, normalize=True)\n",
    "    model.fit(training[all_features], training['price']) # learning weights\n",
    "    \n",
    "    predictions=model.predict(validation[all_features])\n",
    "    RSS = get_RSS(predictions, validation['price'])\n",
    "    print RSS\n",
    "    print ''"
   ]
  },
  {
   "cell_type": "markdown",
   "metadata": {},
   "source": [
    "Select 10.0 as the best l1_penalty."
   ]
  },
  {
   "cell_type": "code",
   "execution_count": 41,
   "metadata": {
    "collapsed": false
   },
   "outputs": [
    {
     "name": "stdout",
     "output_type": "stream",
     "text": [
      "9.7244581389e+13\n"
     ]
    }
   ],
   "source": [
    "model = linear_model.Lasso(alpha=10.0, normalize=True)\n",
    "model.fit(testing[all_features], testing['price']) # learning weights\n",
    "    \n",
    "predictions=model.predict(testing[all_features])\n",
    "RSS = get_RSS(predictions, testing['price'])\n",
    "print RSS"
   ]
  },
  {
   "cell_type": "code",
   "execution_count": 42,
   "metadata": {
    "collapsed": false
   },
   "outputs": [
    {
     "data": {
      "text/plain": [
       "17"
      ]
     },
     "execution_count": 42,
     "metadata": {},
     "output_type": "execute_result"
    }
   ],
   "source": [
    "np.count_nonzero(model.coef_) + np.count_nonzero(model.intercept_)"
   ]
  },
  {
   "cell_type": "code",
   "execution_count": 43,
   "metadata": {
    "collapsed": true
   },
   "outputs": [],
   "source": [
    "max_nonzeros = 7"
   ]
  },
  {
   "cell_type": "code",
   "execution_count": 45,
   "metadata": {
    "collapsed": false
   },
   "outputs": [],
   "source": [
    "l1_penalty = np.logspace(1, 4, num=20)"
   ]
  },
  {
   "cell_type": "code",
   "execution_count": 46,
   "metadata": {
    "collapsed": false
   },
   "outputs": [
    {
     "name": "stdout",
     "output_type": "stream",
     "text": [
      "Test this penalty:\n",
      "10.0\n",
      "15\n",
      "\n",
      "Test this penalty:\n",
      "14.3844988829\n",
      "15\n",
      "\n",
      "Test this penalty:\n",
      "20.6913808111\n",
      "15\n",
      "\n",
      "Test this penalty:\n",
      "29.7635144163\n",
      "15\n",
      "\n",
      "Test this penalty:\n",
      "42.8133239872\n",
      "13\n",
      "\n",
      "Test this penalty:\n",
      "61.5848211066\n",
      "12\n",
      "\n",
      "Test this penalty:\n",
      "88.586679041\n",
      "11\n",
      "\n",
      "Test this penalty:\n",
      "127.42749857\n",
      "10\n",
      "\n",
      "Test this penalty:\n",
      "183.298071083\n",
      "7\n",
      "\n",
      "Test this penalty:\n",
      "263.665089873\n",
      "6\n",
      "\n",
      "Test this penalty:\n",
      "379.269019073\n",
      "6\n",
      "\n",
      "Test this penalty:\n",
      "545.559478117\n",
      "6\n",
      "\n",
      "Test this penalty:\n",
      "784.759970351\n",
      "5\n",
      "\n",
      "Test this penalty:\n",
      "1128.83789168\n",
      "3\n",
      "\n",
      "Test this penalty:\n",
      "1623.77673919\n",
      "3\n",
      "\n",
      "Test this penalty:\n",
      "2335.72146909\n",
      "2\n",
      "\n",
      "Test this penalty:\n",
      "3359.81828628\n",
      "1\n",
      "\n",
      "Test this penalty:\n",
      "4832.93023857\n",
      "1\n",
      "\n",
      "Test this penalty:\n",
      "6951.92796178\n",
      "1\n",
      "\n",
      "Test this penalty:\n",
      "10000.0\n",
      "1\n",
      "\n"
     ]
    }
   ],
   "source": [
    "for elm in l1_penalty:\n",
    "    print 'Test this penalty:'\n",
    "    num_nz = 0\n",
    "    print elm\n",
    "    model = linear_model.Lasso(alpha=elm, normalize=True)\n",
    "    model.fit(training[all_features], training['price']) # learning weights\n",
    "    \n",
    "    num_nz = np.count_nonzero(model.coef_) + np.count_nonzero(model.intercept_)\n",
    "    print num_nz\n",
    "    print ''"
   ]
  },
  {
   "cell_type": "code",
   "execution_count": 48,
   "metadata": {
    "collapsed": false
   },
   "outputs": [
    {
     "data": {
      "text/plain": [
       "7"
      ]
     },
     "execution_count": 48,
     "metadata": {},
     "output_type": "execute_result"
    }
   ],
   "source": [
    "l1_penalty_min = 127.42749857\n",
    "10\n",
    "l1_penalty_max = 183.298071083\n",
    "7"
   ]
  },
  {
   "cell_type": "code",
   "execution_count": 50,
   "metadata": {
    "collapsed": false
   },
   "outputs": [],
   "source": [
    "l1_penalty_values = np.linspace(l1_penalty_min,l1_penalty_max,20)"
   ]
  },
  {
   "cell_type": "code",
   "execution_count": 57,
   "metadata": {
    "collapsed": false
   },
   "outputs": [
    {
     "name": "stdout",
     "output_type": "stream",
     "text": [
      "153.892506602\n",
      "4.39820045609e+14\n",
      "7\n",
      "\n",
      "156.833063051\n",
      "4.40111359799e+14\n",
      "7\n",
      "\n",
      "159.773619499\n",
      "4.40410061321e+14\n",
      "7\n",
      "\n",
      "162.714175947\n",
      "4.40717413936e+14\n",
      "7\n",
      "\n",
      "165.654732395\n",
      "4.41033335418e+14\n",
      "7\n",
      "\n",
      "168.595288843\n",
      "4.41357732859e+14\n",
      "7\n",
      "\n",
      "171.535845291\n",
      "4.41690625344e+14\n",
      "7\n",
      "\n",
      "174.476401739\n",
      "4.42032017278e+14\n",
      "7\n",
      "\n",
      "177.416958187\n",
      "4.42381906049e+14\n",
      "7\n",
      "\n",
      "180.357514635\n",
      "4.42740296603e+14\n",
      "7\n",
      "\n",
      "183.298071083\n",
      "4.43107216261e+14\n",
      "7\n",
      "\n"
     ]
    }
   ],
   "source": [
    "for elm in l1_penalty_values:\n",
    "    RSS = 0\n",
    "    predictions = 0\n",
    "    num_nz = 0\n",
    "    model = linear_model.Lasso(alpha=elm, normalize=True)\n",
    "    model.fit(training[all_features], training['price']) # learning weights\n",
    "\n",
    "    predictions=model.predict(validation[all_features])\n",
    "    RSS = get_RSS(predictions,validation['price'])\n",
    "    \n",
    "    num_nz = np.count_nonzero(model.coef_) + np.count_nonzero(model.intercept_)\n",
    "    if num_nz <= 7:\n",
    "        print elm\n",
    "        print RSS\n",
    "        print num_nz\n",
    "        print ''"
   ]
  },
  {
   "cell_type": "code",
   "execution_count": 63,
   "metadata": {
    "collapsed": false
   },
   "outputs": [
    {
     "name": "stdout",
     "output_type": "stream",
     "text": [
      "['bedrooms', 'bedrooms_square', 'bathrooms', 'sqft_living', 'sqft_living_sqrt', 'sqft_lot', 'sqft_lot_sqrt', 'floors', 'floors_square', 'waterfront', 'view', 'condition', 'grade', 'sqft_above', 'sqft_basement', 'yr_built', 'yr_renovated']\n",
      "[ -0.00000000e+00  -0.00000000e+00   1.10742535e+04   1.63235168e+02\n",
      "   0.00000000e+00  -0.00000000e+00  -0.00000000e+00   0.00000000e+00\n",
      "   0.00000000e+00   5.08217547e+05   4.19979732e+04   0.00000000e+00\n",
      "   1.16484911e+05   0.00000000e+00   0.00000000e+00  -2.62835166e+03\n",
      "   0.00000000e+00]\n"
     ]
    }
   ],
   "source": [
    "model_lowest = linear_model.Lasso(alpha = 153.892506602, normalize=True)\n",
    "model_lowest.fit(training[all_features], training['price']) # learning weights\n",
    "print all_features\n",
    "print model_lowest.coef_"
   ]
  },
  {
   "cell_type": "markdown",
   "metadata": {},
   "source": [
    "# Homwwork 5.2"
   ]
  },
  {
   "cell_type": "code",
   "execution_count": 88,
   "metadata": {
    "collapsed": false
   },
   "outputs": [],
   "source": [
    "sales = pd.read_csv('./kc_house_data.csv', dtype = dtype_dict) \n",
    "testing = pd.read_csv('./kc_house_test_data.csv', dtype=dtype_dict)\n",
    "training = pd.read_csv('./kc_house_train_data.csv', dtype=dtype_dict)"
   ]
  },
  {
   "cell_type": "code",
   "execution_count": 66,
   "metadata": {
    "collapsed": true
   },
   "outputs": [],
   "source": [
    "def get_numpy_data(data_sframe, features, output):\n",
    "    data_sframe['constant'] = 1 # add a constant column to an SFrame\n",
    "    # prepend variable 'constant' to the features list\n",
    "    features = ['constant'] + features\n",
    "    # select the columns of data_SFrame given by the ‘features’ list into the SFrame ‘features_sframe’\n",
    "    # features_sframe = data_sframe[features]\n",
    "    \n",
    "    # this will convert the features_sframe into a numpy matrix with GraphLab Create >= 1.7!!\n",
    "    features_matrix = data_sframe[features].as_matrix()\n",
    "    # assign the column of data_sframe associated with the target to the variable ‘output_sarray’\n",
    "    output_array = data_sframe[output].as_matrix()\n",
    "\n",
    "    # this will convert the SArray into a numpy array:\n",
    "    # output_array = output_sarray.to_numpy(output) # GraphLab Create>= 1.7!!\n",
    "    return(features_matrix, output_array)"
   ]
  },
  {
   "cell_type": "code",
   "execution_count": 67,
   "metadata": {
    "collapsed": true
   },
   "outputs": [],
   "source": [
    "def predict_output(feature_matrix, weights):\n",
    "    predictions = np.dot(feature_matrix, weights)\n",
    "    return(predictions)"
   ]
  },
  {
   "cell_type": "code",
   "execution_count": 68,
   "metadata": {
    "collapsed": false
   },
   "outputs": [
    {
     "name": "stdout",
     "output_type": "stream",
     "text": [
      "[[  3.   5.   8.]\n",
      " [  4.  12.  15.]]\n"
     ]
    }
   ],
   "source": [
    "X = np.array([[3.,5.,8.],[4.,12.,15.]])\n",
    "print X"
   ]
  },
  {
   "cell_type": "code",
   "execution_count": 69,
   "metadata": {
    "collapsed": false
   },
   "outputs": [
    {
     "name": "stdout",
     "output_type": "stream",
     "text": [
      "[  5.  13.  17.]\n"
     ]
    }
   ],
   "source": [
    "norms = np.linalg.norm(X, axis=0) # gives [norm(X[:,0]), norm(X[:,1]), norm(X[:,2])]\n",
    "print norms"
   ]
  },
  {
   "cell_type": "code",
   "execution_count": 70,
   "metadata": {
    "collapsed": false
   },
   "outputs": [
    {
     "name": "stdout",
     "output_type": "stream",
     "text": [
      "[[ 0.6         0.38461538  0.47058824]\n",
      " [ 0.8         0.92307692  0.88235294]]\n"
     ]
    }
   ],
   "source": [
    "print X / norms # gives [X[:,0]/norm(X[:,0]), X[:,1]/norm(X[:,1]), X[:,2]/norm(X[:,2])]"
   ]
  },
  {
   "cell_type": "code",
   "execution_count": 89,
   "metadata": {
    "collapsed": true
   },
   "outputs": [],
   "source": [
    "def normalize_features(features):\n",
    "    norms = np.linalg.norm(features, axis=0)\n",
    "    normalized_features = features / norms\n",
    "    return (normalized_features, norms)"
   ]
  },
  {
   "cell_type": "code",
   "execution_count": 90,
   "metadata": {
    "collapsed": false
   },
   "outputs": [],
   "source": [
    "simple_features = ['sqft_living', 'bedrooms']\n",
    "my_output = 'price'\n",
    "(simple_feature_matrix, output) = get_numpy_data(sales, simple_features, my_output)\n",
    "simple_feature_matrix, norms = normalize_features(simple_feature_matrix)"
   ]
  },
  {
   "cell_type": "code",
   "execution_count": 91,
   "metadata": {
    "collapsed": true
   },
   "outputs": [],
   "source": [
    "initial_weights = np.array([1., 4., 1.])"
   ]
  },
  {
   "cell_type": "code",
   "execution_count": 92,
   "metadata": {
    "collapsed": false
   },
   "outputs": [],
   "source": [
    "prediction = predict_output(simple_feature_matrix, initial_weights)"
   ]
  },
  {
   "cell_type": "code",
   "execution_count": 95,
   "metadata": {
    "collapsed": false
   },
   "outputs": [
    {
     "name": "stdout",
     "output_type": "stream",
     "text": [
      "[79400300.014522895, 87939470.823251754, 80966698.66623947]\n"
     ]
    }
   ],
   "source": [
    "ro = [0 for i in range((simple_feature_matrix.shape)[1])]\n",
    "for i in range((simple_feature_matrix.shape)[1]):    \n",
    "    ro[i] = (simple_feature_matrix[:,i] * (output - prediction + (initial_weights[i] * simple_feature_matrix[:,i]))).sum()\n",
    "print ro"
   ]
  },
  {
   "cell_type": "code",
   "execution_count": 96,
   "metadata": {
    "collapsed": false
   },
   "outputs": [
    {
     "name": "stdout",
     "output_type": "stream",
     "text": [
      "λ = (1.479879e+08, 1.758789e+08)\n"
     ]
    }
   ],
   "source": [
    "diff = abs((ro[1]*2) - (ro[2]*2))\n",
    "print('λ = (%e, %e)' %((ro[2]-diff/2+1)*2, (ro[2]+diff/2-1)*2))"
   ]
  },
  {
   "cell_type": "code",
   "execution_count": 97,
   "metadata": {
    "collapsed": false
   },
   "outputs": [
    {
     "name": "stdout",
     "output_type": "stream",
     "text": [
      "175878941.647\n",
      "161933397.332\n"
     ]
    }
   ],
   "source": [
    "print ro[1]*2\n",
    "print ro[2]*2"
   ]
  },
  {
   "cell_type": "code",
   "execution_count": 98,
   "metadata": {
    "collapsed": true
   },
   "outputs": [],
   "source": [
    "def lasso_coordinate_descent_step(i, feature_matrix, output, weights, l1_penalty):\n",
    "    # compute prediction\n",
    "    prediction = predict_output(feature_matrix, weights)    \n",
    "    # compute ro[i] = SUM[ [feature_i]*(output - prediction + weight[i]*[feature_i]) ]\n",
    "    ro_i = np.sum(feature_matrix[:,i]*(output - prediction + weights[i]*feature_matrix[:,i]))\n",
    "    if i == 0: # intercept -- do not regularize\n",
    "        new_weight_i = ro_i \n",
    "    elif ro_i < -l1_penalty/2.:\n",
    "        new_weight_i = ro_i + (l1_penalty/2)    \n",
    "    elif ro_i > l1_penalty/2.:\n",
    "        new_weight_i = ro_i - (l1_penalty/2)    \n",
    "    else:\n",
    "        new_weight_i = 0.\n",
    "    return new_weight_i"
   ]
  },
  {
   "cell_type": "code",
   "execution_count": 99,
   "metadata": {
    "collapsed": false
   },
   "outputs": [
    {
     "name": "stdout",
     "output_type": "stream",
     "text": [
      "0.425558846691\n"
     ]
    }
   ],
   "source": [
    "import math\n",
    "print lasso_coordinate_descent_step(1, np.array([[3./math.sqrt(13),1./math.sqrt(10)],[2./math.sqrt(13),3./math.sqrt(10)]]), \n",
    "                                   np.array([1., 1.]), np.array([1., 4.]), 0.1)"
   ]
  },
  {
   "cell_type": "code",
   "execution_count": 100,
   "metadata": {
    "collapsed": true
   },
   "outputs": [],
   "source": [
    "def lasso_cyclical_coordinate_descent(feature_matrix, output, initial_weights, l1_penalty, tolerance):\n",
    "    weights = initial_weights.copy()\n",
    "    # converged condition variable    \n",
    "    converged  = False        \n",
    "    while not converged:         \n",
    "        max_change = 0\n",
    "        for i in range(len(weights)):\n",
    "            old_weights_i = weights[i] \n",
    "            weights[i] = lasso_coordinate_descent_step(i, feature_matrix, output, weights, l1_penalty)                        \n",
    "            change_i = np.abs(old_weights_i - weights[i])             \n",
    "            if change_i > max_change:                \n",
    "                max_change = change_i        \n",
    "        if max_change < tolerance:              \n",
    "            converged = True     \n",
    "    return weights"
   ]
  },
  {
   "cell_type": "code",
   "execution_count": 106,
   "metadata": {
    "collapsed": true
   },
   "outputs": [],
   "source": [
    "simple_features = ['sqft_living', 'bedrooms']\n",
    "my_output = 'price'\n",
    "initial_weights = np.zeros(3)\n",
    "l1_penalty = 1e7\n",
    "tolerance = 1.0"
   ]
  },
  {
   "cell_type": "code",
   "execution_count": 110,
   "metadata": {
    "collapsed": false
   },
   "outputs": [],
   "source": [
    "(simple_feature_matrix, output) = get_numpy_data(sales, simple_features, my_output)\n",
    "(normalized_simple_feature_matrix, simple_norms) = normalize_features(simple_feature_matrix) # normalize features"
   ]
  },
  {
   "cell_type": "code",
   "execution_count": 108,
   "metadata": {
    "collapsed": false
   },
   "outputs": [
    {
     "name": "stdout",
     "output_type": "stream",
     "text": [
      "[ 21624997.95951909  63157247.20788956         0.        ]\n"
     ]
    }
   ],
   "source": [
    "weights = lasso_cyclical_coordinate_descent(normalized_simple_feature_matrix, output,\n",
    "                                            initial_weights, l1_penalty, tolerance)\n",
    "print weights"
   ]
  },
  {
   "cell_type": "code",
   "execution_count": 111,
   "metadata": {
    "collapsed": false
   },
   "outputs": [
    {
     "name": "stdout",
     "output_type": "stream",
     "text": [
      "1.63049247672e+15\n"
     ]
    }
   ],
   "source": [
    "predictions = predict_output(normalized_simple_feature_matrix, weights)\n",
    "rss = 0\n",
    "for i in range(0, len(predictions)):\n",
    "    error = predictions[i] - sales['price'][i]\n",
    "    rss += error * error\n",
    "print rss"
   ]
  },
  {
   "cell_type": "code",
   "execution_count": 112,
   "metadata": {
    "collapsed": true
   },
   "outputs": [],
   "source": [
    "all_features = ['bedrooms',\n",
    "                'bathrooms',\n",
    "                'sqft_living',\n",
    "                'sqft_lot',\n",
    "                'floors',\n",
    "                'waterfront', \n",
    "                'view', \n",
    "                'condition', \n",
    "                'grade',\n",
    "                'sqft_above',\n",
    "                'sqft_basement',\n",
    "                'yr_built', \n",
    "                'yr_renovated']"
   ]
  },
  {
   "cell_type": "code",
   "execution_count": 113,
   "metadata": {
    "collapsed": true
   },
   "outputs": [],
   "source": [
    "(all_feature_matrix, output) = get_numpy_data(training, all_features, my_output)\n",
    "(normalized_all_feature_matrix, simple_norms) = normalize_features(all_feature_matrix) # normalize features\n",
    "my_output = 'price'\n",
    "initial_weights = np.zeros(len(all_features)+1)\n",
    "l1_penalty = 1e7\n",
    "tolerance = 1.0"
   ]
  },
  {
   "cell_type": "code",
   "execution_count": 114,
   "metadata": {
    "collapsed": false
   },
   "outputs": [
    {
     "name": "stdout",
     "output_type": "stream",
     "text": [
      "[ 24429600.23440312         0.                 0.          48389174.77154896\n",
      "         0.                 0.           3317511.21492165\n",
      "   7329961.81171425         0.                 0.                 0.\n",
      "         0.                 0.                 0.        ]\n"
     ]
    }
   ],
   "source": [
    "weights_1 = lasso_cyclical_coordinate_descent(normalized_all_feature_matrix, output,\n",
    "                                            initial_weights, l1_penalty=1e7, tolerance=1)\n",
    "print weights_1"
   ]
  },
  {
   "cell_type": "code",
   "execution_count": 115,
   "metadata": {
    "collapsed": false
   },
   "outputs": [
    {
     "name": "stdout",
     "output_type": "stream",
     "text": [
      "[ 71114625.71488702         0.                 0.                 0.\n",
      "         0.                 0.                 0.                 0.\n",
      "         0.                 0.                 0.                 0.\n",
      "         0.                 0.        ]\n"
     ]
    }
   ],
   "source": [
    "weights_2 = lasso_cyclical_coordinate_descent(normalized_all_feature_matrix, output,\n",
    "                                            initial_weights, l1_penalty=1e8, tolerance=1)\n",
    "print weights_2"
   ]
  },
  {
   "cell_type": "code",
   "execution_count": 116,
   "metadata": {
    "collapsed": false
   },
   "outputs": [
    {
     "name": "stdout",
     "output_type": "stream",
     "text": [
      "[ 78564738.34156762 -22097398.92430532  12791071.87278517\n",
      "  93808088.09281193  -2013172.75704954  -4219184.93265014\n",
      "   6482842.81753506   7127408.53480689   5001664.8546964   14327518.43714051\n",
      " -15770959.15237397  -5159591.22213147 -84495341.7684364    2824439.49703683]\n"
     ]
    }
   ],
   "source": [
    "weights_3 = lasso_cyclical_coordinate_descent(normalized_all_feature_matrix, output,\n",
    "                                            initial_weights, l1_penalty=1e4, tolerance=5e5)\n",
    "print weights_3"
   ]
  },
  {
   "cell_type": "code",
   "execution_count": 117,
   "metadata": {
    "collapsed": false
   },
   "outputs": [],
   "source": [
    "(normalized_simple_feature_matrix, simple_norms) = normalize_features(all_feature_matrix) # normalize features"
   ]
  },
  {
   "cell_type": "code",
   "execution_count": 118,
   "metadata": {
    "collapsed": false
   },
   "outputs": [
    {
     "name": "stdout",
     "output_type": "stream",
     "text": [
      "161.317457646\n"
     ]
    }
   ],
   "source": [
    "normalized_weights_1 = weights_1 / simple_norms\n",
    "print normalized_weights_1[3]\n",
    "normalized_weights_2 = weights_2 / simple_norms\n",
    "normalized_weights_3 = weights_3 / simple_norms"
   ]
  },
  {
   "cell_type": "code",
   "execution_count": 120,
   "metadata": {
    "collapsed": false
   },
   "outputs": [],
   "source": [
    "(test_feature_matrix, test_output) = get_numpy_data(testing, all_features, 'price')"
   ]
  },
  {
   "cell_type": "code",
   "execution_count": 122,
   "metadata": {
    "collapsed": false
   },
   "outputs": [
    {
     "name": "stdout",
     "output_type": "stream",
     "text": [
      "2.7596207592e+14\n"
     ]
    }
   ],
   "source": [
    "prediction =  predict_output(test_feature_matrix, normalized_weights_1)\n",
    "rss = 0\n",
    "for i in range(0, len(prediction)):\n",
    "    error = prediction[i] - testing['price'][i]\n",
    "    rss += error * error\n",
    "print rss"
   ]
  },
  {
   "cell_type": "code",
   "execution_count": 123,
   "metadata": {
    "collapsed": false
   },
   "outputs": [
    {
     "name": "stdout",
     "output_type": "stream",
     "text": [
      "5.37166151497e+14\n"
     ]
    }
   ],
   "source": [
    "prediction =  predict_output(test_feature_matrix, normalized_weights_2)\n",
    "rss = 0\n",
    "for i in range(0, len(prediction)):\n",
    "    error = prediction[i] - testing['price'][i]\n",
    "    rss += error * error\n",
    "print rss"
   ]
  },
  {
   "cell_type": "code",
   "execution_count": 124,
   "metadata": {
    "collapsed": false
   },
   "outputs": [
    {
     "name": "stdout",
     "output_type": "stream",
     "text": [
      "2.28459958971e+14\n"
     ]
    }
   ],
   "source": [
    "prediction =  predict_output(test_feature_matrix, normalized_weights_3)\n",
    "rss = 0\n",
    "for i in range(0, len(prediction)):\n",
    "    error = prediction[i] - testing['price'][i]\n",
    "    rss += error * error\n",
    "print rss"
   ]
  },
  {
   "cell_type": "code",
   "execution_count": null,
   "metadata": {
    "collapsed": true
   },
   "outputs": [],
   "source": []
  }
 ],
 "metadata": {
  "anaconda-cloud": {},
  "kernelspec": {
   "display_name": "Python [Root]",
   "language": "python",
   "name": "Python [Root]"
  },
  "language_info": {
   "codemirror_mode": {
    "name": "ipython",
    "version": 2
   },
   "file_extension": ".py",
   "mimetype": "text/x-python",
   "name": "python",
   "nbconvert_exporter": "python",
   "pygments_lexer": "ipython2",
   "version": "2.7.11"
  }
 },
 "nbformat": 4,
 "nbformat_minor": 0
}
