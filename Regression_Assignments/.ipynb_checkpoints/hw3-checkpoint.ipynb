{
 "cells": [
  {
   "cell_type": "code",
   "execution_count": 1,
   "metadata": {
    "collapsed": true
   },
   "outputs": [],
   "source": [
    "import pandas as pd\n",
    "import numpy as np\n",
    "import math\n",
    "from sklearn import linear_model"
   ]
  },
  {
   "cell_type": "code",
   "execution_count": 4,
   "metadata": {
    "collapsed": true
   },
   "outputs": [],
   "source": [
    "sales = pd.read_csv('./kc_house_data.csv', dtype = {'bathrooms':float, 'waterfront':int, 'sqft_above':int, 'sqft_living15':float, 'grade':int, 'yr_renovated':int, 'price':float, 'bedrooms':float, 'zipcode':str, 'long':float, 'sqft_lot15':float, 'sqft_living':float, 'floors':str, 'condition':int, 'lat':float, 'date':str, 'sqft_basement':int, 'yr_built':int, 'id':str, 'sqft_lot':int, 'view':int})\n",
    "train_data = pd.read_csv('./wk3_kc_house_train_data.csv', dtype = {'bathrooms':float, 'waterfront':int, 'sqft_above':int, 'sqft_living15':float, 'grade':int, 'yr_renovated':int, 'price':float, 'bedrooms':float, 'zipcode':str, 'long':float, 'sqft_lot15':float, 'sqft_living':float, 'floors':str, 'condition':int, 'lat':float, 'date':str, 'sqft_basement':int, 'yr_built':int, 'id':str, 'sqft_lot':int, 'view':int})\n",
    "valid_data = pd.read_csv('./wk3_kc_house_valid_data.csv', dtype = {'bathrooms':float, 'waterfront':int, 'sqft_above':int, 'sqft_living15':float, 'grade':int, 'yr_renovated':int, 'price':float, 'bedrooms':float, 'zipcode':str, 'long':float, 'sqft_lot15':float, 'sqft_living':float, 'floors':str, 'condition':int, 'lat':float, 'date':str, 'sqft_basement':int, 'yr_built':int, 'id':str, 'sqft_lot':int, 'view':int})\n",
    "test_data = pd.read_csv('./wk3_kc_house_test_data.csv', dtype = {'bathrooms':float, 'waterfront':int, 'sqft_above':int, 'sqft_living15':float, 'grade':int, 'yr_renovated':int, 'price':float, 'bedrooms':float, 'zipcode':str, 'long':float, 'sqft_lot15':float, 'sqft_living':float, 'floors':str, 'condition':int, 'lat':float, 'date':str, 'sqft_basement':int, 'yr_built':int, 'id':str, 'sqft_lot':int, 'view':int})\n",
    "\n",
    "set1_data = pd.read_csv('./wk3_kc_house_set_1_data.csv', dtype = {'bathrooms':float, 'waterfront':int, 'sqft_above':int, 'sqft_living15':float, 'grade':int, 'yr_renovated':int, 'price':float, 'bedrooms':float, 'zipcode':str, 'long':float, 'sqft_lot15':float, 'sqft_living':float, 'floors':str, 'condition':int, 'lat':float, 'date':str, 'sqft_basement':int, 'yr_built':int, 'id':str, 'sqft_lot':int, 'view':int})\n",
    "set2_data = pd.read_csv('./wk3_kc_house_set_2_data.csv', dtype = {'bathrooms':float, 'waterfront':int, 'sqft_above':int, 'sqft_living15':float, 'grade':int, 'yr_renovated':int, 'price':float, 'bedrooms':float, 'zipcode':str, 'long':float, 'sqft_lot15':float, 'sqft_living':float, 'floors':str, 'condition':int, 'lat':float, 'date':str, 'sqft_basement':int, 'yr_built':int, 'id':str, 'sqft_lot':int, 'view':int})\n",
    "set3_data = pd.read_csv('./wk3_kc_house_set_3_data.csv', dtype = {'bathrooms':float, 'waterfront':int, 'sqft_above':int, 'sqft_living15':float, 'grade':int, 'yr_renovated':int, 'price':float, 'bedrooms':float, 'zipcode':str, 'long':float, 'sqft_lot15':float, 'sqft_living':float, 'floors':str, 'condition':int, 'lat':float, 'date':str, 'sqft_basement':int, 'yr_built':int, 'id':str, 'sqft_lot':int, 'view':int})\n",
    "set4_data = pd.read_csv('./wk3_kc_house_set_4_data.csv', dtype = {'bathrooms':float, 'waterfront':int, 'sqft_above':int, 'sqft_living15':float, 'grade':int, 'yr_renovated':int, 'price':float, 'bedrooms':float, 'zipcode':str, 'long':float, 'sqft_lot15':float, 'sqft_living':float, 'floors':str, 'condition':int, 'lat':float, 'date':str, 'sqft_basement':int, 'yr_built':int, 'id':str, 'sqft_lot':int, 'view':int})\n"
   ]
  },
  {
   "cell_type": "code",
   "execution_count": null,
   "metadata": {
    "collapsed": true
   },
   "outputs": [],
   "source": [
    "tmp_cubed = tmp.apply(lambda x: x**3)"
   ]
  },
  {
   "cell_type": "code",
   "execution_count": 89,
   "metadata": {
    "collapsed": true
   },
   "outputs": [],
   "source": [
    "def polynomial_dataframe(feature, degree): # feature is pandas.Series type\n",
    "    # assume that degree >= 1\n",
    "    # initialize the dataframe:\n",
    "    poly_dataframe = pd.DataFrame()\n",
    "    # and set poly_dataframe['power_1'] equal to the passed feature\n",
    "    poly_dataframe['power_1'] = feature\n",
    "    # first check if degree > 1\n",
    "    if degree > 1:\n",
    "        # then loop over the remaining degrees:\n",
    "        for power in range(2, degree+1):\n",
    "            # first we'll give the column a name:\n",
    "            name = 'power_' + str(power)\n",
    "            # assign poly_dataframe[name] to be feature^power; use apply(*)\n",
    "            poly_dataframe[name] = poly_dataframe['power_1'].apply(lambda x: x**power)\n",
    "    return poly_dataframe"
   ]
  },
  {
   "cell_type": "code",
   "execution_count": 90,
   "metadata": {
    "collapsed": false
   },
   "outputs": [
    {
     "name": "stderr",
     "output_type": "stream",
     "text": [
      "/Users/shute/anaconda/lib/python2.7/site-packages/ipykernel/__main__.py:1: FutureWarning: sort(columns=....) is deprecated, use sort_values(by=.....)\n",
      "  if __name__ == '__main__':\n"
     ]
    }
   ],
   "source": [
    "sales = sales.sort(['sqft_living','price'])"
   ]
  },
  {
   "cell_type": "code",
   "execution_count": 91,
   "metadata": {
    "collapsed": false
   },
   "outputs": [],
   "source": [
    "poly1_data = polynomial_dataframe(sales['sqft_living'], 1)\n",
    "poly1_data['price'] = sales['price']"
   ]
  },
  {
   "cell_type": "code",
   "execution_count": 92,
   "metadata": {
    "collapsed": false
   },
   "outputs": [
    {
     "data": {
      "text/plain": [
       "LinearRegression(copy_X=True, fit_intercept=True, n_jobs=1, normalize=False)"
      ]
     },
     "execution_count": 92,
     "metadata": {},
     "output_type": "execute_result"
    }
   ],
   "source": [
    "lm1 = linear_model.LinearRegression()\n",
    "lm1.fit(poly1_data[['power_1']], poly1_data[['price']])"
   ]
  },
  {
   "cell_type": "code",
   "execution_count": 94,
   "metadata": {
    "collapsed": false
   },
   "outputs": [
    {
     "data": {
      "text/plain": [
       "[<matplotlib.lines.Line2D at 0x1f8176190>,\n",
       " <matplotlib.lines.Line2D at 0x1f81768d0>]"
      ]
     },
     "execution_count": 94,
     "metadata": {},
     "output_type": "execute_result"
    },
    {
     "data": {
      "image/png": "[encoded data removed]",
      "text/plain": [
       "<matplotlib.figure.Figure at 0x1f8059190>"
      ]
     },
     "metadata": {},
     "output_type": "display_data"
    }
   ],
   "source": [
    "import matplotlib.pyplot as plt\n",
    "%matplotlib inline\n",
    "plt.plot(poly1_data['power_1'], poly1_data['price'], '.', \n",
    "         poly1_data['power_1'], lm1.predict(poly1_data[['power_1']]).reshape(-1 ,1),'-')"
   ]
  },
  {
   "cell_type": "code",
   "execution_count": 99,
   "metadata": {
    "collapsed": true
   },
   "outputs": [],
   "source": [
    "var = []\n",
    "for power in range(1, 16):\n",
    "    # first we'll give the column a name:\n",
    "    name = 'power_' + str(power)\n",
    "    var.append(name)"
   ]
  },
  {
   "cell_type": "code",
   "execution_count": 100,
   "metadata": {
    "collapsed": false
   },
   "outputs": [
    {
     "name": "stdout",
     "output_type": "stream",
     "text": [
      "['power_1', 'power_2', 'power_3', 'power_4', 'power_5', 'power_6', 'power_7', 'power_8', 'power_9', 'power_10', 'power_11', 'power_12', 'power_13', 'power_14', 'power_15']\n"
     ]
    }
   ],
   "source": [
    "print var"
   ]
  },
  {
   "cell_type": "code",
   "execution_count": 101,
   "metadata": {
    "collapsed": false
   },
   "outputs": [
    {
     "name": "stdout",
     "output_type": "stream",
     "text": [
      "[[  3.05794168e-90  -1.69394899e-49  -5.61775564e-55  -4.97841222e-60\n",
      "    0.00000000e+00   1.10358351e-70   8.37724029e-67   6.23411957e-63\n",
      "    4.49156442e-59   3.06938763e-55   1.91749300e-51   1.01335180e-47\n",
      "    3.62176959e-44  -5.63501661e-48   2.18641116e-52]]\n",
      "[ 539058.81866871]\n"
     ]
    }
   ],
   "source": [
    "poly_set1_data = polynomial_dataframe(set1_data['sqft_living'], 15)\n",
    "poly_set1_data['price'] = set1_data['price']\n",
    "lm_set1 = linear_model.LinearRegression()\n",
    "lm_set1.fit(poly_set1_data[var], poly_set1_data[['price']])\n",
    "print lm_set1.coef_\n",
    "print lm_set1.intercept_"
   ]
  },
  {
   "cell_type": "code",
   "execution_count": 102,
   "metadata": {
    "collapsed": false
   },
   "outputs": [
    {
     "name": "stdout",
     "output_type": "stream",
     "text": [
      "[[  2.71335943e-77   7.33542378e-39  -1.85052501e-44   1.39007354e-49\n",
      "    0.00000000e+00   0.00000000e+00   3.64549213e-55   1.50416255e-51\n",
      "    5.76015653e-48   1.95770493e-44   5.39396528e-41   9.40376341e-38\n",
      "   -3.63529134e-41   4.65476514e-45  -1.97194701e-49]]\n",
      "[ 506567.31348149]\n"
     ]
    }
   ],
   "source": [
    "poly_set2_data = polynomial_dataframe(set2_data['sqft_living'], 15)\n",
    "poly_set2_data['price'] = set2_data['price']\n",
    "lm_set2 = linear_model.LinearRegression()\n",
    "lm_set2.fit(poly_set2_data[var], poly_set2_data[['price']])\n",
    "print lm_set2.coef_\n",
    "print lm_set2.intercept_"
   ]
  },
  {
   "cell_type": "code",
   "execution_count": 103,
   "metadata": {
    "collapsed": false
   },
   "outputs": [
    {
     "name": "stdout",
     "output_type": "stream",
     "text": [
      "[[  2.83751934e-88  -7.80224144e-49   4.71701447e-55   0.00000000e+00\n",
      "    0.00000000e+00   4.27894986e-69   2.68009626e-65   1.63911362e-61\n",
      "    9.66435015e-58   5.38044653e-54   2.72563636e-50   1.16253248e-46\n",
      "    3.33756141e-43  -6.76238818e-47   3.43132932e-51]]\n",
      "[ 530874.31665308]\n"
     ]
    }
   ],
   "source": [
    "poly_set3_data = polynomial_dataframe(set3_data['sqft_living'], 15)\n",
    "poly_set3_data['price'] = set3_data['price']\n",
    "lm_set3 = linear_model.LinearRegression()\n",
    "lm_set3.fit(poly_set3_data[var], poly_set3_data[['price']])\n",
    "print lm_set3.coef_\n",
    "print lm_set3.intercept_"
   ]
  },
  {
   "cell_type": "code",
   "execution_count": 104,
   "metadata": {
    "collapsed": false
   },
   "outputs": [
    {
     "name": "stdout",
     "output_type": "stream",
     "text": [
      "[[  1.37116050e-76   2.79679298e-40  -4.25065581e-44   6.00446563e-50\n",
      "    0.00000000e+00   0.00000000e+00   1.27070051e-54   4.87868972e-51\n",
      "    1.73549022e-47   5.47058320e-44   1.39587599e-40   2.25041871e-37\n",
      "   -9.43954119e-41   1.31573060e-44  -6.09160663e-49]]\n",
      "[ 494780.65082273]\n"
     ]
    }
   ],
   "source": [
    "poly_set4_data = polynomial_dataframe(set4_data['sqft_living'], 15)\n",
    "poly_set4_data['price'] = set4_data['price']\n",
    "lm_set4 = linear_model.LinearRegression()\n",
    "lm_set4.fit(poly_set4_data[var], poly_set4_data[['price']])\n",
    "print lm_set4.coef_\n",
    "print lm_set4.intercept_"
   ]
  },
  {
   "cell_type": "code",
   "execution_count": 106,
   "metadata": {
    "collapsed": false
   },
   "outputs": [
    {
     "data": {
      "text/plain": [
       "[<matplotlib.lines.Line2D at 0x1fcf7acd0>]"
      ]
     },
     "execution_count": 106,
     "metadata": {},
     "output_type": "execute_result"
    },
    {
     "data": {
      "image/png": "[encoded data removed]",
      "text/plain": [
       "<matplotlib.figure.Figure at 0x114a24690>"
      ]
     },
     "metadata": {},
     "output_type": "display_data"
    }
   ],
   "source": [
    "plt.plot(poly_set1_data[['power_1']], lm_set1.predict(poly_set1_data[var]),'-')"
   ]
  },
  {
   "cell_type": "code",
   "execution_count": 107,
   "metadata": {
    "collapsed": false
   },
   "outputs": [
    {
     "data": {
      "text/plain": [
       "[<matplotlib.lines.Line2D at 0x3c93a5910>]"
      ]
     },
     "execution_count": 107,
     "metadata": {},
     "output_type": "execute_result"
    },
    {
     "data": {
      "image/png": "[encoded data removed]",
      "text/plain": [
       "<matplotlib.figure.Figure at 0x1fcf94d10>"
      ]
     },
     "metadata": {},
     "output_type": "display_data"
    }
   ],
   "source": [
    "plt.plot(poly_set2_data[['power_1']], lm_set2.predict(poly_set2_data[var]),'-')"
   ]
  },
  {
   "cell_type": "code",
   "execution_count": 108,
   "metadata": {
    "collapsed": false
   },
   "outputs": [
    {
     "data": {
      "text/plain": [
       "[<matplotlib.lines.Line2D at 0x3c9519b90>]"
      ]
     },
     "execution_count": 108,
     "metadata": {},
     "output_type": "execute_result"
    },
    {
     "data": {
      "image/png": "[encoded data removed]",
      "text/plain": [
       "<matplotlib.figure.Figure at 0x11545c510>"
      ]
     },
     "metadata": {},
     "output_type": "display_data"
    }
   ],
   "source": [
    "plt.plot(poly_set3_data[['power_1']], lm_set3.predict(poly_set3_data[var]),'-')"
   ]
  },
  {
   "cell_type": "code",
   "execution_count": 109,
   "metadata": {
    "collapsed": false
   },
   "outputs": [
    {
     "data": {
      "text/plain": [
       "[<matplotlib.lines.Line2D at 0x3c96aadd0>]"
      ]
     },
     "execution_count": 109,
     "metadata": {},
     "output_type": "execute_result"
    },
    {
     "data": {
      "image/png": "[encoded data removed]",
      "text/plain": [
       "<matplotlib.figure.Figure at 0x3c93dab50>"
      ]
     },
     "metadata": {},
     "output_type": "display_data"
    }
   ],
   "source": [
    "plt.plot(poly_set4_data[['power_1']], lm_set4.predict(poly_set4_data[var]),'-')"
   ]
  },
  {
   "cell_type": "code",
   "execution_count": 127,
   "metadata": {
    "collapsed": false
   },
   "outputs": [
    {
     "name": "stdout",
     "output_type": "stream",
     "text": [
      "The 1 degree:\n",
      "price    6.290979e+14\n",
      "dtype: float64\n",
      "The 2 degree:\n",
      "price    6.239551e+14\n",
      "dtype: float64\n",
      "The 3 degree:\n",
      "price    6.258203e+14\n",
      "dtype: float64\n",
      "The 4 degree:\n",
      "price    6.299873e+14\n",
      "dtype: float64\n",
      "The 5 degree:\n",
      "price    6.282384e+14\n",
      "dtype: float64\n",
      "The 6 degree:\n",
      "price    5.662686e+14\n",
      "dtype: float64\n"
     ]
    }
   ],
   "source": [
    "varb = []\n",
    "for i in range(1, 7) :\n",
    "    name = 'power_' + str(i)\n",
    "    varb.append(name)\n",
    "    poly_set_data = polynomial_dataframe(train_data['sqft_living'], i)\n",
    "    poly_set_data['price'] = train_data['price']\n",
    "    lm_set = linear_model.LinearRegression()\n",
    "    lm_set.fit(poly_set_data[varb], poly_set_data[['price']])\n",
    "\n",
    "    poly_vali_data = polynomial_dataframe(valid_data['sqft_living'], i)\n",
    "    poly_vali_data['price'] = valid_data['price']\n",
    "\n",
    "    print 'The %d degree:' % i\n",
    "    RSS = ((poly_vali_data[['price']] - lm_set.predict(poly_vali_data[varb]))**2).sum()\n",
    "    print RSS"
   ]
  },
  {
   "cell_type": "code",
   "execution_count": 120,
   "metadata": {
    "collapsed": false
   },
   "outputs": [
    {
     "data": {
      "text/plain": [
       "pandas.core.series.Series"
      ]
     },
     "execution_count": 120,
     "metadata": {},
     "output_type": "execute_result"
    }
   ],
   "source": [
    "# The 6th degree is the best choice"
   ]
  },
  {
   "cell_type": "code",
   "execution_count": 134,
   "metadata": {
    "collapsed": false
   },
   "outputs": [],
   "source": [
    "poly_test_data = polynomial_dataframe(test_data['sqft_living'], 6)\n",
    "poly_test_data['price'] = test_data['price']\n",
    "RSS = ((poly_test_data[['price']] - lm_set.predict(poly_test_data[varb]))**2).sum()"
   ]
  },
  {
   "cell_type": "code",
   "execution_count": 135,
   "metadata": {
    "collapsed": false
   },
   "outputs": [
    {
     "data": {
      "text/plain": [
       "price    1.352251e+14\n",
       "dtype: float64"
      ]
     },
     "execution_count": 135,
     "metadata": {},
     "output_type": "execute_result"
    }
   ],
   "source": [
    "RSS"
   ]
  },
  {
   "cell_type": "code",
   "execution_count": null,
   "metadata": {
    "collapsed": true
   },
   "outputs": [],
   "source": []
  }
 ],
 "metadata": {
  "kernelspec": {
   "display_name": "Python [Root]",
   "language": "python",
   "name": "Python [Root]"
  },
  "language_info": {
   "codemirror_mode": {
    "name": "ipython",
    "version": 2
   },
   "file_extension": ".py",
   "mimetype": "text/x-python",
   "name": "python",
   "nbconvert_exporter": "python",
   "pygments_lexer": "ipython2",
   "version": "2.7.11"
  }
 },
 "nbformat": 4,
 "nbformat_minor": 0
}
