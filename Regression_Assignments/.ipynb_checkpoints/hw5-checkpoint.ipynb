{
 "cells": [
  {
   "cell_type": "markdown",
   "metadata": {},
   "source": [
    "# Homework 5"
   ]
  },
  {
   "cell_type": "markdown",
   "metadata": {},
   "source": [
    "The designer of assignments prefer 'graphlab', but the mainstream of industry is sklearn. However, they have different outputs for the same model."
   ]
  },
  {
   "cell_type": "code",
   "execution_count": 6,
   "metadata": {
    "collapsed": true
   },
   "outputs": [],
   "source": [
    "import pandas as pd\n",
    "import numpy as np\n",
    "from math import log, sqrt\n",
    "from sklearn import linear_model"
   ]
  },
  {
   "cell_type": "code",
   "execution_count": 13,
   "metadata": {
    "collapsed": true
   },
   "outputs": [],
   "source": [
    "dtype_dict = {'bathrooms':float, 'waterfront':int, 'sqft_above':int, 'sqft_living15':float, 'grade':int, 'yr_renovated':int, 'price':float, 'bedrooms':float, 'zipcode':str, 'long':float, 'sqft_lot15':float, 'sqft_living':float, 'floors':float, 'condition':int, 'lat':float, 'date':str, 'sqft_basement':int, 'yr_built':int, 'id':str, 'sqft_lot':int, 'view':int}"
   ]
  },
  {
   "cell_type": "code",
   "execution_count": 20,
   "metadata": {
    "collapsed": true
   },
   "outputs": [],
   "source": [
    "sales = pd.read_csv('./kc_house_data.csv', dtype = dtype_dict) \n",
    "testing = pd.read_csv('wk3_kc_house_test_data.csv', dtype=dtype_dict)\n",
    "training = pd.read_csv('wk3_kc_house_train_data.csv', dtype=dtype_dict)\n",
    "validation = pd.read_csv('wk3_kc_house_valid_data.csv', dtype=dtype_dict)"
   ]
  },
  {
   "cell_type": "code",
   "execution_count": 15,
   "metadata": {
    "collapsed": false
   },
   "outputs": [],
   "source": [
    "sales['sqft_living_sqrt'] = sales['sqft_living'].apply(sqrt)\n",
    "sales['sqft_lot_sqrt'] = sales['sqft_lot'].apply(sqrt)\n",
    "sales['bedrooms_square'] = sales['bedrooms']*sales['bedrooms']\n",
    "sales['floors_square'] = sales['floors']*sales['floors']"
   ]
  },
  {
   "cell_type": "code",
   "execution_count": 16,
   "metadata": {
    "collapsed": false
   },
   "outputs": [
    {
     "data": {
      "text/plain": [
       "Lasso(alpha=500.0, copy_X=True, fit_intercept=True, max_iter=1000,\n",
       "   normalize=True, positive=False, precompute=False, random_state=None,\n",
       "   selection='cyclic', tol=0.0001, warm_start=False)"
      ]
     },
     "execution_count": 16,
     "metadata": {},
     "output_type": "execute_result"
    }
   ],
   "source": [
    "all_features = ['bedrooms', 'bedrooms_square',\n",
    "            'bathrooms',\n",
    "            'sqft_living', 'sqft_living_sqrt',\n",
    "            'sqft_lot', 'sqft_lot_sqrt',\n",
    "            'floors', 'floors_square',\n",
    "            'waterfront', 'view', 'condition', 'grade',\n",
    "            'sqft_above',\n",
    "            'sqft_basement',\n",
    "            'yr_built', 'yr_renovated']\n",
    "\n",
    "model_all = linear_model.Lasso(alpha=5e2, normalize=True) # set parameters\n",
    "model_all.fit(sales[all_features], sales['price']) # learn weights"
   ]
  },
  {
   "cell_type": "code",
   "execution_count": 19,
   "metadata": {
    "collapsed": false
   },
   "outputs": [
    {
     "data": {
      "text/plain": [
       "array([     0.        ,      0.        ,      0.        ,    134.43931396,\n",
       "            0.        ,      0.        ,      0.        ,      0.        ,\n",
       "            0.        ,      0.        ,  24750.00458561,      0.        ,\n",
       "        61749.10309071,      0.        ,      0.        ,     -0.        ,\n",
       "            0.        ])"
      ]
     },
     "execution_count": 19,
     "metadata": {},
     "output_type": "execute_result"
    }
   ],
   "source": [
    "model_all.coef_"
   ]
  },
  {
   "cell_type": "code",
   "execution_count": 21,
   "metadata": {
    "collapsed": true
   },
   "outputs": [],
   "source": [
    "testing['sqft_living_sqrt'] = testing['sqft_living'].apply(sqrt)\n",
    "testing['sqft_lot_sqrt'] = testing['sqft_lot'].apply(sqrt)\n",
    "testing['bedrooms_square'] = testing['bedrooms']*testing['bedrooms']\n",
    "testing['floors_square'] = testing['floors']*testing['floors']\n",
    "\n",
    "training['sqft_living_sqrt'] = training['sqft_living'].apply(sqrt)\n",
    "training['sqft_lot_sqrt'] = training['sqft_lot'].apply(sqrt)\n",
    "training['bedrooms_square'] = training['bedrooms']*training['bedrooms']\n",
    "training['floors_square'] = training['floors']*training['floors']\n",
    "\n",
    "validation['sqft_living_sqrt'] = validation['sqft_living'].apply(sqrt)\n",
    "validation['sqft_lot_sqrt'] = validation['sqft_lot'].apply(sqrt)\n",
    "validation['bedrooms_square'] = validation['bedrooms']*validation['bedrooms']\n",
    "validation['floors_square'] = validation['floors']*validation['floors']"
   ]
  },
  {
   "cell_type": "code",
   "execution_count": 22,
   "metadata": {
    "collapsed": true
   },
   "outputs": [],
   "source": [
    "l1_penalty = np.logspace(1, 7, num=13)"
   ]
  },
  {
   "cell_type": "code",
   "execution_count": 33,
   "metadata": {
    "collapsed": false
   },
   "outputs": [
    {
     "name": "stdout",
     "output_type": "stream",
     "text": [
      "Test this penalty:\n",
      "10.0\n",
      "3.982133273e+14\n",
      "\n",
      "Test this penalty:\n",
      "31.6227766017\n",
      "3.99041900253e+14\n",
      "\n",
      "Test this penalty:\n",
      "100.0\n",
      "4.29791604073e+14\n",
      "\n",
      "Test this penalty:\n",
      "316.227766017\n",
      "4.63739831045e+14\n",
      "\n",
      "Test this penalty:\n",
      "1000.0\n",
      "6.45898733634e+14\n",
      "\n",
      "Test this penalty:\n",
      "3162.27766017\n",
      "1.22250685943e+15\n",
      "\n",
      "Test this penalty:\n",
      "10000.0\n",
      "1.22250685943e+15\n",
      "\n",
      "Test this penalty:\n",
      "31622.7766017\n",
      "1.22250685943e+15\n",
      "\n",
      "Test this penalty:\n",
      "100000.0\n",
      "1.22250685943e+15\n",
      "\n",
      "Test this penalty:\n",
      "316227.766017\n",
      "1.22250685943e+15\n",
      "\n",
      "Test this penalty:\n",
      "1000000.0\n",
      "1.22250685943e+15\n",
      "\n",
      "Test this penalty:\n",
      "3162277.66017\n",
      "1.22250685943e+15\n",
      "\n",
      "Test this penalty:\n",
      "10000000.0\n",
      "1.22250685943e+15\n",
      "\n"
     ]
    }
   ],
   "source": [
    "def get_RSS(prediction, output):\n",
    "    residual = output - prediction\n",
    "    # square the residuals and add them up\n",
    "    RS = residual*residual\n",
    "    RSS = RS.sum()\n",
    "    return(RSS)\n",
    "\n",
    "for elm in l1_penalty:\n",
    "    print 'Test this penalty:'\n",
    "    RSS = 0\n",
    "    print elm\n",
    "    model = linear_model.Lasso(alpha=elm, normalize=True)\n",
    "    model.fit(training[all_features], training['price']) # learning weights\n",
    "    \n",
    "    predictions=model.predict(validation[all_features])\n",
    "    RSS = get_RSS(predictions, validation['price'])\n",
    "    print RSS\n",
    "    print ''"
   ]
  },
  {
   "cell_type": "markdown",
   "metadata": {},
   "source": [
    "Select 10.0 as the best l1_penalty."
   ]
  },
  {
   "cell_type": "code",
   "execution_count": 41,
   "metadata": {
    "collapsed": false
   },
   "outputs": [
    {
     "name": "stdout",
     "output_type": "stream",
     "text": [
      "9.7244581389e+13\n"
     ]
    }
   ],
   "source": [
    "model = linear_model.Lasso(alpha=10.0, normalize=True)\n",
    "model.fit(testing[all_features], testing['price']) # learning weights\n",
    "    \n",
    "predictions=model.predict(testing[all_features])\n",
    "RSS = get_RSS(predictions, testing['price'])\n",
    "print RSS"
   ]
  },
  {
   "cell_type": "code",
   "execution_count": 42,
   "metadata": {
    "collapsed": false
   },
   "outputs": [
    {
     "data": {
      "text/plain": [
       "17"
      ]
     },
     "execution_count": 42,
     "metadata": {},
     "output_type": "execute_result"
    }
   ],
   "source": [
    "np.count_nonzero(model.coef_) + np.count_nonzero(model.intercept_)"
   ]
  },
  {
   "cell_type": "code",
   "execution_count": 43,
   "metadata": {
    "collapsed": true
   },
   "outputs": [],
   "source": [
    "max_nonzeros = 7"
   ]
  },
  {
   "cell_type": "code",
   "execution_count": 45,
   "metadata": {
    "collapsed": false
   },
   "outputs": [],
   "source": [
    "l1_penalty = np.logspace(1, 4, num=20)"
   ]
  },
  {
   "cell_type": "code",
   "execution_count": 46,
   "metadata": {
    "collapsed": false
   },
   "outputs": [
    {
     "name": "stdout",
     "output_type": "stream",
     "text": [
      "Test this penalty:\n",
      "10.0\n",
      "15\n",
      "\n",
      "Test this penalty:\n",
      "14.3844988829\n",
      "15\n",
      "\n",
      "Test this penalty:\n",
      "20.6913808111\n",
      "15\n",
      "\n",
      "Test this penalty:\n",
      "29.7635144163\n",
      "15\n",
      "\n",
      "Test this penalty:\n",
      "42.8133239872\n",
      "13\n",
      "\n",
      "Test this penalty:\n",
      "61.5848211066\n",
      "12\n",
      "\n",
      "Test this penalty:\n",
      "88.586679041\n",
      "11\n",
      "\n",
      "Test this penalty:\n",
      "127.42749857\n",
      "10\n",
      "\n",
      "Test this penalty:\n",
      "183.298071083\n",
      "7\n",
      "\n",
      "Test this penalty:\n",
      "263.665089873\n",
      "6\n",
      "\n",
      "Test this penalty:\n",
      "379.269019073\n",
      "6\n",
      "\n",
      "Test this penalty:\n",
      "545.559478117\n",
      "6\n",
      "\n",
      "Test this penalty:\n",
      "784.759970351\n",
      "5\n",
      "\n",
      "Test this penalty:\n",
      "1128.83789168\n",
      "3\n",
      "\n",
      "Test this penalty:\n",
      "1623.77673919\n",
      "3\n",
      "\n",
      "Test this penalty:\n",
      "2335.72146909\n",
      "2\n",
      "\n",
      "Test this penalty:\n",
      "3359.81828628\n",
      "1\n",
      "\n",
      "Test this penalty:\n",
      "4832.93023857\n",
      "1\n",
      "\n",
      "Test this penalty:\n",
      "6951.92796178\n",
      "1\n",
      "\n",
      "Test this penalty:\n",
      "10000.0\n",
      "1\n",
      "\n"
     ]
    }
   ],
   "source": [
    "for elm in l1_penalty:\n",
    "    print 'Test this penalty:'\n",
    "    num_nz = 0\n",
    "    print elm\n",
    "    model = linear_model.Lasso(alpha=elm, normalize=True)\n",
    "    model.fit(training[all_features], training['price']) # learning weights\n",
    "    \n",
    "    num_nz = np.count_nonzero(model.coef_) + np.count_nonzero(model.intercept_)\n",
    "    print num_nz\n",
    "    print ''"
   ]
  },
  {
   "cell_type": "code",
   "execution_count": 48,
   "metadata": {
    "collapsed": false
   },
   "outputs": [
    {
     "data": {
      "text/plain": [
       "7"
      ]
     },
     "execution_count": 48,
     "metadata": {},
     "output_type": "execute_result"
    }
   ],
   "source": [
    "l1_penalty_min = 127.42749857\n",
    "10\n",
    "l1_penalty_max = 183.298071083\n",
    "7"
   ]
  },
  {
   "cell_type": "code",
   "execution_count": 50,
   "metadata": {
    "collapsed": false
   },
   "outputs": [],
   "source": [
    "l1_penalty_values = np.linspace(l1_penalty_min,l1_penalty_max,20)"
   ]
  },
  {
   "cell_type": "code",
   "execution_count": 57,
   "metadata": {
    "collapsed": false
   },
   "outputs": [
    {
     "name": "stdout",
     "output_type": "stream",
     "text": [
      "153.892506602\n",
      "4.39820045609e+14\n",
      "7\n",
      "\n",
      "156.833063051\n",
      "4.40111359799e+14\n",
      "7\n",
      "\n",
      "159.773619499\n",
      "4.40410061321e+14\n",
      "7\n",
      "\n",
      "162.714175947\n",
      "4.40717413936e+14\n",
      "7\n",
      "\n",
      "165.654732395\n",
      "4.41033335418e+14\n",
      "7\n",
      "\n",
      "168.595288843\n",
      "4.41357732859e+14\n",
      "7\n",
      "\n",
      "171.535845291\n",
      "4.41690625344e+14\n",
      "7\n",
      "\n",
      "174.476401739\n",
      "4.42032017278e+14\n",
      "7\n",
      "\n",
      "177.416958187\n",
      "4.42381906049e+14\n",
      "7\n",
      "\n",
      "180.357514635\n",
      "4.42740296603e+14\n",
      "7\n",
      "\n",
      "183.298071083\n",
      "4.43107216261e+14\n",
      "7\n",
      "\n"
     ]
    }
   ],
   "source": [
    "for elm in l1_penalty_values:\n",
    "    RSS = 0\n",
    "    predictions = 0\n",
    "    num_nz = 0\n",
    "    model = linear_model.Lasso(alpha=elm, normalize=True)\n",
    "    model.fit(training[all_features], training['price']) # learning weights\n",
    "\n",
    "    predictions=model.predict(validation[all_features])\n",
    "    RSS = get_RSS(predictions,validation['price'])\n",
    "    \n",
    "    num_nz = np.count_nonzero(model.coef_) + np.count_nonzero(model.intercept_)\n",
    "    if num_nz <= 7:\n",
    "        print elm\n",
    "        print RSS\n",
    "        print num_nz\n",
    "        print ''"
   ]
  },
  {
   "cell_type": "code",
   "execution_count": 62,
   "metadata": {
    "collapsed": false
   },
   "outputs": [
    {
     "name": "stdout",
     "output_type": "stream",
     "text": [
      "[ -0.00000000e+00  -0.00000000e+00   1.10742535e+04   1.63235168e+02\n",
      "   0.00000000e+00  -0.00000000e+00  -0.00000000e+00   0.00000000e+00\n",
      "   0.00000000e+00   5.08217547e+05   4.19979732e+04   0.00000000e+00\n",
      "   1.16484911e+05   0.00000000e+00   0.00000000e+00  -2.62835166e+03\n",
      "   0.00000000e+00]\n"
     ]
    }
   ],
   "source": [
    "model_lowest = linear_model.Lasso(alpha = 153.892506602, normalize=True)\n",
    "model_lowest.fit(training[all_features], training['price']) # learning weights\n",
    "\n",
    "print model_lowest.coef_"
   ]
  },
  {
   "cell_type": "code",
   "execution_count": null,
   "metadata": {
    "collapsed": true
   },
   "outputs": [],
   "source": []
  }
 ],
 "metadata": {
  "kernelspec": {
   "display_name": "Python [Root]",
   "language": "python",
   "name": "Python [Root]"
  },
  "language_info": {
   "codemirror_mode": {
    "name": "ipython",
    "version": 2
   },
   "file_extension": ".py",
   "mimetype": "text/x-python",
   "name": "python",
   "nbconvert_exporter": "python",
   "pygments_lexer": "ipython2",
   "version": "2.7.11"
  }
 },
 "nbformat": 4,
 "nbformat_minor": 0
}
